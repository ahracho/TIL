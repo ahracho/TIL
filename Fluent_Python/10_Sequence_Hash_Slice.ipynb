{
  "nbformat": 4,
  "nbformat_minor": 0,
  "metadata": {
    "colab": {
      "name": "10_Sequence_Hash_Slice.ipynb",
      "version": "0.3.2",
      "provenance": [],
      "collapsed_sections": [],
      "include_colab_link": true
    },
    "kernelspec": {
      "name": "python3",
      "display_name": "Python 3"
    }
  },
  "cells": [
    {
      "cell_type": "markdown",
      "metadata": {
        "id": "view-in-github",
        "colab_type": "text"
      },
      "source": [
        "[View in Colaboratory](https://colab.research.google.com/github/ahracho/TIL/blob/master/Fluent_Python/10_Sequence_Hash_Slice.ipynb)"
      ]
    },
    {
      "metadata": {
        "id": "TXm3qhRXGY32",
        "colab_type": "text"
      },
      "cell_type": "markdown",
      "source": [
        "## 10.시퀀스 해킹, 해시, 슬라이스\n",
        "\n",
        "- 기본 시퀀스 프로토콜 : \\_\\_len\\_\\_(), \\_\\_getitem\\_\\_() 메서드\n",
        "- 여러 항목을 가진 객체를 안전하게 표현\n",
        "- 슬라이싱을 지원해서 새로운 벡터 객체 생성\n",
        "- 포함된 요소 값을 모두 고려한 집합 해싱\n",
        "- 커스터마이즈된 포맷 언어 확장\n",
        "\n",
        "\n",
        "### 10.1. Vector : 사용자 정의 시퀀스형\n",
        "\n",
        "상속이 아니라 구성을 이용해서 벡터를 구현하는 것이 목표이다. 요소들을 실수형 배열에 저장하고, 벡터가 불변 균일 시퀀스처럼 동작하게 만들 수 있는 메서드를 구현한다.  \n",
        "\n",
        "### 10.2. Vector 버전 #1 : Vector2d 호환\n",
        "\n"
      ]
    },
    {
      "metadata": {
        "id": "GnwbS_V4GV4C",
        "colab_type": "code",
        "colab": {}
      },
      "cell_type": "code",
      "source": [
        "from array import array\n",
        "import reprlib\n",
        "import math\n",
        "\n",
        "class Vector:\n",
        "  typecode = 'd'\n",
        "  \n",
        "  def __init__(self, components):\n",
        "    self._components = array(self.typecode, components)\n",
        "    \n",
        "  def __iter__(self):\n",
        "    return iter(self._components)\n",
        "  \n",
        "  def __repr__(self):\n",
        "    components = reprlib.repr(self._components)\n",
        "    components = components[components.find('['):-1] # Vector(array('d', [3.0, 4.0])) 모양에서 array('d', ) 부분 삭제\n",
        "    return 'Vector({})'.format(components)\n",
        "  \n",
        "  def __str__(self):\n",
        "    return str(tuple(self))\n",
        "  \n",
        "  def __bytes__(self):\n",
        "    return (bytes([ord(self.typecode)]) + bytes(self._components))\n",
        "  \n",
        "  def __eq__(self, other):\n",
        "    return tuple(self) == tuple(other)\n",
        "  \n",
        "  def __abs__(self):\n",
        "    return math.sqrt(sum(x*x for x in self))\n",
        "  \n",
        "  def __bool__(self):\n",
        "    return bool(abs(self))\n",
        "  \n",
        "  @classmethod\n",
        "  def frombytes(cls, octets):\n",
        "    typecode = chr(octets[0])\n",
        "    memv = memoryview(octets[1:]).cast(typecode)\n",
        "    return cls(memv)\n",
        "   "
      ],
      "execution_count": 0,
      "outputs": []
    },
    {
      "metadata": {
        "id": "EKOrU815ynWD",
        "colab_type": "text"
      },
      "cell_type": "markdown",
      "source": [
        "`reprlib.repr()`는 생략 기호를 이용해서 생성할 문자열의 길이를 제한하여 대형 구조체나 재귀적 구조체도 안전하게 표현한다.   \n",
        "\n",
        "Vector 클래스가 Vector2d를 상속받도록 구현할 수 있었지만 1) 생성자가 호환되지 않고 2) Vector 클래스가 시퀀스 프로토콜을 구현하는 독자적인 예제를 만들기 위해 상속하지 않았다.  \n",
        "\n",
        "\n",
        "### 10.3. 프로토콜과 덕 타이핑\n",
        "\n",
        "파이썬에서는 시퀀스형을 만들기 위해 어떤 특별한 클래스를 상속할 필요 없이 시퀀스 프로토콜에 따르는 메서드를 구현하기만 하면 된다. 예를 들어, 파이썬의 시퀀스 프로토콜은 \\_\\_len\\_\\_(), \\_\\_getitem\\_\\_() 이다.  "
      ]
    },
    {
      "metadata": {
        "id": "2T0r1krkNPzT",
        "colab_type": "code",
        "colab": {}
      },
      "cell_type": "code",
      "source": [
        "# 이 클래스는 코드 상 시퀀스 프로토콜을 따른다고 정의한 곳은 없지만\n",
        "# 시퀀스처럼 동작하기 때문에 시퀀스이다. -> 덕타이핑!!\n",
        "\n",
        "import collections\n",
        "\n",
        "Card = collections.namedtuple('Card', ['rank', 'suit'])\n",
        "\n",
        "class FrenchDeck:\n",
        "  ranks = [str(n) for n in range(2, 11)] + list('JQKA')\n",
        "  suits = 'spades diamonds clubs hearts'.split()\n",
        "  \n",
        "  def __init__(self):\n",
        "    self._cards = [Card(rank, suit) for suit in self.suits for rank in self.ranks]\n",
        "    \n",
        "    \n",
        "  def __len__(self):\n",
        "    return len(self._cards)\n",
        "  \n",
        "  \n",
        "  def __getitem__(self, position):\n",
        "    return self._cards[position]"
      ],
      "execution_count": 0,
      "outputs": []
    },
    {
      "metadata": {
        "id": "VJDxZ2j2IlWg",
        "colab_type": "text"
      },
      "cell_type": "markdown",
      "source": [
        "### 10.4. Vector 버전 #2 : 슬라이스 가능한 시퀀스\n",
        "\n",
        "FrenchDeck 예제에서 self.\\_components를 사용한 것처럼 객체 안에 들어 있는 시퀀스 속성에 위임하면 len, getitem을 다음과 같이 구현할 수 있다.  "
      ]
    },
    {
      "metadata": {
        "id": "m4SJ8Rx6IU-O",
        "colab_type": "code",
        "colab": {}
      },
      "cell_type": "code",
      "source": [
        "class Vector:\n",
        "  typecode = 'd'\n",
        "  \n",
        "  def __init__(self, components):\n",
        "    self._components = array(self.typecode, components)\n",
        "    \n",
        "  def __iter__(self):\n",
        "    return iter(self._components)\n",
        "  \n",
        "  def __repr__(self):\n",
        "    components = reprlib.repr(self._components)\n",
        "    components = components[components.find('['):-1] # Vector(array('d', [3.0, 4.0])) 모양에서 array('d', ) 부분 삭제\n",
        "    return 'Vector({})'.format(components)\n",
        "  \n",
        "  def __str__(self):\n",
        "    return str(tuple(self))\n",
        "  \n",
        "  def __bytes__(self):\n",
        "    return (bytes([ord(self.typecode)]) + bytes(self._components))\n",
        "  \n",
        "  def __eq__(self, other):\n",
        "    return tuple(self) == tuple(other)\n",
        "  \n",
        "  def __abs__(self):\n",
        "    return math.sqrt(sum(x*x for x in self))\n",
        "  \n",
        "  def __bool__(self):\n",
        "    return bool(abs(self))\n",
        "  \n",
        "  \n",
        "  @classmethod\n",
        "  def frombytes(cls, octets):\n",
        "    typecode = chr(octets[0])\n",
        "    memv = memoryview(octets[1:]).cast(typecode)\n",
        "    return cls(memv)\n",
        "   \n",
        "  \n",
        "  def __len__(self):\n",
        "    return len(self._components)\n",
        "  \n",
        "  \n",
        "  def __getitem__(self, index):\n",
        "    return self._components[index]"
      ],
      "execution_count": 0,
      "outputs": []
    },
    {
      "metadata": {
        "id": "cOSvQAOIFeLs",
        "colab_type": "code",
        "colab": {
          "base_uri": "https://localhost:8080/",
          "height": 74
        },
        "outputId": "21d4d7fe-317d-491e-9c8f-f65fa25462c8"
      },
      "cell_type": "code",
      "source": [
        "v1 = Vector([3, 4, 5])\n",
        "\n",
        "print(len(v1))\n",
        "\n",
        "print(v1[0], v1[-1])\n",
        "\n",
        "v7 = Vector(range(7))\n",
        "print(v7[1:4])"
      ],
      "execution_count": 8,
      "outputs": [
        {
          "output_type": "stream",
          "text": [
            "3\n",
            "3.0 5.0\n",
            "array('d', [1.0, 2.0, 3.0])\n"
          ],
          "name": "stdout"
        }
      ]
    },
    {
      "metadata": {
        "id": "4jqMLtXxh2-s",
        "colab_type": "text"
      },
      "cell_type": "markdown",
      "source": [
        "Vector의 슬라이스도 배열이 아니라 Vector 객체가 되도록 수정하는 게 좋겠다. Vector를 슬라이싱해서 생성된 배열은 Vector의 기능을 상실하기 때문이다. Vector를 슬라이싱해서 Vector 객체를 생성하려면, 슬라이싱 연산을 배열에 위임하지 않고 \\_\\_getitem\\_\\_ 메서드가 받은 인수를 분석해서 제대로 처리하도록 해야 한다.  \n",
        "\n",
        "#### 10.4.1. 슬라이싱의 작동 방식"
      ]
    },
    {
      "metadata": {
        "id": "sHTID4xnmqBs",
        "colab_type": "code",
        "colab": {
          "base_uri": "https://localhost:8080/",
          "height": 111
        },
        "outputId": "4c365ed0-ae2a-424d-bae5-5865a00c3ee7"
      },
      "cell_type": "code",
      "source": [
        "class MySeq:\n",
        "  def __getitem__(self, index):\n",
        "    return index\n",
        "  \n",
        "  \n",
        "s = MySeq()\n",
        "\n",
        "print(s[1])\n",
        "print(s[1:4]) # 슬라이스 객체!\n",
        "print(s[1:4:2])\n",
        "print(s[1:4:2, 9])\n",
        "print(s[1:4:2, 7:9])"
      ],
      "execution_count": 9,
      "outputs": [
        {
          "output_type": "stream",
          "text": [
            "1\n",
            "slice(1, 4, None)\n",
            "slice(1, 4, 2)\n",
            "(slice(1, 4, 2), 9)\n",
            "(slice(1, 4, 2), slice(7, 9, None))\n"
          ],
          "name": "stdout"
        }
      ]
    },
    {
      "metadata": {
        "id": "jZ2ECP3InFio",
        "colab_type": "code",
        "colab": {
          "base_uri": "https://localhost:8080/",
          "height": 282
        },
        "outputId": "823121ff-95f5-43aa-d280-5250cb8ad873"
      },
      "cell_type": "code",
      "source": [
        "print(slice) # slice는 내장된 자료형이다!\n",
        "\n",
        "print(dir(slice))\n",
        "\n",
        "print(help(slice.indices))"
      ],
      "execution_count": 11,
      "outputs": [
        {
          "output_type": "stream",
          "text": [
            "<class 'slice'>\n",
            "['__class__', '__delattr__', '__dir__', '__doc__', '__eq__', '__format__', '__ge__', '__getattribute__', '__gt__', '__hash__', '__init__', '__init_subclass__', '__le__', '__lt__', '__ne__', '__new__', '__reduce__', '__reduce_ex__', '__repr__', '__setattr__', '__sizeof__', '__str__', '__subclasshook__', 'indices', 'start', 'step', 'stop']\n",
            "Help on method_descriptor:\n",
            "\n",
            "indices(...)\n",
            "    S.indices(len) -> (start, stop, stride)\n",
            "    \n",
            "    Assuming a sequence of length len, calculate the start and stop\n",
            "    indices, and the stride length of the extended slice described by\n",
            "    S. Out of bounds indices are clipped in a manner consistent with the\n",
            "    handling of normal slices.\n",
            "\n",
            "None\n"
          ],
          "name": "stdout"
        }
      ]
    },
    {
      "metadata": {
        "id": "Tx18r5XgOewv",
        "colab_type": "code",
        "colab": {
          "base_uri": "https://localhost:8080/",
          "height": 55
        },
        "outputId": "2150d80b-302e-4d18-878a-36aa247775c4"
      },
      "cell_type": "code",
      "source": [
        "print(slice(None, 10, 2).indices(5)) # 길이가 5인 시퀀스로 처리하겠다\n",
        "print(slice(-3, None, None).indices(5))"
      ],
      "execution_count": 12,
      "outputs": [
        {
          "output_type": "stream",
          "text": [
            "(0, 5, 2)\n",
            "(2, 5, 1)\n"
          ],
          "name": "stdout"
        }
      ]
    },
    {
      "metadata": {
        "id": "PdX9UgrCH0qK",
        "colab_type": "text"
      },
      "cell_type": "markdown",
      "source": [
        "#### 10.4.2. 슬라이스를 인식하는 \\_\\_getitem\\_\\_()\n",
        "\n",
        "위의 성질을 이용해서 getitem을 수정"
      ]
    },
    {
      "metadata": {
        "id": "oAXaYK_yqsVr",
        "colab_type": "code",
        "colab": {}
      },
      "cell_type": "code",
      "source": [
        "def __getitem__(self, index):\n",
        "  cls = type(self)\n",
        "  if isinstance(index, slice):\n",
        "    return cls(self._components[index])\n",
        "  elif isinstance(index, numbers.Integral):\n",
        "    return self._components[index]\n",
        "  else:\n",
        "    msg = '{cls.__name__} indices must be integrals'\n",
        "    raise TypeError(msg.format(cls=cls))"
      ],
      "execution_count": 0,
      "outputs": []
    },
    {
      "metadata": {
        "id": "aIQOTlz6PLVy",
        "colab_type": "text"
      },
      "cell_type": "markdown",
      "source": [
        "### 10.5.  Vector 버전 #3 : 동적 속성 접근\n",
        "\n",
        "v.x, v.y 처럼 벡터 요소를 이름으로 접근할 수 있도록 수정해보자. @property 데커레이터를 이용해서 ,x, y에 읽기 전용 접근을 제공할 수 있지만 여기서는 \\_\\_getattr\\_\\_() 특별 메서드를 사용한다.\n",
        "\n",
        "속성을 찾지 못하면 인터프리터는 \\_\\_getattr\\_\\_() 메서드를 호출한다. 예를 들어, my_obj.x가 주어지면 먼저 my_obj에 x 속성이 있는지 검사한다. 속성이 없으면 이 객체의 클래스에서 더 검색한다. 그래도 없으면 상속 그래프를 거슬러 올라가면서 x 속성을 찾고 그래도 찾지 못하면 self와 속성명을 문자열로 전달해서 my_obj 클래스에 정의된 \\_\\_getattr\\_\\_()를 호출한다.  "
      ]
    },
    {
      "metadata": {
        "id": "woTXYaeyml5K",
        "colab_type": "code",
        "colab": {}
      },
      "cell_type": "code",
      "source": [
        "shortcut_names = 'xyzt'\n",
        "\n",
        "def __getattr__(self, name):\n",
        "  cls = type(cls)\n",
        "  if len(name) == 1:\n",
        "    pos = cls.shortcut_names.find(name)\n",
        "    if 0 <= pos < len(self._components):\n",
        "      return self._components[pos]\n",
        "    \n",
        "  msg = '{.__name__!r} object has no attribute {!r}'\n",
        "  raise AttributeError(msg.format(cls, name))"
      ],
      "execution_count": 0,
      "outputs": []
    },
    {
      "metadata": {
        "id": "7AI1SkdqOBRa",
        "colab_type": "text"
      },
      "cell_type": "markdown",
      "source": [
        "이렇게 구현할 경우, getitem은 성공적으로 이루어지지만, 새로운 값을 할당하였을 경우 값이 변경되지 않는 문제가 있다. \n",
        "\n",
        "> v.x -> 0.0  \n",
        "> v.x = 10  \n",
        "> v.x -> 10.0  \n",
        "> v -> Vector([0.0, 1.0, 2.0])  \n",
        "\n",
        "속성이 없을 때만 \\_\\_getattr\\_\\_()를 부르기 때문에 v.x에 값을 할당하게 되면 새 속성이 생기면서 이후에는 \\_\\_getattr\\_\\_()이 안 불리는 것. \\_\\_setattr\\_\\_도 같이 수정해주어야."
      ]
    },
    {
      "metadata": {
        "id": "GiuGxUL4J54I",
        "colab_type": "code",
        "colab": {}
      },
      "cell_type": "code",
      "source": [
        "def __setattr__(self, name, value):\n",
        "  cls = type(self)\n",
        "  if len(name) == 1:\n",
        "    if name in cls.shortcut_names:\n",
        "      error = 'readonly attribute {attr_name!r}'\n",
        "    elif name.islower():\n",
        "      error = \"can't set attributes 'a' to 'z' in {cls_name!r}\"\n",
        "    else:\n",
        "      error =''\n",
        "    if error:\n",
        "      msg = error.format(cls_name=cls.__name__, attr_name=name)\n",
        "      raise AttributeError(msg)\n",
        "  super().__setattr__(name, value)"
      ],
      "execution_count": 0,
      "outputs": []
    },
    {
      "metadata": {
        "id": "_DoVouuVx6qF",
        "colab_type": "text"
      },
      "cell_type": "markdown",
      "source": [
        "### 10.6. Vector 버전 #4 : 해싱 및 더 빠른 ==\n",
        "\n",
        "\\_\\_hash\\_\\_() 메서드를 구현하면 Vector 객체를 해시할 수 있게 된다. Hash 값을 계산할 때는 reduce 함수를 사용하면 편하다.  "
      ]
    },
    {
      "metadata": {
        "id": "1VHJ9AXWzviC",
        "colab_type": "code",
        "colab": {}
      },
      "cell_type": "code",
      "source": [
        "import operator\n",
        "functools.reduce(operator.xor, range(6))"
      ],
      "execution_count": 0,
      "outputs": []
    },
    {
      "metadata": {
        "id": "vcwW5iKM2IDV",
        "colab_type": "code",
        "colab": {}
      },
      "cell_type": "code",
      "source": [
        "from array import array\n",
        "import reprlib\n",
        "import math\n",
        "import functools\n",
        "import operator\n",
        "\n",
        "class Vector:\n",
        "  typecode = 'd'\n",
        "  # 중간 코드 생략\n",
        "  \n",
        "  def __eq__(self, other):\n",
        "    return tuple(self) == tuple(other)\n",
        "  \n",
        "  def __hash__(self):\n",
        "    hashes = (hash(x) for x in self._components)\n",
        "    return functools.reduce(operator.xor, hashes, 0)\n",
        "  \n",
        "  # 맵-리듀스 계산\n",
        "  # 맵 단계에서는 각 요소에 대한 해시를 계산하고, 리듀스 단계에서는 xor 연산을 적용한다. \n",
        "  def __hash__(self):\n",
        "    hashes = map(hash, self._components)\n",
        "    return functools.reduce(operator.xor, hashes)"
      ],
      "execution_count": 0,
      "outputs": []
    },
    {
      "metadata": {
        "id": "rASNqwxS38mX",
        "colab_type": "text"
      },
      "cell_type": "markdown",
      "source": [
        "Vector 요소가 적으면 상관없지만 요소가 많아지면 other를 복사하여 비교하기 때문에 비효율적이다. "
      ]
    },
    {
      "metadata": {
        "id": "mHl5pKFo3qfI",
        "colab_type": "code",
        "colab": {}
      },
      "cell_type": "code",
      "source": [
        "def __eq__(self, other):\n",
        "  if len(self) != len(other):\n",
        "    return False\n",
        "  \n",
        "  for a, b in zip(self, other):\n",
        "    if a != b:\n",
        "      return False\n",
        "    \n",
        "  return True\n",
        "\n",
        "\n",
        "def __eq__(self, other):\n",
        "  return len(self) == len(other) and all(a==b for a, b in zip(self, other))"
      ],
      "execution_count": 0,
      "outputs": []
    },
    {
      "metadata": {
        "id": "BZWhhBPb5Vig",
        "colab_type": "text"
      },
      "cell_type": "markdown",
      "source": [
        "### 10.7. Vector 버전 #5 : 포매팅"
      ]
    },
    {
      "metadata": {
        "id": "I9TBogPp8Jwx",
        "colab_type": "code",
        "colab": {}
      },
      "cell_type": "code",
      "source": [
        "def angle(self, n):\n",
        "  r = math.sqrt(sum(x*x for x in self[n:]))\n",
        "  a = math.atan2(r, self[n-1])\n",
        "  if (n == len(self) -1) and (self[-1] < 0):\n",
        "    return math.pi*2 -a\n",
        "  else:\n",
        "    return a\n",
        "  \n",
        "def angles(self):\n",
        "  return (self.angle(n) for n in ragne(1, len(self)))\n",
        "\n",
        "def __format__(self, fmt_spec=''):\n",
        "  if fmt_spec.endswith('h'):\n",
        "    fmt_spec = fmt_spec[:-1]\n",
        "    coords = itertools.chain([abs(self)], self.angles())\n",
        "    outer_fmt = '<{}>'\n",
        "  else:\n",
        "    coords = self\n",
        "    outer_fmt = '({})'\n",
        "    \n",
        "  components = (format(c, fmt_spec) for c in coords)\n",
        "  return outer_fmt.format(', '.join(components))"
      ],
      "execution_count": 0,
      "outputs": []
    }
  ]
}