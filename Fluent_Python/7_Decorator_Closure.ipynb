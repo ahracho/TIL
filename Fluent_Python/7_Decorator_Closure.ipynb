{
  "nbformat": 4,
  "nbformat_minor": 0,
  "metadata": {
    "colab": {
      "name": "7_Decorator_Closure.ipynb",
      "version": "0.3.2",
      "provenance": [],
      "collapsed_sections": []
    },
    "kernelspec": {
      "name": "python3",
      "display_name": "Python 3"
    }
  },
  "cells": [
    {
      "metadata": {
        "id": "TXm3qhRXGY32",
        "colab_type": "text"
      },
      "cell_type": "markdown",
      "source": [
        "## 7. 함수 데커레이터와 클로저\n",
        "함수 데커레이터는 소스 코드에 있는 함수를 '표시'해서 함수의 작동을 개선할 수 있게 해주는데, 이를 잘 사용하려면 클로저를 먼저 알아야 한다.\n",
        "클로저는 콜백을 이용한 효율적인 비동기 프로그래밍와 함수형 스타일을 코딩하는 데에 필수적인 기능이다. \n",
        "\n",
        "\n",
        "### 7.1. 데커레이터 기본 지식\n",
        "\n",
        "데커레이터는 다른 함수를 인수로 받는 콜러블이다. 데커레이터는 데커레이트된 함수에 어떤 처리를 수행하고, 함수를 반환하거나 함수를 다른 함수나 콜러블 객체로 대체한다."
      ]
    },
    {
      "metadata": {
        "id": "GnwbS_V4GV4C",
        "colab_type": "code",
        "colab": {}
      },
      "cell_type": "code",
      "source": [
        "@decorate\n",
        "def target():\n",
        "  print(\"running target()\")\n",
        "  \n",
        "# 위의 구문은 아래와 동일하게 작동한다\n",
        "def target():\n",
        "  print(\"running target()\")\n",
        "\n",
        "target = decorate(target)"
      ],
      "execution_count": 0,
      "outputs": []
    },
    {
      "metadata": {
        "id": "2T0r1krkNPzT",
        "colab_type": "code",
        "colab": {
          "base_uri": "https://localhost:8080/",
          "height": 72
        },
        "outputId": "5ad4e544-e5a0-49ee-bc56-162c5b375c12"
      },
      "cell_type": "code",
      "source": [
        "def deco(func):\n",
        "  def inner():\n",
        "    print(\"running inner()\")\n",
        "  return inner\n",
        "\n",
        "@deco\n",
        "def target():\n",
        "  print(\"running target()\")\n",
        "  \n",
        "print(target())\n",
        "print(target) # <function deco.<locals>.inner at 0x7f1e399ea730> => deco 함수 local에 선언된 inner라는 뜻?"
      ],
      "execution_count": 2,
      "outputs": [
        {
          "output_type": "stream",
          "text": [
            "running inner()\n",
            "None\n",
            "<function deco.<locals>.inner at 0x7f1e399ea730>\n"
          ],
          "name": "stdout"
        }
      ]
    },
    {
      "metadata": {
        "id": "VJDxZ2j2IlWg",
        "colab_type": "text"
      },
      "cell_type": "markdown",
      "source": [
        "### 7.2. 파이썬이 데커레이터를 실행하는 시점\n",
        "\n",
        "데커레이터의 핵심 특징은 데커레이트된 함수가 정의된 직후에 실행된다는 것이다. 이는 일반적으로 파이썬이 모듈을 로딩하는 시점, import time에 실행된다. "
      ]
    },
    {
      "metadata": {
        "id": "m4SJ8Rx6IU-O",
        "colab_type": "code",
        "colab": {
          "base_uri": "https://localhost:8080/",
          "height": 146
        },
        "outputId": "659949fb-1fad-451a-a390-bc94610aef29"
      },
      "cell_type": "code",
      "source": [
        "# registration.py\n",
        "\n",
        "registry = []\n",
        "\n",
        "def register(func):\n",
        "  print(\"running register(%s)\" % func)\n",
        "  registry.append(func)\n",
        "  return func\n",
        "\n",
        "@register\n",
        "def f1():\n",
        "  print(\"running f1()\")\n",
        "  \n",
        "@register\n",
        "def f2():\n",
        "  print(\"running f2()\")\n",
        "  \n",
        "  \n",
        "def f3():\n",
        "  print(\"running f3()\")\n",
        "  \n",
        "def main():\n",
        "  print(\"running main()\")\n",
        "  print(\"registry ->\", registry)\n",
        "  f1() # 명시적으로 호출될 때만 실행된다.\n",
        "  f2()\n",
        "  f3()\n",
        "  \n",
        "  \n",
        "if __name__ == '__main__':\n",
        "  main()\n",
        "  \n",
        "'''\n",
        "running register(<function f1 at 0x7f1e399d9ea0>)  # import 시점에 이미 한번 실행\n",
        "running register(<function f2 at 0x7f1e39a247b8>)\n",
        "running main()\n",
        "registry -> [<function f1 at 0x7f1e399d9ea0>, <function f2 at 0x7f1e39a247b8>]\n",
        "running f1()\n",
        "running f2()\n",
        "running f3()\n",
        "'''\n",
        "\n",
        "import registration # 위의 모듈을 임포트하면 바로 register() 실행"
      ],
      "execution_count": 4,
      "outputs": [
        {
          "output_type": "stream",
          "text": [
            "running register(<function f1 at 0x7f1e399d9ea0>)\n",
            "running register(<function f2 at 0x7f1e39a247b8>)\n",
            "running main()\n",
            "registry -> [<function f1 at 0x7f1e399d9ea0>, <function f2 at 0x7f1e39a247b8>]\n",
            "running f1()\n",
            "running f2()\n",
            "running f3()\n"
          ],
          "name": "stdout"
        }
      ]
    },
    {
      "metadata": {
        "id": "ZqSLg395_5jw",
        "colab_type": "text"
      },
      "cell_type": "markdown",
      "source": [
        "- 일반적으로 데커레이터를 정의하는 모듈과 데커레이터를 적용하는 모듈은 분리해서 구현한다.\n",
        "- register() 데커레이터가 인수로 전달된 함수와 동일한 함수를 반환한다. 실제 코드에서 대부분의 데커레이터는 내부 함수를 정의해서 반환한다."
      ]
    },
    {
      "metadata": {
        "id": "dEEyIDmYAS42",
        "colab_type": "text"
      },
      "cell_type": "markdown",
      "source": [
        "### 7.3. 데커레이터로 개선한 전략 패턴\n",
        "\n",
        "데커레이터를 사용하면 6장의 전자상거래 프로모션 할인 코드를 개선할 수 있다. best_promo 함수에서 promos 리스트에 함수명을 반복해서 사용하는데, 새로운 할인 전략이 추가되었을 때 여기에 누락되면 버그가 발생할 수 있다."
      ]
    },
    {
      "metadata": {
        "id": "Tx18r5XgOewv",
        "colab_type": "code",
        "colab": {}
      },
      "cell_type": "code",
      "source": [
        "promos = [] # 리스트에 promotion 함수들이 임포트 시점에 append\n",
        "\n",
        "def promotion(promo_func):\n",
        "  promos.append(promo_func)\n",
        "  return promo_func\n",
        "\n",
        "@promotion\n",
        "def fidelity(order): \n",
        "    \"\"\"충성도 포인트가 1000점 이상인 고객에게 전체 5% 할인 적용\"\"\"\n",
        "    return order.total() * .05 if order.customer.fidelity >= 1000 else 0\n",
        "    \n",
        "@promotion    \n",
        "def bulk_item(order): \n",
        "    \"\"\"20개 이상의 동일 상품을 구입하면 10% 할인 적용\"\"\"\n",
        "    discount = 0\n",
        "    for item in order.cart:\n",
        "        if item.quantity >= 20:\n",
        "            discount += item.total() * 0.1\n",
        "\n",
        "    return discount\n",
        "    \n",
        "@promotion    \n",
        "def large_order(order): \n",
        "    \"\"\"10종류 이상의 상품을 구입하면 전체 7% 할인 적용\"\"\"\n",
        "    distinct_items = {item.product for item in order.cart}\n",
        "    if len(distinct_items) >= 10:\n",
        "        return order.total() * 0.07\n",
        "    return 0\n",
        "  \n",
        "def best_promo(order):\n",
        "  return max(promo(order) for promo in promos)"
      ],
      "execution_count": 0,
      "outputs": []
    },
    {
      "metadata": {
        "id": "xOkhjBReJ7mw",
        "colab_type": "text"
      },
      "cell_type": "markdown",
      "source": [
        "### 7.4. 변수 범위 규칙\n"
      ]
    },
    {
      "metadata": {
        "id": "GiuGxUL4J54I",
        "colab_type": "code",
        "colab": {}
      },
      "cell_type": "code",
      "source": [
        "def f1(a):\n",
        "  print(a)\n",
        "  print(b) \n",
        "\n",
        "f1(3) # b가 선언되어 있지 않기 때문에 에러\n",
        "  \n",
        "b = 6\n",
        "f1(3) # 정상 동작"
      ],
      "execution_count": 0,
      "outputs": []
    },
    {
      "metadata": {
        "id": "CyPsRx1w-V1N",
        "colab_type": "code",
        "colab": {
          "base_uri": "https://localhost:8080/",
          "height": 358
        },
        "outputId": "797f0b6f-b760-4779-b46c-f043e41f29fa"
      },
      "cell_type": "code",
      "source": [
        "b=7\n",
        "\n",
        "def f2(a):\n",
        "  print(a)\n",
        "  print(b)\n",
        "  b = 9\n",
        "  \n",
        "f2(3) #local variable 'b' referenced before assignment"
      ],
      "execution_count": 7,
      "outputs": [
        {
          "output_type": "stream",
          "text": [
            "3\n"
          ],
          "name": "stdout"
        },
        {
          "output_type": "error",
          "ename": "UnboundLocalError",
          "evalue": "ignored",
          "traceback": [
            "\u001b[0;31m---------------------------------------------------------------------------\u001b[0m",
            "\u001b[0;31mUnboundLocalError\u001b[0m                         Traceback (most recent call last)",
            "\u001b[0;32m<ipython-input-7-3e266b36e49f>\u001b[0m in \u001b[0;36m<module>\u001b[0;34m()\u001b[0m\n\u001b[1;32m      6\u001b[0m   \u001b[0mb\u001b[0m \u001b[0;34m=\u001b[0m \u001b[0;36m9\u001b[0m\u001b[0;34m\u001b[0m\u001b[0m\n\u001b[1;32m      7\u001b[0m \u001b[0;34m\u001b[0m\u001b[0m\n\u001b[0;32m----> 8\u001b[0;31m \u001b[0mf2\u001b[0m\u001b[0;34m(\u001b[0m\u001b[0;36m3\u001b[0m\u001b[0;34m)\u001b[0m\u001b[0;34m\u001b[0m\u001b[0m\n\u001b[0m",
            "\u001b[0;32m<ipython-input-7-3e266b36e49f>\u001b[0m in \u001b[0;36mf2\u001b[0;34m(a)\u001b[0m\n\u001b[1;32m      3\u001b[0m \u001b[0;32mdef\u001b[0m \u001b[0mf2\u001b[0m\u001b[0;34m(\u001b[0m\u001b[0ma\u001b[0m\u001b[0;34m)\u001b[0m\u001b[0;34m:\u001b[0m\u001b[0;34m\u001b[0m\u001b[0m\n\u001b[1;32m      4\u001b[0m   \u001b[0mprint\u001b[0m\u001b[0;34m(\u001b[0m\u001b[0ma\u001b[0m\u001b[0;34m)\u001b[0m\u001b[0;34m\u001b[0m\u001b[0m\n\u001b[0;32m----> 5\u001b[0;31m   \u001b[0mprint\u001b[0m\u001b[0;34m(\u001b[0m\u001b[0mb\u001b[0m\u001b[0;34m)\u001b[0m\u001b[0;34m\u001b[0m\u001b[0m\n\u001b[0m\u001b[1;32m      6\u001b[0m   \u001b[0mb\u001b[0m \u001b[0;34m=\u001b[0m \u001b[0;36m9\u001b[0m\u001b[0;34m\u001b[0m\u001b[0m\n\u001b[1;32m      7\u001b[0m \u001b[0;34m\u001b[0m\u001b[0m\n",
            "\u001b[0;31mUnboundLocalError\u001b[0m: local variable 'b' referenced before assignment"
          ]
        }
      ]
    },
    {
      "metadata": {
        "id": "LveWqP1CEjjX",
        "colab_type": "text"
      },
      "cell_type": "markdown",
      "source": [
        "파이썬이 함수 본체를 컴파일할 때 b가 함수 안에서 할당되므로 b를 지역변수로 판단한다. 파이썬은 변수가 선언되어 있기를 요구하지 않지만, 함수 본체 안에서 할당된 변수는 지역 변수로 판단한다. 함수 안에 할당하는 문장이 있지만 인터프리터가 b를 전역 변수로 다루기 원한다면, global 키워드를 사용해야한다."
      ]
    },
    {
      "metadata": {
        "id": "X1wO3fJ2FCFy",
        "colab_type": "code",
        "colab": {
          "base_uri": "https://localhost:8080/",
          "height": 201
        },
        "outputId": "030a01a8-31c6-4ebd-ba74-488ed45c61f3"
      },
      "cell_type": "code",
      "source": [
        "b=7\n",
        "\n",
        "def f2(a):\n",
        "  global b\n",
        "  print(a)\n",
        "  print(b)\n",
        "  b = 9 # 전역의 b를 9로 바꿈\n",
        "  print(b) \n",
        "  print()\n",
        "  \n",
        "f2(3)\n",
        "print(b)\n",
        "f2(3)\n",
        "b=30\n",
        "print(b)"
      ],
      "execution_count": 11,
      "outputs": [
        {
          "output_type": "stream",
          "text": [
            "3\n",
            "7\n",
            "9\n",
            "\n",
            "9\n",
            "3\n",
            "9\n",
            "9\n",
            "\n",
            "30\n"
          ],
          "name": "stdout"
        }
      ]
    },
    {
      "metadata": {
        "id": "u0k-rNZjLGo4",
        "colab_type": "text"
      },
      "cell_type": "markdown",
      "source": [
        "### 7.5. 클로저\n",
        "\n",
        "클로저는 함수 본체에서 정의하지 않고 참조하는 비전역 변수를 포함한 확장 범위를 가진 함수이다. 클로저를 사용하면 함수 본체 외부에 정의된 비전역 변수에 접근할 수 있다."
      ]
    },
    {
      "metadata": {
        "id": "VhKeg3KSKsAK",
        "colab_type": "code",
        "colab": {
          "base_uri": "https://localhost:8080/",
          "height": 72
        },
        "outputId": "e3f62a0f-8f27-4af8-d03f-bb766fef62d2"
      },
      "cell_type": "code",
      "source": [
        "class Averager() :\n",
        "  def __init__(self):\n",
        "    self.series = []\n",
        "    \n",
        "  def __call__(self, new_value):\n",
        "    self.series.append(new_value)\n",
        "    total = sum(self.series)\n",
        "    return total / len(self.series)\n",
        "  \n",
        "  \n",
        "avg = Averager()\n",
        "print(avg(10))\n",
        "print(avg(11))\n",
        "print(avg(12))"
      ],
      "execution_count": 13,
      "outputs": [
        {
          "output_type": "stream",
          "text": [
            "10.0\n",
            "10.5\n",
            "11.0\n"
          ],
          "name": "stdout"
        }
      ]
    },
    {
      "metadata": {
        "id": "jVgKDkxMHVfx",
        "colab_type": "code",
        "colab": {
          "base_uri": "https://localhost:8080/",
          "height": 72
        },
        "outputId": "d55d1aef-0aa1-401c-9dae-4651d189a08d"
      },
      "cell_type": "code",
      "source": [
        "def make_averager():\n",
        "  # 지역함수이기 때문에 리턴하면 없어질텐데?\n",
        "  series = [] # => 자유변수 : 지역 범위에 바인딩되어 있지 않은 변수\n",
        "  \n",
        "  def average(new_value):\n",
        "    series.append(new_value)\n",
        "    total = sum(series)\n",
        "    return total / len(series)\n",
        "  \n",
        "  return averager\n",
        "\n",
        "\n",
        "avg = make_averager() # 내부 함수 avearge\n",
        "print(avg(10))\n",
        "print(avg(11))\n",
        "print(avg(12))"
      ],
      "execution_count": 14,
      "outputs": [
        {
          "output_type": "stream",
          "text": [
            "10.0\n",
            "10.5\n",
            "11.0\n"
          ],
          "name": "stdout"
        }
      ]
    },
    {
      "metadata": {
        "id": "aKzKpkIvKdE-",
        "colab_type": "code",
        "colab": {
          "base_uri": "https://localhost:8080/",
          "height": 90
        },
        "outputId": "97fbf591-e975-47c4-ef80-05a08eb2418a"
      },
      "cell_type": "code",
      "source": [
        "print(avg.__code__.co_varnames)\n",
        "print(avg.__code__.co_freevars)\n",
        "print(avg.__closure__) \n",
        "\n",
        "# series에 대한 바인딩은 avg() 함수의 __closure__ 속성에 저장된다\n",
        "print(avg.__closure__[0].cell_contents)"
      ],
      "execution_count": 18,
      "outputs": [
        {
          "output_type": "stream",
          "text": [
            "('new_value', 'total')\n",
            "('series',)\n",
            "(<cell at 0x7f1e39a45a68: list object at 0x7f1e399e4ec8>,)\n",
            "[10, 11, 12]\n"
          ],
          "name": "stdout"
        }
      ]
    },
    {
      "metadata": {
        "id": "YK0Oc-peNvbE",
        "colab_type": "text"
      },
      "cell_type": "markdown",
      "source": [
        "### 7.6. nonlocal 선언"
      ]
    },
    {
      "metadata": {
        "id": "EjxlKlN4Mx3F",
        "colab_type": "code",
        "colab": {}
      },
      "cell_type": "code",
      "source": [
        "def make_averager():\n",
        "  count = 0\n",
        "  total = 0\n",
        "  \n",
        "  def averager(new_value):\n",
        "    count += 1\n",
        "    total += new_value\n",
        "    return total/count\n",
        "  \n",
        "  return averager\n",
        "\n",
        "avg = make_averager()\n",
        "avg(10) # UnboundLocalError: local variable 'count' referenced before assignment"
      ],
      "execution_count": 0,
      "outputs": []
    },
    {
      "metadata": {
        "id": "IDScOKoJNIGZ",
        "colab_type": "text"
      },
      "cell_type": "markdown",
      "source": [
        "위의 예제에서 averager() 함수에서 count, total에 할당 연산이 일어나기 때문에 파이썬은 이들을 함수 내의 지역변수라고 인식한다. 앞선 예제에서 series 변수에 할당을 하지 않았기 때문에 이 문제가 생기지 않았다. \n",
        "\n",
        "그렇다면 숫자, 문자열, 튜플 등 불변형은 읽을 수만 있고 값을 갱신할 수 없는 것인가? 너무 사용성이 떨어지는데? 이 문제를 해결하기 위해서 파이썬 3에서 nonlocal이라는 선언이 추가되었다. 변수를 nonlocal로 선언하면 함수 안에서 변수에 새로운 값을 할당하더라도 그 변수는 자유 변수임을 나타낸다."
      ]
    },
    {
      "metadata": {
        "id": "mN0uVl-XNxix",
        "colab_type": "code",
        "colab": {
          "base_uri": "https://localhost:8080/",
          "height": 35
        },
        "outputId": "4b51829d-c4b8-4db4-9e46-a99b20dc486c"
      },
      "cell_type": "code",
      "source": [
        "def make_averager():\n",
        "  count = 0\n",
        "  total = 0\n",
        "  \n",
        "  def averager(new_value):\n",
        "    nonlocal count, total\n",
        "    count += 1\n",
        "    total += new_value\n",
        "    return total/count\n",
        "  \n",
        "  return averager\n",
        "\n",
        "avg = make_averager()\n",
        "avg(10) # UnboundLocalError: local variable 'count' referenced before assignment"
      ],
      "execution_count": 20,
      "outputs": [
        {
          "output_type": "execute_result",
          "data": {
            "text/plain": [
              "10.0"
            ]
          },
          "metadata": {
            "tags": []
          },
          "execution_count": 20
        }
      ]
    },
    {
      "metadata": {
        "id": "uJKNN4CsPHgL",
        "colab_type": "text"
      },
      "cell_type": "markdown",
      "source": [
        "### 7.7 간단한 데커레이터 구현하기\n"
      ]
    },
    {
      "metadata": {
        "id": "1pSdW_icOaOr",
        "colab_type": "code",
        "colab": {}
      },
      "cell_type": "code",
      "source": [
        "import time\n",
        "\n",
        "def clock(func):\n",
        "  def clocked(*args):\n",
        "    t0 = time.perf_counter()\n",
        "    result = func(*args)\n",
        "    elapsed = time.perf_counter()\n",
        "    name = func.__name__\n",
        "    arg_str = ', '.join(repr(arg) for arg in args)\n",
        "    print('[%0.8fs] %s(%s) -> %r' % (elapsed, name, arg_str, result))\n",
        "    return result\n",
        "  \n",
        "  return clocked"
      ],
      "execution_count": 0,
      "outputs": []
    },
    {
      "metadata": {
        "id": "Zu5DqOErRPYT",
        "colab_type": "code",
        "colab": {
          "base_uri": "https://localhost:8080/",
          "height": 201
        },
        "outputId": "79d3a97e-7d58-4d8a-ba9b-c29eac14358f"
      },
      "cell_type": "code",
      "source": [
        "# clockdeco_demo.py\n",
        "\n",
        "@clock\n",
        "def snooze(seconds):\n",
        "  time.sleep(seconds)\n",
        "  \n",
        "@clock\n",
        "def factorial(n):\n",
        "  return 1 if n <2 else n*factorial(n-1)\n",
        "\n",
        "if __name__ == \"__main__\":\n",
        "  print(\"*\" * 40, 'Calling snooze(.123)')\n",
        "  snooze(.123)\n",
        "  print(\"*\" * 40, 'Calling factorial(6)')\n",
        "  print(\"6! = \", factorial(6))"
      ],
      "execution_count": 26,
      "outputs": [
        {
          "output_type": "stream",
          "text": [
            "**************************************** Calling snooze(.123)\n",
            "[5977.26167964s] snooze(0.123) -> None\n",
            "**************************************** Calling factorial(6)\n",
            "[5977.26233413s] factorial(1) -> 1\n",
            "[5977.26238277s] factorial(2) -> 2\n",
            "[5977.26248188s] factorial(3) -> 6\n",
            "[5977.26252821s] factorial(4) -> 24\n",
            "[5977.26268006s] factorial(5) -> 120\n",
            "[5977.26277453s] factorial(6) -> 720\n",
            "6! =  720\n"
          ],
          "name": "stdout"
        }
      ]
    },
    {
      "metadata": {
        "id": "TbvCwgztSRuG",
        "colab_type": "code",
        "colab": {
          "base_uri": "https://localhost:8080/",
          "height": 35
        },
        "outputId": "06b95299-8855-4c13-f971-56608d60dbd0"
      },
      "cell_type": "code",
      "source": [
        "factorial.__name__ # 인터프리터가 clock 함수를 거쳐 factorial에 clocked를 할당"
      ],
      "execution_count": 28,
      "outputs": [
        {
          "output_type": "execute_result",
          "data": {
            "text/plain": [
              "'clocked'"
            ]
          },
          "metadata": {
            "tags": []
          },
          "execution_count": 28
        }
      ]
    },
    {
      "metadata": {
        "id": "eQZ2EyXoWTXr",
        "colab_type": "code",
        "colab": {}
      },
      "cell_type": "code",
      "source": [
        "# 위의 구현은 키워드 인수를 받지 못하고,\n",
        "# 기존의 __name__과 __doc__ 속성을 가려버리는 문제가 있다.\n",
        "\n",
        "import functools\n",
        "\n",
        "def clock(func):\n",
        "  @functools.wraps(func)\n",
        "  def clocked(*args, **kwargs):\n",
        "    t0 = time.time()\n",
        "    result = func(*args, **kwargs)\n",
        "    elapsed = time.time()\n",
        "    name = func.__name__\n",
        "    arg_list = []\n",
        "    if args:\n",
        "      arg_list.append(\", \".join(repr(arg) for arg in args))\n",
        "    if kwargs:\n",
        "      pairs = [\"%s=%s\" % (k, w) for k, w in sorted(kwargs.items())]\n",
        "      arg_list.append(\", \".join(pairs))\n",
        "      \n",
        "    arg_str = ', '.join(arg_list)\n",
        "    print('[%0.8fs] %s(%s) -> %r' % (elapsed, name, arg_str, result))\n",
        "    return result\n",
        "  return clocked\n",
        "      \n",
        "    "
      ],
      "execution_count": 0,
      "outputs": []
    },
    {
      "metadata": {
        "id": "e1JzSHCVTjm-",
        "colab_type": "text"
      },
      "cell_type": "markdown",
      "source": [
        "### 7.8. 표준 라이브러리에서 제공하는 데커레이터\n",
        "\n",
        "#### 7.8.1. functools.lru_cache()를 이용한 메모이제이션\n",
        "메모이제이션은 이전에 실행한 값비싼 함수의 결과를 저장함으로써 이전에 사용된 인수에 대해 다시 계산할 필요가 없게 해준다. LRU(Least Recently Used) 즉, 오랫동안 사용하지 않은 항목을 버림으로써 캐시가 무한정 커지지 않게 해준다."
      ]
    },
    {
      "metadata": {
        "id": "s-rlpC0vE3HZ",
        "colab_type": "code",
        "colab": {
          "base_uri": "https://localhost:8080/",
          "height": 495
        },
        "outputId": "0615b6d8-43e9-44a0-cdcf-05dd9e766916"
      },
      "cell_type": "code",
      "source": [
        "@clock\n",
        "def fibonacci(n):\n",
        "  if n < 2:\n",
        "    return n\n",
        "  return fibonacci(n-2) + fibonacci(n-1)\n",
        "\n",
        "if __name__ == \"__main__\":\n",
        "  print(fibonacci(6)) # fibonacci(1), fibonacci(2)가 불필요하게 많이 호출됨"
      ],
      "execution_count": 31,
      "outputs": [
        {
          "output_type": "stream",
          "text": [
            "[1533527806.72174120s] fibonacci(0) -> 0\n",
            "[1533527806.72635269s] fibonacci(1) -> 1\n",
            "[1533527806.72674203s] fibonacci(2) -> 1\n",
            "[1533527806.72694492s] fibonacci(1) -> 1\n",
            "[1533527806.72719836s] fibonacci(0) -> 0\n",
            "[1533527806.72734833s] fibonacci(1) -> 1\n",
            "[1533527806.72748566s] fibonacci(2) -> 1\n",
            "[1533527806.72762823s] fibonacci(3) -> 2\n",
            "[1533527806.72776341s] fibonacci(4) -> 3\n",
            "[1533527806.72793698s] fibonacci(1) -> 1\n",
            "[1533527806.72807503s] fibonacci(0) -> 0\n",
            "[1533527806.72811627s] fibonacci(1) -> 1\n",
            "[1533527806.72825551s] fibonacci(2) -> 1\n",
            "[1533527806.72830558s] fibonacci(3) -> 2\n",
            "[1533527806.72886586s] fibonacci(0) -> 0\n",
            "[1533527806.72900820s] fibonacci(1) -> 1\n",
            "[1533527806.72905993s] fibonacci(2) -> 1\n",
            "[1533527806.72916770s] fibonacci(1) -> 1\n",
            "[1533527806.72930431s] fibonacci(0) -> 0\n",
            "[1533527806.72935534s] fibonacci(1) -> 1\n",
            "[1533527806.72945404s] fibonacci(2) -> 1\n",
            "[1533527806.72950196s] fibonacci(3) -> 2\n",
            "[1533527806.72959733s] fibonacci(4) -> 3\n",
            "[1533527806.72972655s] fibonacci(5) -> 5\n",
            "[1533527806.72976756s] fibonacci(6) -> 8\n",
            "8\n"
          ],
          "name": "stdout"
        }
      ]
    },
    {
      "metadata": {
        "id": "oSlrSYNBUUh5",
        "colab_type": "code",
        "colab": {
          "base_uri": "https://localhost:8080/",
          "height": 164
        },
        "outputId": "75c618f5-6866-40ff-8f4e-4914d4e368ab"
      },
      "cell_type": "code",
      "source": [
        "@functools.lru_cache() # 데커레이터를 일반함수처럼 호출해야 한다\n",
        "def fibonacci(n):\n",
        "  if n < 2:\n",
        "    return n\n",
        "  return fibonacci(n-2) + fibonacci(n-1)\n",
        "\n",
        "if __name__ == \"__main__\":\n",
        "  print(fibonacci(6)) # fibonacci(1), fibonacci(2)가 불필요하게 많이 호출됨"
      ],
      "execution_count": 32,
      "outputs": [
        {
          "output_type": "stream",
          "text": [
            "[1533527895.21098161s] fibonacci(0) -> 0\n",
            "[1533527895.21234250s] fibonacci(1) -> 1\n",
            "[1533527895.21249151s] fibonacci(2) -> 1\n",
            "[1533527895.21263933s] fibonacci(3) -> 2\n",
            "[1533527895.21544814s] fibonacci(4) -> 3\n",
            "[1533527895.21624732s] fibonacci(5) -> 5\n",
            "[1533527895.21635771s] fibonacci(6) -> 8\n",
            "8\n"
          ],
          "name": "stdout"
        }
      ]
    },
    {
      "metadata": {
        "id": "JJowMXQYZMg4",
        "colab_type": "text"
      },
      "cell_type": "markdown",
      "source": [
        "`functools.lru_cache(maxsize=128, typed=False)` 가 전체 함수 모양 => 두개의 선택적 인수를 이용해서 설정할 수 있다. \n",
        "maxsize는 얼마나 많은 호출을 저장할지 결정한다. typed가 True로 설정된 경우 인수의 자료형이 다르면 결과를 따로 저장한다."
      ]
    },
    {
      "metadata": {
        "id": "UoPC4aFNZ5NF",
        "colab_type": "text"
      },
      "cell_type": "markdown",
      "source": [
        "#### 7.8.2. 단일 디스패치를 이용한 범용 함수\n"
      ]
    },
    {
      "metadata": {
        "id": "xHuGmdcWaMQp",
        "colab_type": "code",
        "colab": {}
      },
      "cell_type": "code",
      "source": [
        "import html\n",
        "def htmlize(obj):\n",
        "  content = html.escape(repr(obj))\n",
        "  return '<pre>{}</pre>'.format(content)"
      ],
      "execution_count": 0,
      "outputs": []
    },
    {
      "metadata": {
        "id": "81Y06HPkUlwv",
        "colab_type": "code",
        "colab": {
          "base_uri": "https://localhost:8080/",
          "height": 109
        },
        "outputId": "8a9d1ca0-df81-4d9f-f25e-2dd915433323"
      },
      "cell_type": "code",
      "source": [
        "# 자료형 타입에 따라서 다르게 인코딩하고 싶어\n",
        "# but 파이썬에서는 메서드나 함수의 오버로딩을 지원하지 않으므로 자료형별로 다른 htmlize를 생성할 수 없다\n",
        "# if/else로 처리하기에도 코드가 너무 커지기 때문에 비효율적이다\n",
        "\n",
        "print(htmlize({1,2,3}))\n",
        "print(htmlize(abs))\n",
        "print(htmlize(\"Heimlich & Co.\\n- a game\"))\n",
        "print(htmlize(42))\n",
        "print(htmlize(['alpha', 66, {3, 2, 1}]))"
      ],
      "execution_count": 35,
      "outputs": [
        {
          "output_type": "stream",
          "text": [
            "<pre>{1, 2, 3}</pre>\n",
            "<pre>&lt;built-in function abs&gt;</pre>\n",
            "<pre>&#x27;Heimlich &amp; Co.\\n- a game&#x27;</pre>\n",
            "<pre>42</pre>\n",
            "<pre>[&#x27;alpha&#x27;, 66, {1, 2, 3}]</pre>\n"
          ],
          "name": "stdout"
        }
      ]
    },
    {
      "metadata": {
        "id": "dppsALSrchgn",
        "colab_type": "code",
        "colab": {}
      },
      "cell_type": "code",
      "source": [
        "from functools import singledispatch\n",
        "from collections import abc\n",
        "import numbers\n",
        "import html\n",
        "\n",
        "# 객체형을 다룰 기반 함수\n",
        "@singledispatch \n",
        "def htmlize(obj): \n",
        "  content = html.escape(repr(obj))\n",
        "  return '<pre>{}</pre>'.format(content)\n",
        "\n",
        "# 기반함수.register(객체형)\n",
        "@htmlize.register(str)\n",
        "def _(text):\n",
        "  content = html.escape(text).replace('\\n', \"<br>\\n\")\n",
        "  return '<p>{}</p>'.format(content)\n",
        "\n",
        "@htmlize.register(numbers.Integral)\n",
        "def _(n):\n",
        "  return '<pre>{0} (0x{0:x})</pre>'.format(n)\n",
        "\n",
        "# 같은 함수로 여러 자료형을 처리하고 싶을 때\n",
        "@htmlize.register(tuple)\n",
        "@htmlize.register(abc.MutableSequence)\n",
        "def _(seq):\n",
        "  inner = '<li>\\n</li>'.join(htmlize(item) for item in seq)\n",
        "  return \"<ul>\\n<li>\"+inner+\"</li>\\n</ul>\"\n",
        "\n",
        "  "
      ],
      "execution_count": 0,
      "outputs": []
    },
    {
      "metadata": {
        "id": "adtC4xgdeDoA",
        "colab_type": "code",
        "colab": {
          "base_uri": "https://localhost:8080/",
          "height": 201
        },
        "outputId": "a36559ec-ac3a-462b-bf3c-4c91cd723f97"
      },
      "cell_type": "code",
      "source": [
        "print(htmlize({1,2,3}))\n",
        "print(htmlize(abs))\n",
        "print(htmlize(\"Heimlich & Co.\\n- a game\"))\n",
        "print(htmlize(42))\n",
        "print(htmlize(['alpha', 66, {3, 2, 1}]))"
      ],
      "execution_count": 38,
      "outputs": [
        {
          "output_type": "stream",
          "text": [
            "<pre>{1, 2, 3}</pre>\n",
            "<pre>&lt;built-in function abs&gt;</pre>\n",
            "<p>Heimlich &amp; Co.<br>\n",
            "- a game</p>\n",
            "<pre>42 (0x2a)</pre>\n",
            "<ul>\n",
            "<li><p>alpha</p><li>\n",
            "</li><pre>66 (0x42)</pre><li>\n",
            "</li><pre>{1, 2, 3}</pre></li>\n",
            "</ul>\n"
          ],
          "name": "stdout"
        }
      ]
    },
    {
      "metadata": {
        "id": "z_BqDNSwUeXJ",
        "colab_type": "text"
      },
      "cell_type": "markdown",
      "source": [
        "### 7.9. 누적된 데커레이터\n",
        "\n",
        "하나의 함수 f()에 두 데커레이터 @d1과 @d2를 차례대로 적용하면, `f = d1(d2(f))`와 동일하다.\n",
        "\n",
        "\n",
        "### 7.10. 매개변수화된 데커레이터\n",
        "다른 인수를 받는 데커레이터를 만들 수 있을까?\n",
        "\n",
        "#### 7.10.1. 매개변수화된 등록 데커레이터\n",
        "register 함수에 activate 인수를 만들도록 해보자. 새로 만든 register는 개념적으로 데커레이터가 아니라 데커레이터 팩토리이다. 호출되면 대상 함수에 적용할 실제 데커레이터를 반환하기 때문이다."
      ]
    },
    {
      "metadata": {
        "id": "YSweItEvTih8",
        "colab_type": "code",
        "colab": {
          "base_uri": "https://localhost:8080/",
          "height": 72
        },
        "outputId": "6c92ca97-799d-4e5f-da38-0cbb1f63989e"
      },
      "cell_type": "code",
      "source": [
        "registry = set()\n",
        "\n",
        "def register(activate=True):\n",
        "  def decorate(func):\n",
        "    print(\"running register(activate=%s)->decorate(%s)\" % (activate, func))\n",
        "    if activate:\n",
        "      registry.add(func)\n",
        "    else :\n",
        "      registry.discard(func)\n",
        "      \n",
        "    return func\n",
        "  return decorate\n",
        "\n",
        "@register(activate=False)\n",
        "def f1():\n",
        "  print(\"running f1()\")\n",
        "  \n",
        "@register()\n",
        "def f2():\n",
        "  print(\"running f2()\")\n",
        "  \n",
        "def f3():\n",
        "  print(\"running f3()\")\n",
        "  \n",
        "print(registry)"
      ],
      "execution_count": 42,
      "outputs": [
        {
          "output_type": "stream",
          "text": [
            "running register(activate=False)->decorate(<function f1 at 0x7f1e39a0de18>)\n",
            "running register(activate=True)->decorate(<function f2 at 0x7f1e39a242f0>)\n",
            "{<function f2 at 0x7f1e39a242f0>}\n"
          ],
          "name": "stdout"
        }
      ]
    },
    {
      "metadata": {
        "id": "mjIYfUlJh2Eu",
        "colab_type": "code",
        "colab": {
          "base_uri": "https://localhost:8080/",
          "height": 127
        },
        "outputId": "57215d1e-7d94-4126-92c3-5f289b758f4d"
      },
      "cell_type": "code",
      "source": [
        "print(register()(f3))\n",
        "print(registry)\n",
        "print(register(activate=False)(f2))\n",
        "print(registry)\n"
      ],
      "execution_count": 43,
      "outputs": [
        {
          "output_type": "stream",
          "text": [
            "running register(activate=True)->decorate(<function f3 at 0x7f1e399eae18>)\n",
            "<function f3 at 0x7f1e399eae18>\n",
            "{<function f3 at 0x7f1e399eae18>, <function f2 at 0x7f1e39a242f0>}\n",
            "running register(activate=False)->decorate(<function f2 at 0x7f1e39a242f0>)\n",
            "<function f2 at 0x7f1e39a242f0>\n",
            "{<function f3 at 0x7f1e399eae18>}\n"
          ],
          "name": "stdout"
        }
      ]
    },
    {
      "metadata": {
        "id": "N5uNu-ytiHdN",
        "colab_type": "text"
      },
      "cell_type": "markdown",
      "source": [
        "#### 7.10.2. 매개변수화된 clock 데커레이터\n"
      ]
    },
    {
      "metadata": {
        "id": "v44XlXCGXv_C",
        "colab_type": "code",
        "colab": {
          "base_uri": "https://localhost:8080/",
          "height": 72
        },
        "outputId": "0722c507-0457-4d36-ced6-bcc8b2fbb09c"
      },
      "cell_type": "code",
      "source": [
        "import time\n",
        "DEFAULT_FMT = '[{elapsed: 0.8f}s] {name}({args}) -> {result}'\n",
        "\n",
        "def clock(fmt=DEFAULT_FMT):\n",
        "  def decorate(func):\n",
        "    def clocked(*args):\n",
        "      t0 = time.time()\n",
        "      _result = func(*args)\n",
        "      elapsed = time.time()\n",
        "      name = func.__name__\n",
        "      arg_str = ', '.join(repr(arg) for arg in args)\n",
        "      result = repr(_result)\n",
        "      print(fmt.format(**locals()))\n",
        "      return _result\n",
        "    return clocked\n",
        "  return decorate\n",
        "\n",
        "\n",
        "if __name__ == \"__main__\":\n",
        "  @clock()\n",
        "  def snooze(seconds):\n",
        "    time.sleep(seconds)\n",
        "    \n",
        "  for i in range(3):\n",
        "    snooze(.123)"
      ],
      "execution_count": 47,
      "outputs": [
        {
          "output_type": "stream",
          "text": [
            "[ 1533530966.02932167s] snooze((0.123,)) -> None\n",
            "[ 1533530966.15277147s] snooze((0.123,)) -> None\n",
            "[ 1533530966.27618623s] snooze((0.123,)) -> None\n"
          ],
          "name": "stdout"
        }
      ]
    },
    {
      "metadata": {
        "id": "QjmjSDy-ktzQ",
        "colab_type": "code",
        "colab": {
          "base_uri": "https://localhost:8080/",
          "height": 72
        },
        "outputId": "27b64bb6-0e1e-47fd-a0c8-84fc2572f3ef"
      },
      "cell_type": "code",
      "source": [
        "@clock('{name}: {elapsed}s')\n",
        "def snooze(seconds):\n",
        "  time.sleep(seconds)\n",
        "  \n",
        "for i in range(3):\n",
        "  snooze(.123)"
      ],
      "execution_count": 48,
      "outputs": [
        {
          "output_type": "stream",
          "text": [
            "snooze: 1533531121.2064767s\n",
            "snooze: 1533531121.3299048s\n",
            "snooze: 1533531121.4533782s\n"
          ],
          "name": "stdout"
        }
      ]
    },
    {
      "metadata": {
        "id": "3v2smTT4lE7a",
        "colab_type": "code",
        "colab": {
          "base_uri": "https://localhost:8080/",
          "height": 72
        },
        "outputId": "4df6caa4-a9df-403d-e7cb-9c2a048ec1f8"
      },
      "cell_type": "code",
      "source": [
        "@clock('{name}({args}) dt={elapsed:0.3f}s')\n",
        "def snooze(seconds):\n",
        "  time.sleep(seconds)\n",
        "  \n",
        "for i in range(3):\n",
        "  snooze(.123)"
      ],
      "execution_count": 49,
      "outputs": [
        {
          "output_type": "stream",
          "text": [
            "snooze((0.123,)) dt=1533531173.182s\n",
            "snooze((0.123,)) dt=1533531173.306s\n",
            "snooze((0.123,)) dt=1533531173.429s\n"
          ],
          "name": "stdout"
        }
      ]
    }
  ]
}