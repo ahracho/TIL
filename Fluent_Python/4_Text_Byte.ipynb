{
  "nbformat": 4,
  "nbformat_minor": 0,
  "metadata": {
    "colab": {
      "name": "4_Text_Byte.ipynb",
      "version": "0.3.2",
      "provenance": [],
      "collapsed_sections": [],
      "include_colab_link": true
    },
    "kernelspec": {
      "name": "python3",
      "display_name": "Python 3"
    }
  },
  "cells": [
    {
      "cell_type": "markdown",
      "metadata": {
        "id": "view-in-github",
        "colab_type": "text"
      },
      "source": [
        "[View in Colaboratory](https://colab.research.google.com/github/ahracho/TIL/blob/master/Fluent_Python/4_Text_Byte.ipynb)"
      ]
    },
    {
      "metadata": {
        "id": "TXm3qhRXGY32",
        "colab_type": "text"
      },
      "cell_type": "markdown",
      "source": [
        "## 4. 텍스트와 바이트\n",
        "\n",
        "파이썬3부터는 인간이 사용하는 텍스트 문자열과 원시 바이트 시퀀스를 엄격히 구분하기 시작했다. \n",
        "\n",
        "### 4.1. 문자 문제\n",
        "\n",
        "문자열은 '문자'의 열이라고 정의할 수 있는데, 여기서 '문자'가 무엇인지에 따라 데이터형이 달라진다. 파이썬 3 str에서 가져오는 항목은 유니코드 문자이다. 유니코드 표준에서는 문자의 단위 원소와 특정 바이트 표현을 명확히 구분한다. \n",
        "- 문자의 단위 원소(코드 포인트) : U+ 접두사를 붙여 4자리~6자리로 표현된 숫자. A라는 문자는 코드 포인트 U+0041로 표현된다. \n",
        "- 문자를 표현하는 실제 바이트는 사용하는 인코딩에 따라 달라진다. 인코딩은 코드 포인트를 바이트 시퀀스로 변한하는 알고리즘으로, UTF-8, UTF-16LE 등이 있다. "
      ]
    },
    {
      "metadata": {
        "id": "GnwbS_V4GV4C",
        "colab_type": "code",
        "colab": {
          "base_uri": "https://localhost:8080/",
          "height": 86
        },
        "outputId": "6f7c576a-b188-4bc3-9004-8bf023e9c3fd"
      },
      "cell_type": "code",
      "source": [
        "s = \"café\"\n",
        "print(len(s))\n",
        "b = s.encode('utf8') # UTF-8 인코딩을 이용해서 str을 bytes로 인코딩한다.\n",
        "print(b) # b'caf\\xc3\\xa9'\n",
        "print(len(b))\n",
        "print(b.decode('utf8'))"
      ],
      "execution_count": 2,
      "outputs": [
        {
          "output_type": "stream",
          "text": [
            "4\n",
            "b'caf\\xc3\\xa9'\n",
            "5\n",
            "café\n"
          ],
          "name": "stdout"
        }
      ]
    },
    {
      "metadata": {
        "id": "VJDxZ2j2IlWg",
        "colab_type": "text"
      },
      "cell_type": "markdown",
      "source": [
        "### 4.2. 바이트에 대한 기본 지식\n",
        "\n",
        "파이썬 3에서 이진 시퀀스를 위해 사용되는 내장 자료형은 bytes와 bytearray 두가지가 있다. bytes는 불변형이고, bytearray는 가변형이다. bytes와 bytearray에 들어 있는 각 항목은 0~255 사이의 정수이다. 이진 시퀀스를 슬라이싱하면 언제나 동일한 자료형의 이진 시퀀스가 만들어지며, 슬라이스 길이가 1일 때도 마찬가지이다."
      ]
    },
    {
      "metadata": {
        "id": "m4SJ8Rx6IU-O",
        "colab_type": "code",
        "colab": {
          "base_uri": "https://localhost:8080/",
          "height": 104
        },
        "outputId": "2a5a02cb-7913-42ad-8b3b-837e63022fb2"
      },
      "cell_type": "code",
      "source": [
        "cafe = bytes(\"café\", encoding = 'utf8')\n",
        "print(cafe) # b'caf\\xc3\\xa9'\n",
        "\n",
        "print(cafe[0])\n",
        "print(cafe[:1]) # b'c' -> bytes를 슬라이싱해도 bytes이다\n",
        "\n",
        "cafe_array = bytearray(cafe)\n",
        "print(cafe_array)\n",
        "print(cafe_array[-1:])\n",
        "\n",
        "# s[0] == s[:1]인 시퀀스형은 str이 유일하다. "
      ],
      "execution_count": 4,
      "outputs": [
        {
          "output_type": "stream",
          "text": [
            "b'caf\\xc3\\xa9'\n",
            "99\n",
            "b'c'\n",
            "bytearray(b'caf\\xc3\\xa9')\n",
            "bytearray(b'\\xa9')\n"
          ],
          "name": "stdout"
        }
      ]
    },
    {
      "metadata": {
        "id": "xOkhjBReJ7mw",
        "colab_type": "text"
      },
      "cell_type": "markdown",
      "source": [
        "각 바이트 값은 다음과 같이 세가지 형태로 출력된다\n",
        "- 화면에 출력 가능한 아스키 문자는 문자 그대로 출력된다.\n",
        "- 탭, 개행문자, 캐리지 리턴, 백슬래시는 이스케이프 시퀀스로 출력한다.\n",
        "- 그 외의 값은 16진수 이스케이프 시퀀스로 출력된다.\n",
        "\n",
        "bytes와 bytearray는 format(), format_map() 메서드를 제외하고는 str이 제공하는 메서드를 모두 사용할 수 있고, 유니코드 데이터에 관련된 메서드도 지원한다. str 대신 이진 시퀀스로 정규표현식을 컴파일하면 정규 표현식 함수를 잉진 시퀀스에도 적용할 수 있다. "
      ]
    },
    {
      "metadata": {
        "id": "GiuGxUL4J54I",
        "colab_type": "code",
        "colab": {
          "base_uri": "https://localhost:8080/",
          "height": 52
        },
        "outputId": "fd59d821-72ea-4341-afc7-3eac8d9623c6"
      },
      "cell_type": "code",
      "source": [
        "print(bytes.fromhex(\"31 4B CE A9\")) # 공백으로 구분된 16진수 쌍을 파싱해서 이진 시퀀스로 만든다.\n",
        "print(bytes.fromhex(\"31 4B CE A9\").decode())"
      ],
      "execution_count": 8,
      "outputs": [
        {
          "output_type": "stream",
          "text": [
            "b'1K\\xce\\xa9'\n",
            "1KΩ\n"
          ],
          "name": "stdout"
        }
      ]
    },
    {
      "metadata": {
        "id": "CyPsRx1w-V1N",
        "colab_type": "code",
        "colab": {
          "base_uri": "https://localhost:8080/",
          "height": 34
        },
        "outputId": "48189dc4-6597-44e6-f396-35cabcd686f9"
      },
      "cell_type": "code",
      "source": [
        "import array\n",
        "\n",
        "numbers = array.array('h', [-2, -1, 0, 1, 2]) # short 타입 정수 5개\n",
        "octets = bytes(numbers)\n",
        "print(octets)"
      ],
      "execution_count": 9,
      "outputs": [
        {
          "output_type": "stream",
          "text": [
            "b'\\xfe\\xff\\xff\\xff\\x00\\x00\\x01\\x00\\x02\\x00'\n"
          ],
          "name": "stdout"
        }
      ]
    },
    {
      "metadata": {
        "id": "u0k-rNZjLGo4",
        "colab_type": "text"
      },
      "cell_type": "markdown",
      "source": [
        "#### 4.2.1. 구조체와 메모리 뷰\n",
        "\n",
        "struct 모듈은 패킹된 바이트를 다양한 형의 필드로 구성된 튜플로 분석하고, 튜플을 패킹된 바이트로 변환하는 함수를 제공한다. "
      ]
    },
    {
      "metadata": {
        "id": "VhKeg3KSKsAK",
        "colab_type": "code",
        "colab": {}
      },
      "cell_type": "code",
      "source": [
        "import struct\n",
        "fmt = \"<3s3sHH\" # <는 리틀엔디언, 3s3s는 3바이트 시퀀스 2개, HH는 16비트 정수 두개\n",
        "with open('filter.gif', 'rb') as fp:\n",
        "  img = memoryview(fp.read())\n",
        "  \n",
        "header = img[:10]\n",
        "print(bytes(header))\n",
        "print(struct.unpack(fmt, header)) # (종류, 버전, 너비, 높이) 튜플로 언패킹\n",
        "\n",
        "del header\n",
        "del img"
      ],
      "execution_count": 0,
      "outputs": []
    },
    {
      "metadata": {
        "id": "YK0Oc-peNvbE",
        "colab_type": "text"
      },
      "cell_type": "markdown",
      "source": [
        "### 4.3. 기본 인코더/디코더"
      ]
    },
    {
      "metadata": {
        "id": "Ho_0UlSyOQsb",
        "colab_type": "code",
        "colab": {
          "base_uri": "https://localhost:8080/",
          "height": 69
        },
        "outputId": "d9102332-aeee-4c25-da5b-468744ea7219"
      },
      "cell_type": "code",
      "source": [
        "for codec in ['latin_1', 'utf_8', 'utf_16'] :\n",
        "  print(codec, \"El Niño\".encode(codec), sep='\\t')"
      ],
      "execution_count": 10,
      "outputs": [
        {
          "output_type": "stream",
          "text": [
            "latin_1\tb'El Ni\\xf1o'\n",
            "utf_8\tb'El Ni\\xc3\\xb1o'\n",
            "utf_16\tb'\\xff\\xfeE\\x00l\\x00 \\x00N\\x00i\\x00\\xf1\\x00o\\x00'\n"
          ],
          "name": "stdout"
        }
      ]
    },
    {
      "metadata": {
        "id": "uJKNN4CsPHgL",
        "colab_type": "text"
      },
      "cell_type": "markdown",
      "source": [
        "### 4.4. 인코딩/디코딩 문제 이해하기\n",
        "#### 4.4.1. UnicodeEncodeError 처리하기\n"
      ]
    },
    {
      "metadata": {
        "id": "Zu5DqOErRPYT",
        "colab_type": "code",
        "colab": {
          "base_uri": "https://localhost:8080/",
          "height": 121
        },
        "outputId": "84a9a7dd-1358-48ce-a87e-bbe7248249c9"
      },
      "cell_type": "code",
      "source": [
        "city = \"São Paulo\"\n",
        "print(city.encode('utf_8'))\n",
        "print(city.encode('utf_16'))\n",
        "print(city.encode('iso8859_1'))\n",
        "# print(city.encode('cp437')) # error 발생\n",
        "\n",
        "print(city.encode('cp437', errors='ignore'))\n",
        "print(city.encode('cp437', errors='replace')) # 인코딩할 수 없는 문자를 물음표로 치환\n",
        "print(city.encode('cp437', errors='xmlcharrefreplace')) # XML 개체로 치환"
      ],
      "execution_count": 12,
      "outputs": [
        {
          "output_type": "stream",
          "text": [
            "b'S\\xc3\\xa3o Paulo'\n",
            "b'\\xff\\xfeS\\x00\\xe3\\x00o\\x00 \\x00P\\x00a\\x00u\\x00l\\x00o\\x00'\n",
            "b'S\\xe3o Paulo'\n",
            "b'So Paulo'\n",
            "b'S?o Paulo'\n",
            "b'S&#227;o Paulo'\n"
          ],
          "name": "stdout"
        }
      ]
    },
    {
      "metadata": {
        "id": "e1JzSHCVTjm-",
        "colab_type": "text"
      },
      "cell_type": "markdown",
      "source": [
        "#### 4.4.2. UnicodeDecodeError 처리하기\n",
        "\n",
        "이진 시퀀스를 텍스트로 변환할 때 정당한 문자로 변환할 수 없으면 UnicodeDecodeError가 발생한다. 하지만 많은 레거시 8비트 코덱은 무작위 비트 배열에 대해서도 에러를 발생시키지 않고 바이트 스트림으로 디코딩하기 때문에 잘못된 8비트 코덱을 사용하면 쓰레기 문자를 조용히 디코딩하게 된다. "
      ]
    },
    {
      "metadata": {
        "id": "s-rlpC0vE3HZ",
        "colab_type": "code",
        "colab": {
          "base_uri": "https://localhost:8080/",
          "height": 86
        },
        "outputId": "e8318d52-00d9-41c6-af6c-db0495beaa74"
      },
      "cell_type": "code",
      "source": [
        "octets = b'Montr\\xe9al'\n",
        "print(octets.decode('cp1252'))\n",
        "print(octets.decode('iso8859_7'))\n",
        "print(octets.decode('koi8_r'))\n",
        "# print(octets.decode('utf_8')) # error 발생\n",
        "print(octets.decode('utf_8', errors='replace'))\n"
      ],
      "execution_count": 14,
      "outputs": [
        {
          "output_type": "stream",
          "text": [
            "Montréal\n",
            "Montrιal\n",
            "MontrИal\n",
            "Montr�al\n"
          ],
          "name": "stdout"
        }
      ]
    },
    {
      "metadata": {
        "id": "z_BqDNSwUeXJ",
        "colab_type": "text"
      },
      "cell_type": "markdown",
      "source": [
        "#### 4.4.3. 예상과 달리 인코딩된 모듈을 로딩할 때 발생하는 SyntaxError\n",
        "\n",
        "파이썬 3에서는 UTF-8을 소스 코드 기본 인코딩 방식으로 사용하기 때문에 인코딩 선언 없이 비UTF-8로 인코딩된 .py 모듈을 로딩하면 에러 메시지가 발생한다. 그럴 땐 아래와 같이 소스 코드가 어떤 코덱을 사용하는지 명시해주면 된다.\n"
      ]
    },
    {
      "metadata": {
        "id": "YSweItEvTih8",
        "colab_type": "code",
        "colab": {
          "base_uri": "https://localhost:8080/",
          "height": 34
        },
        "outputId": "4e48834c-ce83-40fd-db76-4be3b702d9cb"
      },
      "cell_type": "code",
      "source": [
        "# coding: cp1252\n",
        "\n",
        "print('Ol�, Mundo!')"
      ],
      "execution_count": 15,
      "outputs": [
        {
          "output_type": "stream",
          "text": [
            "Ol�, Mundo!\n"
          ],
          "name": "stdout"
        }
      ]
    },
    {
      "metadata": {
        "id": "Vz31lNPaXFJw",
        "colab_type": "text"
      },
      "cell_type": "markdown",
      "source": [
        "#### 4.4.4. 바이트 시퀀스의 인코딩 방식을 알아내는 방식\n",
        "\n",
        "Chardet 패키지는 바이트 스트림의 패턴을 분석하여 약 30가지 인코딩 방식을 알아낸다.\n",
        "\n",
        "#### 4.4.5. BOM : 유용한 깨진 문자"
      ]
    },
    {
      "metadata": {
        "id": "zcnheUFRXHPO",
        "colab_type": "code",
        "colab": {
          "base_uri": "https://localhost:8080/",
          "height": 86
        },
        "outputId": "e248f841-283c-4fe6-bf43-232c3928f245"
      },
      "cell_type": "code",
      "source": [
        "u16 = \"El Niño\".encode(\"utf_16\")\n",
        "print(u16)\n",
        "print(list(u16))\n",
        "\n",
        "u8 = \"El Niño\".encode(\"utf_8\")\n",
        "print(u8)\n",
        "print(list(u8))"
      ],
      "execution_count": 18,
      "outputs": [
        {
          "output_type": "stream",
          "text": [
            "b'\\xff\\xfeE\\x00l\\x00 \\x00N\\x00i\\x00\\xf1\\x00o\\x00'\n",
            "[255, 254, 69, 0, 108, 0, 32, 0, 78, 0, 105, 0, 241, 0, 111, 0]\n",
            "b'El Ni\\xc3\\xb1o'\n",
            "[69, 108, 32, 78, 105, 195, 177, 111]\n"
          ],
          "name": "stdout"
        }
      ]
    },
    {
      "metadata": {
        "id": "mxTtewqoHNV7",
        "colab_type": "text"
      },
      "cell_type": "markdown",
      "source": [
        "\"\\xff\\xfe\"는 바이트 순서 표시(BOM)으로 리틀엔디언 바이트 순서를 나타낸다. U+0045(십진수 69)인 'E'는 69와 0으로 인코딩 되었다. "
      ]
    },
    {
      "metadata": {
        "id": "to2eNT1wIxWp",
        "colab_type": "code",
        "colab": {
          "base_uri": "https://localhost:8080/",
          "height": 52
        },
        "outputId": "5405b4e3-aceb-4b47-e34f-11e1727f0184"
      },
      "cell_type": "code",
      "source": [
        "u16le = \"El Niño\".encode(\"utf_16le\") # 리틀 엔디언\n",
        "print(list(u16le))\n",
        "\n",
        "u16be = \"El Niño\".encode(\"utf_16be\") # 빅 엔디언\n",
        "print(list(u16be))\n",
        "\n",
        "# 엔디언을 인코딩할 때 명시하였기 때문에 BOM은 나타나지 않는다."
      ],
      "execution_count": 19,
      "outputs": [
        {
          "output_type": "stream",
          "text": [
            "[69, 0, 108, 0, 32, 0, 78, 0, 105, 0, 241, 0, 111, 0]\n",
            "[0, 69, 0, 108, 0, 32, 0, 78, 0, 105, 0, 241, 0, 111]\n"
          ],
          "name": "stdout"
        }
      ]
    },
    {
      "metadata": {
        "id": "G7z8zsSlXx0I",
        "colab_type": "text"
      },
      "cell_type": "markdown",
      "source": [
        "### 4.5. 텍스트 파일 다루기\n",
        "\n",
        "텍스트를 처리할 때는 입력시에 bytes를 str으로 디코딩하고, 프로그램 처리에서 텍스트만 처리하고, 출력할 때 바이트로 인코딩해서 사용한다. 보통은 open() 함수에서 인코딩/디코딩 작업을 수행하기 때문에 read()에서 str 객체를 가져오고 write()로 저장하면 된다. "
      ]
    },
    {
      "metadata": {
        "id": "W6T82D_EXjtm",
        "colab_type": "code",
        "colab": {}
      },
      "cell_type": "code",
      "source": [
        "open('cafe.txt', 'w', encoding='utf_8').write('café') # utf-8로 인코딩했는데\n",
        "open('cafe.txt').read() # 부를 땐 지정하지 않아 시스템 기본 인코딩 (Windows 1252)를 사용"
      ],
      "execution_count": 0,
      "outputs": []
    },
    {
      "metadata": {
        "id": "peryHuLnL4L6",
        "colab_type": "code",
        "colab": {}
      },
      "cell_type": "code",
      "source": [
        "fp = open('cafe.txt', 'w', encoding='utf_8')\n",
        "fp.write(\"café\") # 4 바이트 write\n",
        "fp.close()\n",
        "\n",
        "\n",
        "import os\n",
        "print(os.stat('cafe.txt').st_size) # 5바이트 \n",
        "\n",
        "fp2 = open('cafe.txt') # encoding = cp1252\n",
        "print(fp2.read()) # e가 다른 글자로\n",
        "\n",
        "fp3 = open('cafe.txt', encoding='utf_8')\n",
        "print(fp3.read())\n",
        "\n",
        "fp4 = open('cafe.txt', 'rb') # 이진 모드로 열기\n",
        "print(fp4.read()) # bytes가 반환\n",
        "\n"
      ],
      "execution_count": 0,
      "outputs": []
    },
    {
      "metadata": {
        "id": "Ohj5XIFjZkLX",
        "colab_type": "text"
      },
      "cell_type": "markdown",
      "source": [
        "#### 4.5.1. 기본 인코딩 설정"
      ]
    },
    {
      "metadata": {
        "id": "VgpiRKkqZc7n",
        "colab_type": "code",
        "colab": {}
      },
      "cell_type": "code",
      "source": [
        "import sys, locale\n",
        "\n",
        "expressions = \"\"\"\n",
        "        locale.getpreferredencoding()\n",
        "        type(my_file)\n",
        "        my_file.encoding\n",
        "        sys.stdout.isatty()\n",
        "        sys.stdout.encoding\n",
        "        sys.stdin.isatty()\n",
        "        sys.stdin.encoding\n",
        "        sys.stderr.isatty()\n",
        "        sys.stderr.encoding\n",
        "        sys.getdefaultencoding()\n",
        "        sys.getfilesystemencoding()\n",
        "    \"\"\"\n",
        "\n",
        "my_file = open('dummy', 'w')\n",
        "\n",
        "for expression in expressions.split():\n",
        "    value = eval(expression)\n",
        "    print(expression.rjust(30), '->', repr(value))\n",
        "\n",
        "# 지역/시스템에 따라서 설정값이 다름"
      ],
      "execution_count": 0,
      "outputs": []
    },
    {
      "metadata": {
        "id": "ltdIBshcapsR",
        "colab_type": "text"
      },
      "cell_type": "markdown",
      "source": [
        "### 4.6. 제대로 비교하기 위해 유니코드 정규화하기\n",
        "\n"
      ]
    },
    {
      "metadata": {
        "id": "Yi3UNGEka1Id",
        "colab_type": "code",
        "colab": {
          "base_uri": "https://localhost:8080/",
          "height": 69
        },
        "outputId": "02fb4a32-6f4f-4eb1-c22c-f3c6c3a4b227"
      },
      "cell_type": "code",
      "source": [
        "s1 = 'café'\n",
        "s2 = 'cafe\\u0301' # e + 발음기호\n",
        "print(s1, s2) # 출력 모양은 같지만\n",
        "\n",
        "print(len(s1), len(s2)) # 길이가 다름\n",
        "\n",
        "print(s1 == s2)"
      ],
      "execution_count": 20,
      "outputs": [
        {
          "output_type": "stream",
          "text": [
            "café café\n",
            "4 5\n",
            "False\n"
          ],
          "name": "stdout"
        }
      ]
    },
    {
      "metadata": {
        "id": "yVjoCJh5a6Ot",
        "colab_type": "code",
        "colab": {
          "base_uri": "https://localhost:8080/",
          "height": 104
        },
        "outputId": "d4bbbdf6-c050-4539-c5df-9007d394f707"
      },
      "cell_type": "code",
      "source": [
        "from unicodedata import normalize\n",
        "\n",
        "s1 = 'café'\n",
        "s2 = 'cafe\\u0301' # e + 발음기호\n",
        "print(len(s1), len(s2)) # 길이가 다름\n",
        "\n",
        "print(len(normalize(\"NFC\", s1)), len(normalize(\"NFC\", s2)))\n",
        "print(len(normalize(\"NFD\", s1)), len(normalize(\"NFD\", s2)))\n",
        "\n",
        "print(normalize(\"NFC\", s1) == normalize(\"NFC\", s2))\n",
        "print(normalize(\"NFD\", s1) == normalize(\"NFD\", s2))"
      ],
      "execution_count": 22,
      "outputs": [
        {
          "output_type": "stream",
          "text": [
            "4 5\n",
            "4 4\n",
            "5 5\n",
            "True\n",
            "True\n"
          ],
          "name": "stdout"
        }
      ]
    },
    {
      "metadata": {
        "id": "lGNu-MQyPYDq",
        "colab_type": "code",
        "colab": {
          "base_uri": "https://localhost:8080/",
          "height": 86
        },
        "outputId": "2b677b33-47b0-4ab9-f699-4998726c4964"
      },
      "cell_type": "code",
      "source": [
        "from unicodedata import normalize, name\n",
        "\n",
        "ohm = '\\u2126'\n",
        "print(name(ohm))\n",
        "\n",
        "ohm_c = normalize(\"NFC\", ohm)\n",
        "print(name(ohm_c))\n",
        "\n",
        "print(ohm == ohm_c)\n",
        "print(normalize(\"NFC\", ohm) == normalize(\"NFC\", ohm_c)) # NFC를 쓰면 사실 다른 건데 같다고 정규화"
      ],
      "execution_count": 24,
      "outputs": [
        {
          "output_type": "stream",
          "text": [
            "OHM SIGN\n",
            "GREEK CAPITAL LETTER OMEGA\n",
            "False\n",
            "True\n"
          ],
          "name": "stdout"
        }
      ]
    },
    {
      "metadata": {
        "id": "W9E8YnUtQu74",
        "colab_type": "code",
        "colab": {
          "base_uri": "https://localhost:8080/",
          "height": 104
        },
        "outputId": "1e9c14e1-d679-4eb5-f953-128b00464408"
      },
      "cell_type": "code",
      "source": [
        "from unicodedata import normalize, name\n",
        "\n",
        "half = \"½\"\n",
        "print(normalize(\"NFKC\", half))\n",
        "\n",
        "four_squared = '42'\n",
        "print(normalize(\"NFKC\", four_squared))\n",
        "\n",
        "micro = 'µ'\n",
        "micro_kc = normalize(\"NFKC\", micro)\n",
        "print(micro, micro_kc)\n",
        "print(ord(micro), ord(micro_kc))\n",
        "print(name(micro), name(micro_kc)) # NFKC는 구분"
      ],
      "execution_count": 30,
      "outputs": [
        {
          "output_type": "stream",
          "text": [
            "1⁄2\n",
            "42\n",
            "µ μ\n",
            "181 956\n",
            "MICRO SIGN GREEK SMALL LETTER MU\n"
          ],
          "name": "stdout"
        }
      ]
    },
    {
      "metadata": {
        "id": "hVtbi6QTbYJz",
        "colab_type": "text"
      },
      "cell_type": "markdown",
      "source": [
        "#### 4.6.1. 케이스 폴딩\n",
        "\n",
        "모든 텍스트를 소문자로 변환하는 연산"
      ]
    },
    {
      "metadata": {
        "id": "kl8zFZuTbWuP",
        "colab_type": "code",
        "colab": {
          "base_uri": "https://localhost:8080/",
          "height": 104
        },
        "outputId": "30fbb705-fa7a-48d7-9ea6-a4506727d34c"
      },
      "cell_type": "code",
      "source": [
        "micro = 'µ'\n",
        "print(name(micro))\n",
        "micro_cf = micro.casefold()\n",
        "print(name(micro_kc))\n",
        "\n",
        "print(micro, micro_cf)\n",
        "\n",
        "eszett = 'ß'\n",
        "print(name(eszett))\n",
        "eszett_cf = eszett.casefold()\n",
        "# print(name(eszett_cf)) # error\n",
        "print(eszett, eszett_cf)"
      ],
      "execution_count": 33,
      "outputs": [
        {
          "output_type": "stream",
          "text": [
            "MICRO SIGN\n",
            "GREEK SMALL LETTER MU\n",
            "µ μ\n",
            "LATIN SMALL LETTER SHARP S\n",
            "ß ss\n"
          ],
          "name": "stdout"
        }
      ]
    },
    {
      "metadata": {
        "id": "dJuEDNvNb0mo",
        "colab_type": "text"
      },
      "cell_type": "markdown",
      "source": [
        "#### 4.6.2. 정규화된 텍스트 매칭을 위한 유틸리티 함수\n",
        "\n",
        "NFC, NFD는 안전하며 유니코드 문자열을 적절히 비교할 수 있게 해준다. NFC는 대부분의 어플리케이션에서 사용할 수 있는 최고의 정규화 형태며, str.casefold()는 대소문자 구분 없이 문자를 비교할 때 가장 좋은 방법이다. \n",
        "\n"
      ]
    },
    {
      "metadata": {
        "id": "rIKBdOOdbwGG",
        "colab_type": "code",
        "colab": {}
      },
      "cell_type": "code",
      "source": [
        "\"\"\"\n",
        "Utility functions for normalized Unicode string comparison.\n",
        "\n",
        "Using Normal Form C, case sensitive:\n",
        "\n",
        "    >>> s1 = 'café'\n",
        "    >>> s2 = 'cafe\\u0301'\n",
        "    >>> s1 == s2\n",
        "    False\n",
        "    >>> nfc_equal(s1, s2)\n",
        "    True\n",
        "    >>> nfc_equal('A', 'a')\n",
        "    False\n",
        "\n",
        "Using Normal Form C with case folding:\n",
        "\n",
        "    >>> s3 = 'Straße'\n",
        "    >>> s4 = 'strasse'\n",
        "    >>> s3 == s4\n",
        "    False\n",
        "    >>> nfc_equal(s3, s4)\n",
        "    False\n",
        "    >>> fold_equal(s3, s4)\n",
        "    True\n",
        "    >>> fold_equal(s1, s2)\n",
        "    True\n",
        "    >>> fold_equal('A', 'a')\n",
        "    True\n",
        "\n",
        "\"\"\"\n",
        "\n",
        "from unicodedata import normalize\n",
        "\n",
        "def nfc_equal(str1, str2):\n",
        "    return normalize('NFC', str1) == normalize('NFC', str2)\n",
        "\n",
        "def fold_equal(str1, str2):\n",
        "    return (normalize('NFC', str1).casefold() ==\n",
        "            normalize('NFC', str2).casefold())\n"
      ],
      "execution_count": 0,
      "outputs": []
    },
    {
      "metadata": {
        "id": "Ag7mhJdWUSBE",
        "colab_type": "text"
      },
      "cell_type": "markdown",
      "source": [
        "#### 4.6.3. 극단적인 '정규화' : 발음 구별 기호 제거하기\n",
        "\n"
      ]
    },
    {
      "metadata": {
        "id": "Qf3RW_3JcwdG",
        "colab_type": "code",
        "colab": {
          "base_uri": "https://localhost:8080/",
          "height": 52
        },
        "outputId": "b1b9d83c-6c02-40f8-b27b-1e20a57dd905"
      },
      "cell_type": "code",
      "source": [
        "# BEGIN SHAVE_MARKS\n",
        "import unicodedata\n",
        "import string\n",
        "\n",
        "\n",
        "def shave_marks(txt):\n",
        "    \"\"\"Remove all diacritic marks\"\"\"\n",
        "    norm_txt = unicodedata.normalize('NFD', txt)  # <1>\n",
        "    shaved = ''.join(c for c in norm_txt\n",
        "                     if not unicodedata.combining(c))  # <2>\n",
        "    return unicodedata.normalize('NFC', shaved)  # <3>\n",
        "# END SHAVE_MARKS\n",
        "\n",
        "order = '“Herr Voß: • ½ cup of Œtker™ caffè latte • bowl of açaí.”' # è, ç, í 대체\n",
        "print(shave_marks(order))\n",
        "greek = 'Ζέφυρος, Zéfiro' # έ, é 대체\n",
        "print(shave_marks(greek))"
      ],
      "execution_count": 35,
      "outputs": [
        {
          "output_type": "stream",
          "text": [
            "“Herr Voß: • ½ cup of Œtker™ caffe latte • bowl of acai.”\n",
            "Ζεφυρος, Zefiro\n"
          ],
          "name": "stdout"
        }
      ]
    },
    {
      "metadata": {
        "id": "3u_aUTUYVLnO",
        "colab_type": "code",
        "colab": {
          "base_uri": "https://localhost:8080/",
          "height": 52
        },
        "outputId": "d64ee967-f2ed-4ec3-ee25-108540122710"
      },
      "cell_type": "code",
      "source": [
        "# BEGIN SHAVE_MARKS_LATIN\n",
        "def shave_marks_latin(txt):\n",
        "    \"\"\"Remove all diacritic marks from Latin base characters\"\"\"\n",
        "    norm_txt = unicodedata.normalize('NFD', txt)  # <1>\n",
        "    latin_base = False\n",
        "    keepers = []\n",
        "    for c in norm_txt:\n",
        "        if unicodedata.combining(c) and latin_base:   # <2>\n",
        "            continue  # ignore diacritic on Latin base char\n",
        "        keepers.append(c)                             # <3>\n",
        "        # if it isn't combining char, it's a new base char\n",
        "        if not unicodedata.combining(c):              # <4>\n",
        "            latin_base = c in string.ascii_letters\n",
        "    shaved = ''.join(keepers)\n",
        "    return unicodedata.normalize('NFC', shaved)   # <5>\n",
        "# END SHAVE_MARKS_LATIN\n",
        "\n",
        "\n",
        "print(shave_marks_latin(order))\n",
        "print(shave_marks_latin(greek))"
      ],
      "execution_count": 37,
      "outputs": [
        {
          "output_type": "stream",
          "text": [
            "“Herr Voß: • ½ cup of Œtker™ caffe latte • bowl of acai.”\n",
            "Ζέφυρος, Zefiro\n"
          ],
          "name": "stdout"
        }
      ]
    },
    {
      "metadata": {
        "id": "fSRZlTp8WNZJ",
        "colab_type": "code",
        "colab": {
          "base_uri": "https://localhost:8080/",
          "height": 86
        },
        "outputId": "2d6ae9fc-9fbd-4eb8-e8ac-821b4e75f1c4"
      },
      "cell_type": "code",
      "source": [
        "# BEGIN ASCIIZE\n",
        "single_map = str.maketrans(\"\"\"‚ƒ„†ˆ‹‘’“”•–—˜›\"\"\",  # <1>\n",
        "                                               \"\"\"'f\"*^<''\"\"---~>\"\"\")\n",
        "\n",
        "multi_map = str.maketrans({  # <2>\n",
        "    '€': '<euro>',\n",
        "    '…': '...',\n",
        "    'Œ': 'OE',\n",
        "    '™': '(TM)',\n",
        "    'œ': 'oe',\n",
        "    '‰': '<per mille>',\n",
        "    '‡': '**',\n",
        "})\n",
        "\n",
        "multi_map.update(single_map)  # <3>\n",
        "\n",
        "\n",
        "def dewinize(txt):\n",
        "    \"\"\"Replace Win1252 symbols with ASCII chars or sequences\"\"\"\n",
        "    return txt.translate(multi_map)  # <4>\n",
        "\n",
        "\n",
        "# 서양 텍스트에서 널리 사용되는 기호들을 아스키에 해당하는 문자로 바꾸는\n",
        "def asciize(txt):\n",
        "    no_marks = shave_marks_latin(dewinize(txt))     # <5>\n",
        "    no_marks = no_marks.replace('ß', 'ss')          # <6>\n",
        "    return unicodedata.normalize('NFKC', no_marks)  # <7>\n",
        "# END ASCIIZE\n",
        "\n",
        "\n",
        "print(dewinize(order))\n",
        "print(asciize(order))\n",
        "\n",
        "print(dewinize(greek))\n",
        "print(asciize(greek))"
      ],
      "execution_count": 38,
      "outputs": [
        {
          "output_type": "stream",
          "text": [
            "\"Herr Voß: - ½ cup of OEtker(TM) caffè latte - bowl of açaí.\"\n",
            "\"Herr Voss: - 1⁄2 cup of OEtker(TM) caffe latte - bowl of acai.\"\n",
            "Ζέφυρος, Zéfiro\n",
            "Ζέφυρος, Zefiro\n"
          ],
          "name": "stdout"
        }
      ]
    },
    {
      "metadata": {
        "id": "69bHFVtOeK2e",
        "colab_type": "text"
      },
      "cell_type": "markdown",
      "source": [
        "### 4.7. 유니코드 텍스트 정렬하기\n",
        "\n",
        "문자열의 경우에는 각 단어의 코드 포인트를 비교하여 정렬하는데, 비아스키 문자를 사용하는 경우에는 부적절한 결과가 발생할 수 있다. 라틴 알파벳을 사용하는 언어에서는 정렬할 때 악센트와 갈고리형 기호가 영향을 미치지 않는데, 정렬 시에 잘못되는 경우가 발생한다. \n",
        "\n",
        "파이썬에서 비아스키 텍스트는 locale.strxfrm() 함수를 사용하여 변환하는 것이 표준이고, 이를 사용하기 전에는 setlocale(LC_COLLATE, 지역언어)를 호출해야 한다. "
      ]
    },
    {
      "metadata": {
        "id": "ZShZn2xiYbGw",
        "colab_type": "text"
      },
      "cell_type": "markdown",
      "source": [
        "### 4.8. 유니코드 데이터베이스\n",
        "\n",
        "유니코드 표준은 수많은 구조화된 텍스트 파일의 형태로 하나의 완전한 데이터베이스를 제공한다. 데이터베이스에는 코드 포인트를 문자명과 매칭한 테이블 뿐만 아니라 문자를 출력할 수 있는지, 문자인지/숫자인지/수치형 기호인지 등의 정보를 담고 있다. "
      ]
    },
    {
      "metadata": {
        "id": "uKJyLQgVY3Tb",
        "colab_type": "code",
        "colab": {
          "base_uri": "https://localhost:8080/",
          "height": 173
        },
        "outputId": "2c15dae4-25c1-4dd3-b20b-e4e600fd54a6"
      },
      "cell_type": "code",
      "source": [
        "# BEGIN NUMERICS_DEMO\n",
        "import unicodedata\n",
        "import re\n",
        "\n",
        "re_digit = re.compile(r'\\d')\n",
        "\n",
        "sample = '1\\xbc\\xb2\\u0969\\u136b\\u216b\\u2466\\u2480\\u3285'\n",
        "\n",
        "for char in sample:\n",
        "    print('U+%04x' % ord(char),                       # <1>\n",
        "          char.center(6),                             # <2>\n",
        "          're_dig' if re_digit.match(char) else '-',  # <3>\n",
        "          'isdig' if char.isdigit() else '-',         # <4>\n",
        "          'isnum' if char.isnumeric() else '-',       # <5>\n",
        "          format(unicodedata.numeric(char), '5.2f'),  # <6>\n",
        "          unicodedata.name(char),                     # <7>\n",
        "          sep='\\t')\n",
        "# END NUMERICS_DEMO\n"
      ],
      "execution_count": 39,
      "outputs": [
        {
          "output_type": "stream",
          "text": [
            "U+0031\t  1   \tre_dig\tisdig\tisnum\t 1.00\tDIGIT ONE\n",
            "U+00bc\t  ¼   \t-\t-\tisnum\t 0.25\tVULGAR FRACTION ONE QUARTER\n",
            "U+00b2\t  ²   \t-\tisdig\tisnum\t 2.00\tSUPERSCRIPT TWO\n",
            "U+0969\t  ३   \tre_dig\tisdig\tisnum\t 3.00\tDEVANAGARI DIGIT THREE\n",
            "U+136b\t  ፫   \t-\tisdig\tisnum\t 3.00\tETHIOPIC DIGIT THREE\n",
            "U+216b\t  Ⅻ   \t-\t-\tisnum\t12.00\tROMAN NUMERAL TWELVE\n",
            "U+2466\t  ⑦   \t-\tisdig\tisnum\t 7.00\tCIRCLED DIGIT SEVEN\n",
            "U+2480\t  ⒀   \t-\t-\tisnum\t13.00\tPARENTHESIZED NUMBER THIRTEEN\n",
            "U+3285\t  ㊅   \t-\t-\tisnum\t 6.00\tCIRCLED IDEOGRAPH SIX\n"
          ],
          "name": "stdout"
        }
      ]
    },
    {
      "metadata": {
        "id": "_qMKw8M7aA4p",
        "colab_type": "text"
      },
      "cell_type": "markdown",
      "source": [
        "### 4.9. 이중 모드 str 및 bytes API\n",
        "\n",
        "표준 라이브러리에는 str이나 bytes 인수를 모두 받으며, 인수의 자료형에 따라 다르게 작동하는 함수들이 있는데, re와 os가 대표적이다. \n",
        "\n",
        "#### 4.9.1. 정규표현식에서의 str과 bytes\n",
        "\n",
        "bytes로 정규표현식을 만들면 \\d와 \\w 같은 패턴은 아스키 문자만 매칭되지만, str로 이 패턴을 만들면 유니코드 숫자나 문자도 매칭된다. \n",
        "\n"
      ]
    },
    {
      "metadata": {
        "id": "Vr-59aVeY8qm",
        "colab_type": "code",
        "colab": {
          "base_uri": "https://localhost:8080/",
          "height": 156
        },
        "outputId": "f17002e4-119e-40c9-bcb1-19402bba347f"
      },
      "cell_type": "code",
      "source": [
        "# BEGIN RE_DEMO\n",
        "import re\n",
        "\n",
        "re_numbers_str = re.compile(r'\\d+')     # <1> str 타입\n",
        "re_words_str = re.compile(r'\\w+')\n",
        "re_numbers_bytes = re.compile(rb'\\d+')  # <2> bytes 타입\n",
        "re_words_bytes = re.compile(rb'\\w+')\n",
        "\n",
        "text_str = (\"Ramanujan saw \\u0be7\\u0bed\\u0be8\\u0bef\"  # <3>\n",
        "            \" as 1729 = 1³ + 12³ = 9³ + 10³.\")        # <4>\n",
        "\n",
        "text_bytes = text_str.encode('utf_8')  # <5>\n",
        "\n",
        "print('Text', repr(text_str), sep='\\n  ')\n",
        "print('Numbers')\n",
        "print('  str  :', re_numbers_str.findall(text_str))      # <6>\n",
        "print('  bytes:', re_numbers_bytes.findall(text_bytes))  # <7>\n",
        "print('Words')\n",
        "print('  str  :', re_words_str.findall(text_str))        # <8>\n",
        "print('  bytes:', re_words_bytes.findall(text_bytes))    # <9>\n",
        "# END RE_DEMO\n"
      ],
      "execution_count": 40,
      "outputs": [
        {
          "output_type": "stream",
          "text": [
            "Text\n",
            "  'Ramanujan saw ௧௭௨௯ as 1729 = 1³ + 12³ = 9³ + 10³.'\n",
            "Numbers\n",
            "  str  : ['௧௭௨௯', '1729', '1', '12', '9', '10']\n",
            "  bytes: [b'1729', b'1', b'12', b'9', b'10']\n",
            "Words\n",
            "  str  : ['Ramanujan', 'saw', '௧௭௨௯', 'as', '1729', '1³', '12³', '9³', '10³']\n",
            "  bytes: [b'Ramanujan', b'saw', b'as', b'1729', b'1', b'12', b'9', b'10']\n"
          ],
          "name": "stdout"
        }
      ]
    },
    {
      "metadata": {
        "id": "nbMjrwW0czZk",
        "colab_type": "text"
      },
      "cell_type": "markdown",
      "source": [
        "#### 4.9.2. os  모듈 함수에서 str과 bytes\n",
        "\n",
        "GNU/리눅스 커널은 유니코드를 모른다. 그렇기 때문에 os의 파일명은 어떠한 인코딩 체계에서도 올바르지 않은 바이트 시퀀스로 구성되어 있으며 str으로 디코딩할 수 없다. 이 문제를 해결하기 위해서 파일명이나 경로명을 받는 모든 os 함수는 str이나 bytes 형의 인수를 받는다. str으로 호출하면 sys.getfilesystsemencoding() 함수에 의해 지정된 코덱을 이용해서 자동으로 변환되고 동일 코덱을 이용해서 디코딩 된다. "
      ]
    },
    {
      "metadata": {
        "id": "Nx_gaYdGaxxG",
        "colab_type": "code",
        "colab": {}
      },
      "cell_type": "code",
      "source": [
        ""
      ],
      "execution_count": 0,
      "outputs": []
    }
  ]
}