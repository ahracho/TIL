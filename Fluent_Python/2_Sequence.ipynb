{
  "nbformat": 4,
  "nbformat_minor": 0,
  "metadata": {
    "colab": {
      "name": "2_Sequence.ipynb",
      "version": "0.3.2",
      "provenance": [],
      "collapsed_sections": []
    },
    "kernelspec": {
      "name": "python3",
      "display_name": "Python 3"
    }
  },
  "cells": [
    {
      "metadata": {
        "id": "hF-cBSz0Vrfe",
        "colab_type": "text"
      },
      "cell_type": "markdown",
      "source": [
        "## 2. 시퀀스"
      ]
    },
    {
      "metadata": {
        "id": "voyqYfc2V1dK",
        "colab_type": "text"
      },
      "cell_type": "markdown",
      "source": [
        "### 2.1. 내장 시퀀스 개요\n",
        "\n",
        "시퀀스의 구분\n",
        "- 컨테이너 시퀀스 / 균일 시퀀스 : 다른 데이터 타입을 담을 수 있는지\n",
        "- 가변 시퀀스 / 불변 시퀀스 : 초기화 값을 바꿀 수 있는지"
      ]
    },
    {
      "metadata": {
        "id": "tXzBZMPWWURd",
        "colab_type": "text"
      },
      "cell_type": "markdown",
      "source": [
        "### 2.2. List Comprehension(지능형 리스트)와 제너레이터\n",
        "#### 2.2.1. 지능형 리스트와 가독성\n",
        "List Comprehension을 사용하면 코드 가독성이 좋아지기 때문에 되도록 이를 사용하도록 한다. "
      ]
    },
    {
      "metadata": {
        "id": "QC32oap5VlDs",
        "colab_type": "code",
        "colab": {
          "base_uri": "https://localhost:8080/",
          "height": 34
        },
        "outputId": "200eb8a8-e638-46a6-b82b-750a3f6abc34"
      },
      "cell_type": "code",
      "source": [
        "# for문을 이용한 버전\n",
        "\n",
        "symbols = \"#$%^\"\n",
        "codes = []\n",
        "for symbol in symbols :\n",
        "  codes.append(ord(symbol))\n",
        "  \n",
        "print(codes)"
      ],
      "execution_count": 1,
      "outputs": [
        {
          "output_type": "stream",
          "text": [
            "[35, 36, 37, 94]\n"
          ],
          "name": "stdout"
        }
      ]
    },
    {
      "metadata": {
        "id": "m1PYdzy6XiO8",
        "colab_type": "code",
        "colab": {
          "base_uri": "https://localhost:8080/",
          "height": 34
        },
        "outputId": "f8ae7781-dc69-46d6-f6fe-485d083b9d6f"
      },
      "cell_type": "code",
      "source": [
        "# List Comprehension\n",
        "symbols = \"#$%^\"\n",
        "codes = [ord(symbol) for symbol in symbols]\n",
        "print(codes)"
      ],
      "execution_count": 2,
      "outputs": [
        {
          "output_type": "stream",
          "text": [
            "[35, 36, 37, 94]\n"
          ],
          "name": "stdout"
        }
      ]
    },
    {
      "metadata": {
        "id": "9v7gOfbeYGF4",
        "colab_type": "text"
      },
      "cell_type": "markdown",
      "source": [
        "List Comprehension 안에서 사용되는 변수는 지역변수로 취급된다. 동시에 주변 범위의 변수를 참조할 수도 있다. "
      ]
    },
    {
      "metadata": {
        "id": "4Be8E2y7YAB4",
        "colab_type": "code",
        "colab": {
          "base_uri": "https://localhost:8080/",
          "height": 52
        },
        "outputId": "183f4c3a-8a87-4c29-8402-44f7d607e662"
      },
      "cell_type": "code",
      "source": [
        "x = \"ABC\"\n",
        "dummy = [ord(x) for x in x] # 전역변수 x (\"ABC\")와 ListComp 안에서 사용되는 지역변수가 같은 이름을 가짐\n",
        "print(x)\n",
        "print(dummy)"
      ],
      "execution_count": 3,
      "outputs": [
        {
          "output_type": "stream",
          "text": [
            "ABC\n",
            "[65, 66, 67]\n"
          ],
          "name": "stdout"
        }
      ]
    },
    {
      "metadata": {
        "id": "uHFwez4sYo4S",
        "colab_type": "text"
      },
      "cell_type": "markdown",
      "source": [
        "#### 2.2.2. 지능형 리스트와 map() / filter() 비교\n",
        "map()과 filter()를 이용해서 List Comprehension에 람다를 굳이 사용하지 않고도 같은 동작을 수행할 수 있다. "
      ]
    },
    {
      "metadata": {
        "id": "OUrz459dYYe_",
        "colab_type": "code",
        "colab": {
          "base_uri": "https://localhost:8080/",
          "height": 52
        },
        "outputId": "cd6dc024-222a-4449-ff6e-29d6fd037955"
      },
      "cell_type": "code",
      "source": [
        "symbols = \"$\\￠￡\"\n",
        "beyond_ascii = [ord(s) for s in symbols if ord(s) > 127]\n",
        "print(beyond_ascii)\n",
        "beyond_ascii = list(filter(lambda c: c > 127, map(ord, symbols)))\n",
        "print(beyond_ascii)"
      ],
      "execution_count": 12,
      "outputs": [
        {
          "output_type": "stream",
          "text": [
            "[65504, 65505]\n",
            "[65504, 65505]\n"
          ],
          "name": "stdout"
        }
      ]
    },
    {
      "metadata": {
        "id": "Msr23k8DZ_Rj",
        "colab_type": "text"
      },
      "cell_type": "markdown",
      "source": [
        "#### 2.2.3. 데카르트 곱\n",
        "List Comprehension 안에 하나 이상의 for문을 사용할 수 있고, 데카르트 곱 안의 항목은 서로 조합되어 튜플로 구성된다."
      ]
    },
    {
      "metadata": {
        "id": "62bckxVTZW7i",
        "colab_type": "code",
        "colab": {
          "base_uri": "https://localhost:8080/",
          "height": 156
        },
        "outputId": "2b8a75be-1a38-4cc8-9075-3c3c7e66789e"
      },
      "cell_type": "code",
      "source": [
        "colors = ['black', 'white']\n",
        "sizes = ['S', 'M', 'L']\n",
        "\n",
        "# List Comprehension\n",
        "tshirts = [(color, size) for color in colors for size in sizes]\n",
        "print(tshirts)\n",
        "\n",
        "# 중첩 for문\n",
        "for color in colors:\n",
        "  for size in sizes:\n",
        "    print((color, size))\n",
        "    \n",
        "# for문 순서가 바뀌면 조합 순서도 바뀐다\n",
        "tshirts = [(color, size) for size in sizes for color in colors]\n",
        "print(tshirts)"
      ],
      "execution_count": 14,
      "outputs": [
        {
          "output_type": "stream",
          "text": [
            "[('black', 'S'), ('black', 'M'), ('black', 'L'), ('white', 'S'), ('white', 'M'), ('white', 'L')]\n",
            "('black', 'S')\n",
            "('black', 'M')\n",
            "('black', 'L')\n",
            "('white', 'S')\n",
            "('white', 'M')\n",
            "('white', 'L')\n",
            "[('black', 'S'), ('white', 'S'), ('black', 'M'), ('white', 'M'), ('black', 'L'), ('white', 'L')]\n"
          ],
          "name": "stdout"
        }
      ]
    },
    {
      "metadata": {
        "id": "VxfhuadRa6xr",
        "colab_type": "text"
      },
      "cell_type": "markdown",
      "source": [
        "#### 2.2.4. 제너레이터 표현식\n",
        "List Comprehension은 리스트를 초기화할 때 사용하는 방법이고, 리스트를 제외한 다른 시퀀스형은 제너레이터를 사용한다.\n",
        "\n",
        "제너레이터를 사용하면 리스트, 튜플 등의 시퀀스형을 초기화할 때 전체 리스트를 만들지 않고 반복자를 이용해서 항목을 하나씩 만들 수 있어 메모리를 절약할 수 있다. \n",
        "\n",
        "예를 들어 이미지 데이터를 불러오고 싶을 때 전체 데이터를 한꺼번에 다 불러오면 메모리를 많이 사용하고 한번에 적재되지 않을 수도 있기 때문에 이럴 때는 한번에 필요한 만큼만 (보통 batch size만큼) 로드하고 다음 번에 그 다음 데이터를 불러오는 방식으로 제너레이터를 사용할 수 있다. "
      ]
    },
    {
      "metadata": {
        "id": "szjatIvmcF2y",
        "colab_type": "code",
        "colab": {
          "base_uri": "https://localhost:8080/",
          "height": 34
        },
        "outputId": "8e898eb7-ff36-4258-db61-3963a587c037"
      },
      "cell_type": "code",
      "source": [
        "symbols = \"$\\￠￡\"\n",
        "\n",
        "# 튜플 제너레이터\n",
        "tuple_generator = tuple(ord(s) for s in symbols)\n",
        "print(tuple_generator)\n",
        "\n",
        "# array 제너레이터\n",
        "import array\n",
        "array_generator = array.array('I', (ord(s) for s in symbol))"
      ],
      "execution_count": 15,
      "outputs": [
        {
          "output_type": "stream",
          "text": [
            "(36, 92, 65504, 65505)\n"
          ],
          "name": "stdout"
        }
      ]
    },
    {
      "metadata": {
        "id": "823RS6M4cyh7",
        "colab_type": "code",
        "colab": {
          "base_uri": "https://localhost:8080/",
          "height": 121
        },
        "outputId": "50347309-489b-4fc8-df2c-c0ee370260ef"
      },
      "cell_type": "code",
      "source": [
        "colors = ['black', 'white']\n",
        "sizes = ['S', 'M', 'L']\n",
        "\n",
        "# List Comprehension과 달리 전체 리스트가 한번에 만들어지는 게 아니라\n",
        "# 한번에 tshirt 한 항목씩 생긴다\n",
        "for tshirt in ('%s, %s' % (c, s) for c in colors for s in sizes):\n",
        "  print(tshirt)"
      ],
      "execution_count": 17,
      "outputs": [
        {
          "output_type": "stream",
          "text": [
            "black, S\n",
            "black, M\n",
            "black, L\n",
            "white, S\n",
            "white, M\n",
            "white, L\n"
          ],
          "name": "stdout"
        }
      ]
    },
    {
      "metadata": {
        "id": "MvNohlTkdR31",
        "colab_type": "text"
      },
      "cell_type": "markdown",
      "source": [
        "### 2.3. 튜플은 단순한 불변 리스트가 아니다\n",
        "#### 2.3.1. 레코드로서의 튜플\n",
        "\n",
        "튜플의 각 항목은 데이터의 필드 하나를 의미하며, 항목의 위치가 의미를 결정한다."
      ]
    },
    {
      "metadata": {
        "id": "bP7Y6Xq4d3Pn",
        "colab_type": "code",
        "colab": {
          "base_uri": "https://localhost:8080/",
          "height": 121
        },
        "outputId": "6502271e-98c4-48b0-f946-3bcd4ddf95ac"
      },
      "cell_type": "code",
      "source": [
        "lax_coordinate = (33.9425, -118.408056)\n",
        "city, year, pop, chg, area = (\"Tokyo\", 2003, 32450, 0.66, 8014)\n",
        "traveler_ids = [(\"USA\", \"31195855\"), (\"BRA\", \"CE342567\"), (\"ESP\", \"XDA205856\")]\n",
        "for passport in sorted(traveler_ids) :\n",
        "  print(\"%s / %s\" % passport)\n",
        "  \n",
        "for country, _ in traveler_ids :\n",
        "  print(country)"
      ],
      "execution_count": 18,
      "outputs": [
        {
          "output_type": "stream",
          "text": [
            "BRA / CE342567\n",
            "ESP / XDA205856\n",
            "USA / 31195855\n",
            "USA\n",
            "BRA\n",
            "ESP\n"
          ],
          "name": "stdout"
        }
      ]
    },
    {
      "metadata": {
        "id": "8HNqKryhenIS",
        "colab_type": "code",
        "colab": {}
      },
      "cell_type": "code",
      "source": [
        ""
      ],
      "execution_count": 0,
      "outputs": []
    },
    {
      "metadata": {
        "id": "nj8hMsnhezdY",
        "colab_type": "text"
      },
      "cell_type": "markdown",
      "source": [
        "#### 2.3.2. 튜플 언패킹(Unpacking)\n"
      ]
    },
    {
      "metadata": {
        "id": "upsk3mLGe9AL",
        "colab_type": "code",
        "colab": {
          "base_uri": "https://localhost:8080/",
          "height": 52
        },
        "outputId": "924f01af-3b8e-402b-e088-c5546d851a6b"
      },
      "cell_type": "code",
      "source": [
        "lax_coordinate = (33.9425, -118.408056)\n",
        "lat, lon = lax_coordinate # 튜플의 모양을 알고 Unpack해서 변수에 할당\n",
        "print(lat)\n",
        "print(lon)"
      ],
      "execution_count": 19,
      "outputs": [
        {
          "output_type": "stream",
          "text": [
            "33.9425\n",
            "-118.408056\n"
          ],
          "name": "stdout"
        }
      ]
    },
    {
      "metadata": {
        "id": "SYNdebsgfF0e",
        "colab_type": "code",
        "colab": {
          "base_uri": "https://localhost:8080/",
          "height": 34
        },
        "outputId": "8371f84d-2538-4b0c-c8db-be0947a21740"
      },
      "cell_type": "code",
      "source": [
        "a = 3\n",
        "b = 5\n",
        "\n",
        "b, a = a, b # 패킹/언패킹 성질을 이용하면 swap을 손쉽게 할 수 있다.\n",
        "\n",
        "print(a, b)"
      ],
      "execution_count": 20,
      "outputs": [
        {
          "output_type": "stream",
          "text": [
            "5 3\n"
          ],
          "name": "stdout"
        }
      ]
    },
    {
      "metadata": {
        "id": "RilwkuclfQZn",
        "colab_type": "code",
        "colab": {
          "base_uri": "https://localhost:8080/",
          "height": 69
        },
        "outputId": "8d8a39a8-a9d6-44f2-949c-6f06c6a64875"
      },
      "cell_type": "code",
      "source": [
        "print(divmod(20, 8))\n",
        "\n",
        "t = (20, 8)\n",
        "print(divmod(*t)) # 함수를 호출할 때 튜플 앞에 *을 붙여서 언패킹\n",
        "\n",
        "quotient, remainder = divmod(*t)\n",
        "print(quotient, remainder)"
      ],
      "execution_count": 21,
      "outputs": [
        {
          "output_type": "stream",
          "text": [
            "(2, 4)\n",
            "(2, 4)\n",
            "2 4\n"
          ],
          "name": "stdout"
        }
      ]
    },
    {
      "metadata": {
        "id": "wQmJtSD0fjtL",
        "colab_type": "code",
        "colab": {
          "base_uri": "https://localhost:8080/",
          "height": 34
        },
        "outputId": "0e8ed0fd-8830-4640-dc14-bf957c800eb5"
      },
      "cell_type": "code",
      "source": [
        "import os\n",
        "\n",
        "path, filename = os.path.split(\"/home/ahracho/.ssh/idrsa.pub\") # 파일 경로에서 파일 이름만 떼어내줘\n",
        "print(path, filename)"
      ],
      "execution_count": 23,
      "outputs": [
        {
          "output_type": "stream",
          "text": [
            "/home/ahracho/.ssh idrsa.pub\n"
          ],
          "name": "stdout"
        }
      ]
    },
    {
      "metadata": {
        "id": "rJl3HyQUf__e",
        "colab_type": "code",
        "colab": {
          "base_uri": "https://localhost:8080/",
          "height": 69
        },
        "outputId": "f721cc89-a06f-46f7-80f1-0fe94fb2c71e"
      },
      "cell_type": "code",
      "source": [
        "a, b, *rest = range(5)                                  # 초과 항목을 *으로 잡을 수 있음\n",
        "print(\"a : \", a, \", b : \", b, \", rest : \", rest)\n",
        "\n",
        "a, b, *rest = range(3) \n",
        "print(\"a : \", a, \", b : \", b, \", rest : \", rest)\n",
        "\n",
        "a, b, *rest = range(2) \n",
        "print(\"a : \", a, \", b : \", b, \", rest : \", rest)"
      ],
      "execution_count": 25,
      "outputs": [
        {
          "output_type": "stream",
          "text": [
            "a :  0 , b :  1 , rest :  [2, 3, 4]\n",
            "a :  0 , b :  1 , rest :  [2]\n",
            "a :  0 , b :  1 , rest :  []\n"
          ],
          "name": "stdout"
        }
      ]
    },
    {
      "metadata": {
        "id": "iqKjXHFYga1e",
        "colab_type": "code",
        "colab": {
          "base_uri": "https://localhost:8080/",
          "height": 34
        },
        "outputId": "b6e16a75-5c7c-441e-e16a-ae6b5942c6a5"
      },
      "cell_type": "code",
      "source": [
        "a, *body, c, d = range(5) # 위치는 상관없다 하지만 *변수는 한번만 써야 함\n",
        "print(\"a : \", a, \", body : \", body, \", c : \", c, \", d : \", d)"
      ],
      "execution_count": 27,
      "outputs": [
        {
          "output_type": "stream",
          "text": [
            "a :  0 , body :  [1, 2] , c :  3 , d :  4\n"
          ],
          "name": "stdout"
        }
      ]
    },
    {
      "metadata": {
        "id": "5dCUmtvZgp9l",
        "colab_type": "code",
        "colab": {}
      },
      "cell_type": "code",
      "source": [
        ""
      ],
      "execution_count": 0,
      "outputs": []
    },
    {
      "metadata": {
        "id": "6iiy9q8YhBoP",
        "colab_type": "text"
      },
      "cell_type": "markdown",
      "source": [
        "#### 2.3.3. 내포된 튜플 언패킹\n",
        "튜플 안에 튜플이 또 있는 경우에도 언패킹이 똑똑하게 잘 된다."
      ]
    },
    {
      "metadata": {
        "id": "xRoRSre8hIby",
        "colab_type": "code",
        "colab": {
          "base_uri": "https://localhost:8080/",
          "height": 86
        },
        "outputId": "09d1aac0-a4e4-40a1-a7c6-aa733c6cd945"
      },
      "cell_type": "code",
      "source": [
        "metro_areas = [\n",
        "    ('Tokyo', 'JP', 36.933, (35.689722, 139.691667)),   # <1>\n",
        "    ('Delhi NCR', 'IN', 21.935, (28.613889, 77.208889)),\n",
        "    ('Mexico City', 'MX', 20.142, (19.433333, -99.133333)),\n",
        "    ('New York-Newark', 'US', 20.104, (40.808611, -74.020386)),\n",
        "    ('Sao Paulo', 'BR', 19.649, (-23.547778, -46.635833)),\n",
        "]\n",
        "\n",
        "print('{:15} | {:^9} | {:^9}'.format('', 'lat.', 'long.'))\n",
        "\n",
        "fmt = '{:15} | {:9.4f} | {:9.4f}'\n",
        "for name, cc, pop, (latitude, longitude) in metro_areas:  # <2>\n",
        "    if longitude <= 0:  # <3>\n",
        "        print(fmt.format(name, latitude, longitude))"
      ],
      "execution_count": 30,
      "outputs": [
        {
          "output_type": "stream",
          "text": [
            "                |   lat.    |   long.  \n",
            "Mexico City     |   19.4333 |  -99.1333\n",
            "New York-Newark |   40.8086 |  -74.0204\n",
            "Sao Paulo       |  -23.5478 |  -46.6358\n"
          ],
          "name": "stdout"
        }
      ]
    },
    {
      "metadata": {
        "id": "lgFgjR3ghfaZ",
        "colab_type": "text"
      },
      "cell_type": "markdown",
      "source": [
        "#### 2.3.4. Named Tuple\n",
        "앞선 예제들처럼 튜플을 레코드처럼 사용할 수 있지만, 필드 이름을 적용할 수 없어서 조금 부족한 느낌이다. 이를 보완하는 것이 namedtuple()이다. "
      ]
    },
    {
      "metadata": {
        "id": "eI2B8O-YhP2y",
        "colab_type": "code",
        "colab": {
          "base_uri": "https://localhost:8080/",
          "height": 69
        },
        "outputId": "7c68edbf-3723-4398-83ec-5697b0bd7daf"
      },
      "cell_type": "code",
      "source": [
        "from collections import namedtuple\n",
        "city = namedtuple('City', 'name country population coordinates') # (클래스 이름, 필드 이름 나열)\n",
        "tokyo = city('Tokyo', 'JP', 36.933, (35.689722, 139.691667))\n",
        "print(tokyo)\n",
        "\n",
        "# 필드 이름으로 값에 접근할 수도 있다.\n",
        "print(tokyo.population)\n",
        "print(tokyo.coordinates)"
      ],
      "execution_count": 33,
      "outputs": [
        {
          "output_type": "stream",
          "text": [
            "City(name='Tokyo', country='JP', population=36.933, coordinates=(35.689722, 139.691667))\n",
            "36.933\n",
            "(35.689722, 139.691667)\n"
          ],
          "name": "stdout"
        }
      ]
    },
    {
      "metadata": {
        "id": "3ywYeebNiTI_",
        "colab_type": "code",
        "colab": {
          "base_uri": "https://localhost:8080/",
          "height": 139
        },
        "outputId": "ad31767c-9a71-4ca8-875b-4c6af96b2df3"
      },
      "cell_type": "code",
      "source": [
        "print(city._fields)\n",
        "\n",
        "LatLong = namedtuple('LatLong', 'lat long')\n",
        "\n",
        "delhi_data = ('Delhi NCR', 'IN', 21.935, LatLong(28.613889, 77.208889))\n",
        "\n",
        "delhi = city._make(delhi_data) # city(*delhi_data) 과 동일\n",
        "print(delhi)\n",
        "\n",
        "print(delhi._asdict()) # 필드와 값을 딕셔너리처럼\n",
        "print(\"\")\n",
        "\n",
        "for key, value in delhi._asdict().items():\n",
        "  print(key + \": \", value)"
      ],
      "execution_count": 35,
      "outputs": [
        {
          "output_type": "stream",
          "text": [
            "('name', 'country', 'population', 'coordinates')\n",
            "City(name='Delhi NCR', country='IN', population=21.935, coordinates=LatLong(lat=28.613889, long=77.208889))\n",
            "OrderedDict([('name', 'Delhi NCR'), ('country', 'IN'), ('population', 21.935), ('coordinates', LatLong(lat=28.613889, long=77.208889))])\n",
            "name:  Delhi NCR\n",
            "country:  IN\n",
            "population:  21.935\n",
            "coordinates:  LatLong(lat=28.613889, long=77.208889)\n"
          ],
          "name": "stdout"
        }
      ]
    },
    {
      "metadata": {
        "id": "LZG8FlbHnXZR",
        "colab_type": "text"
      },
      "cell_type": "markdown",
      "source": [
        "#### 2.3.5. 불변 리스트로서의 튜플\n",
        "튜플은 리스트와 매우 유사하지만 값을 변경할 수 없기 때문에, 항목을 추가/삭제, 변경 하는 기능, \\__reversed\\__ 메서드를 제외하고는 리스트가 제공하는 메서드를 모두 지원한다. "
      ]
    },
    {
      "metadata": {
        "id": "NFv5gGtvnx2S",
        "colab_type": "text"
      },
      "cell_type": "markdown",
      "source": [
        "### 2.4. 슬라이싱\n",
        "#### 2.4.1. 슬라이스와 범위 지정시에 마지막 항목이 포함되지 않는 이유\n",
        "- range(n), mylist\\[:3\\]처럼 중단점만 이용해서 슬라이싱/범위 지정할 때 계산이 쉽다\n",
        "- 시작점/중단점을 모두 지정할 때에도 계산이 쉽다.\n",
        "- 시퀀스 분할이 쉽다. mylist\\[:3\\] mylist\\[3:5\\] 등"
      ]
    },
    {
      "metadata": {
        "id": "4EUpos1gok6w",
        "colab_type": "code",
        "colab": {
          "base_uri": "https://localhost:8080/",
          "height": 86
        },
        "outputId": "b7c2f812-c77d-4d2a-cc6b-5aed9313cb1a"
      },
      "cell_type": "code",
      "source": [
        "l = [10, 20, 30, 40, 50, 60]\n",
        "print(l[:2])\n",
        "print(l[2:])\n",
        "print(l[:3])\n",
        "print(l[3:])"
      ],
      "execution_count": 36,
      "outputs": [
        {
          "output_type": "stream",
          "text": [
            "[10, 20]\n",
            "[30, 40, 50, 60]\n",
            "[10, 20, 30]\n",
            "[40, 50, 60]\n"
          ],
          "name": "stdout"
        }
      ]
    },
    {
      "metadata": {
        "id": "0L8amdI8pc8s",
        "colab_type": "text"
      },
      "cell_type": "markdown",
      "source": [
        "#### 2.4.2. 슬라이스 객체"
      ]
    },
    {
      "metadata": {
        "id": "jo0aqEHVoy_C",
        "colab_type": "code",
        "colab": {
          "base_uri": "https://localhost:8080/",
          "height": 69
        },
        "outputId": "8d1d189f-27a2-4d43-f100-a5f8beea31ed"
      },
      "cell_type": "code",
      "source": [
        "s = 'bicycle'\n",
        "print(s[::3]) # 슬라이스에서 3번째는 stride\n",
        "print(s[::-1])\n",
        "print(s[::-2])"
      ],
      "execution_count": 37,
      "outputs": [
        {
          "output_type": "stream",
          "text": [
            "bye\n",
            "elcycib\n",
            "eccb\n"
          ],
          "name": "stdout"
        }
      ]
    },
    {
      "metadata": {
        "id": "aB8MsSH4pwS_",
        "colab_type": "code",
        "colab": {
          "base_uri": "https://localhost:8080/",
          "height": 52
        },
        "outputId": "730aa24f-f987-4af1-ec48-c5db47536e59"
      },
      "cell_type": "code",
      "source": [
        "# 슬라이싱에 사용하는 [start:stop:step] 기호는 사실 slice 객체를 생성한다\n",
        "# 반복되는 구간을 slice 객체로 규격화할 수 있다\n",
        "\n",
        "invoice = \"\"\"\n",
        "0.....6.................................40...........52...55........\n",
        "1909  Pimoroni PiBrella                 $17.50        3   $52.50\n",
        "\"\"\"\n",
        "\n",
        "SKU = slice(0,6)\n",
        "DESCRIPTION = slice(6, 40)\n",
        "UNIT_PRICE = slice(40, 52)\n",
        "QUANTITY = slice(52, 55)\n",
        "ITEM_TOTAL = slice(55, None)\n",
        "\n",
        "line_items = invoice.split('\\n')[2:]\n",
        "\n",
        "for item in line_items:\n",
        "  print(item[UNIT_PRICE], item[DESCRIPTION])"
      ],
      "execution_count": 38,
      "outputs": [
        {
          "output_type": "stream",
          "text": [
            "$17.50       Pimoroni PiBrella                 \n",
            " \n"
          ],
          "name": "stdout"
        }
      ]
    },
    {
      "metadata": {
        "id": "myu_x5FQuu1H",
        "colab_type": "code",
        "colab": {}
      },
      "cell_type": "code",
      "source": [
        ""
      ],
      "execution_count": 0,
      "outputs": []
    },
    {
      "metadata": {
        "id": "ExrkT5bMx2-r",
        "colab_type": "text"
      },
      "cell_type": "markdown",
      "source": [
        "#### 2.4.3. 다차원 슬라이싱과 생략 기호\n",
        "Numpy 패키지에서 다차원 슬라이싱은 A\\[x:y, a:b\\]의 형태로 작성하고 생략 기호 ...으로 슬라이싱이 필요없는 차원은 생략할 수 있다.\n",
        "\n",
        "\n",
        "#### 2.4.4. 슬라이스에 할당하기"
      ]
    },
    {
      "metadata": {
        "id": "bcXg53swzEVC",
        "colab_type": "code",
        "colab": {
          "base_uri": "https://localhost:8080/",
          "height": 104
        },
        "outputId": "dd7fa46a-a195-4393-d271-b93034175bd1"
      },
      "cell_type": "code",
      "source": [
        "l = list(range(10))\n",
        "print(l)\n",
        "\n",
        "l[2:5] = [20, 30]\n",
        "print(l)\n",
        "\n",
        "del l[5:7]\n",
        "print(l)\n",
        "\n",
        "l[3::2] = [11, 22]\n",
        "print(l)\n",
        "\n",
        "# l[2:5] = 100 # error\n",
        "\n",
        "l[2:5] = [100]\n",
        "print(l)"
      ],
      "execution_count": 39,
      "outputs": [
        {
          "output_type": "stream",
          "text": [
            "[0, 1, 2, 3, 4, 5, 6, 7, 8, 9]\n",
            "[0, 1, 20, 30, 5, 6, 7, 8, 9]\n",
            "[0, 1, 20, 30, 5, 8, 9]\n",
            "[0, 1, 20, 11, 5, 22, 9]\n",
            "[0, 1, 100, 22, 9]\n"
          ],
          "name": "stdout"
        }
      ]
    },
    {
      "metadata": {
        "id": "alDqGmF0z5e7",
        "colab_type": "code",
        "colab": {}
      },
      "cell_type": "code",
      "source": [
        ""
      ],
      "execution_count": 0,
      "outputs": []
    },
    {
      "metadata": {
        "id": "7l4SR-3Bz7JV",
        "colab_type": "text"
      },
      "cell_type": "markdown",
      "source": [
        "### 2.5. 시퀀스에 덧셈/곱셈 연산자 사용하기\n",
        "시퀀스에 덧셈/곱셈 연산자를 사용할 때는 피연산자 두개가 같은 자료형이어야 하고, 둘 다 값이 변경되지 않고 새로운 시퀀스를 만들어 리턴한다."
      ]
    },
    {
      "metadata": {
        "id": "zAvp4nUI0YI-",
        "colab_type": "code",
        "colab": {
          "base_uri": "https://localhost:8080/",
          "height": 52
        },
        "outputId": "2db7cb39-8be3-4927-b952-72f902c04aa3"
      },
      "cell_type": "code",
      "source": [
        "l = [1,2,3]\n",
        "print (l * 5)\n",
        "print(\"abc\"*3)"
      ],
      "execution_count": 40,
      "outputs": [
        {
          "output_type": "stream",
          "text": [
            "[1, 2, 3, 1, 2, 3, 1, 2, 3, 1, 2, 3, 1, 2, 3]\n",
            "abcabcabc\n"
          ],
          "name": "stdout"
        }
      ]
    },
    {
      "metadata": {
        "id": "uaULT_6Z0fd9",
        "colab_type": "code",
        "colab": {}
      },
      "cell_type": "code",
      "source": [
        ""
      ],
      "execution_count": 0,
      "outputs": []
    },
    {
      "metadata": {
        "id": "80sOMo2S0idk",
        "colab_type": "text"
      },
      "cell_type": "markdown",
      "source": [
        "#### 2.5.1. 리스트의 리스트 만들기\n"
      ]
    },
    {
      "metadata": {
        "id": "08yo3W0C1PP9",
        "colab_type": "code",
        "colab": {
          "base_uri": "https://localhost:8080/",
          "height": 52
        },
        "outputId": "7234e84e-49a0-48be-f365-81bf50214ffe"
      },
      "cell_type": "code",
      "source": [
        "board = [['_'] * 3 for i in range(3)]\n",
        "print(board)\n",
        "\n",
        "board[1][2] = 'X'\n",
        "print(board)"
      ],
      "execution_count": 41,
      "outputs": [
        {
          "output_type": "stream",
          "text": [
            "[['_', '_', '_'], ['_', '_', '_'], ['_', '_', '_']]\n",
            "[['_', '_', '_'], ['_', '_', 'X'], ['_', '_', '_']]\n"
          ],
          "name": "stdout"
        }
      ]
    },
    {
      "metadata": {
        "id": "1Qri1eTO1p-v",
        "colab_type": "code",
        "colab": {
          "base_uri": "https://localhost:8080/",
          "height": 52
        },
        "outputId": "d621ee9d-cda3-4afc-a7c3-35674fa9969e"
      },
      "cell_type": "code",
      "source": [
        "weird_board = [['_'] * 3] * 3 # 리스트는 레퍼런스를 가지고 있기 때문에 같은 객체의 레퍼런스를 3개 가지고 있는 형태\n",
        "print(weird_board)\n",
        "\n",
        "weird_board[1][2] = 'O' # 같은 레퍼런스를 가지고 있기 때문에 모두 바뀜\n",
        "print(weird_board)"
      ],
      "execution_count": 43,
      "outputs": [
        {
          "output_type": "stream",
          "text": [
            "[['_', '_', '_'], ['_', '_', '_'], ['_', '_', '_']]\n",
            "[['_', '_', 'O'], ['_', '_', 'O'], ['_', '_', 'O']]\n"
          ],
          "name": "stdout"
        }
      ]
    },
    {
      "metadata": {
        "id": "Nmif2k31181X",
        "colab_type": "code",
        "colab": {}
      },
      "cell_type": "code",
      "source": [
        ""
      ],
      "execution_count": 0,
      "outputs": []
    },
    {
      "metadata": {
        "id": "rPqCYKIS4d12",
        "colab_type": "text"
      },
      "cell_type": "markdown",
      "source": [
        "### 2.6. 시퀀스의 복합 할당\n",
        "+=, \\*= 는 첫번째 피연산자에 따라 다르게 동작한다. +=, \\*= 를 실행하면 \\_\\_iadd()\\_\\_ 메서드가 실행되는데 이 메서드가 구현되지 않은 시퀀스의 경우에는 \\_\\_add\\_\\_가 실행된다.  \n",
        "\n",
        "\\_\\_iadd()\\_\\_는 extend와 같이 동작해서 기존의 시퀀스 값이 변경되지만, \\_\\_add\\_\\_는 덧셈과 마찬가지로 합쳐서 새로운 시퀀스를 리턴한다. "
      ]
    },
    {
      "metadata": {
        "id": "XiDBDg-o8WKw",
        "colab_type": "code",
        "colab": {
          "base_uri": "https://localhost:8080/",
          "height": 69
        },
        "outputId": "cd96ee3d-acf8-47a3-9cfc-a2f04f77f45c"
      },
      "cell_type": "code",
      "source": [
        "l = [1, 2, 3]\n",
        "print(id(l))\n",
        "l *= 2\n",
        "print(l)\n",
        "print(id(l))"
      ],
      "execution_count": 44,
      "outputs": [
        {
          "output_type": "stream",
          "text": [
            "139941357123976\n",
            "[1, 2, 3, 1, 2, 3]\n"
          ],
          "name": "stdout"
        },
        {
          "output_type": "execute_result",
          "data": {
            "text/plain": [
              "139941357123976"
            ]
          },
          "metadata": {
            "tags": []
          },
          "execution_count": 44
        }
      ]
    },
    {
      "metadata": {
        "id": "UJBT_GI08dwE",
        "colab_type": "code",
        "colab": {
          "base_uri": "https://localhost:8080/",
          "height": 69
        },
        "outputId": "49b88d24-7e00-400c-8965-327055cec9d7"
      },
      "cell_type": "code",
      "source": [
        "t = (1, 2, 3)\n",
        "print(id(t))\n",
        "t *= 2\n",
        "print(t)\n",
        "print(id(t))"
      ],
      "execution_count": 45,
      "outputs": [
        {
          "output_type": "stream",
          "text": [
            "139941357479760\n",
            "(1, 2, 3, 1, 2, 3)\n",
            "139941369217672\n"
          ],
          "name": "stdout"
        }
      ]
    },
    {
      "metadata": {
        "id": "SWdRLzYm8p3P",
        "colab_type": "code",
        "colab": {
          "base_uri": "https://localhost:8080/",
          "height": 185
        },
        "outputId": "97c333c0-9525-40f8-9802-e6bbb3a99817"
      },
      "cell_type": "code",
      "source": [
        "t = (1, 2, [30, 40])\n",
        "t[2] += [50, 60] # t[2].extend([50, 60]) 하면 에러 X\n"
      ],
      "execution_count": 49,
      "outputs": [
        {
          "output_type": "error",
          "ename": "TypeError",
          "evalue": "ignored",
          "traceback": [
            "\u001b[0;31m---------------------------------------------------------------------------\u001b[0m",
            "\u001b[0;31mTypeError\u001b[0m                                 Traceback (most recent call last)",
            "\u001b[0;32m<ipython-input-49-0e9217592952>\u001b[0m in \u001b[0;36m<module>\u001b[0;34m()\u001b[0m\n\u001b[1;32m      1\u001b[0m \u001b[0mt\u001b[0m \u001b[0;34m=\u001b[0m \u001b[0;34m(\u001b[0m\u001b[0;36m1\u001b[0m\u001b[0;34m,\u001b[0m \u001b[0;36m2\u001b[0m\u001b[0;34m,\u001b[0m \u001b[0;34m[\u001b[0m\u001b[0;36m30\u001b[0m\u001b[0;34m,\u001b[0m \u001b[0;36m40\u001b[0m\u001b[0;34m]\u001b[0m\u001b[0;34m)\u001b[0m\u001b[0;34m\u001b[0m\u001b[0m\n\u001b[0;32m----> 2\u001b[0;31m \u001b[0mt\u001b[0m\u001b[0;34m[\u001b[0m\u001b[0;36m2\u001b[0m\u001b[0;34m]\u001b[0m \u001b[0;34m+=\u001b[0m \u001b[0;34m[\u001b[0m\u001b[0;36m50\u001b[0m\u001b[0;34m,\u001b[0m \u001b[0;36m60\u001b[0m\u001b[0;34m]\u001b[0m\u001b[0;34m\u001b[0m\u001b[0m\n\u001b[0m",
            "\u001b[0;31mTypeError\u001b[0m: 'tuple' object does not support item assignment"
          ]
        }
      ]
    },
    {
      "metadata": {
        "id": "Ius6u8NM8yer",
        "colab_type": "code",
        "colab": {
          "base_uri": "https://localhost:8080/",
          "height": 34
        },
        "outputId": "a3559788-9873-4b71-db55-e9954db7f2a2"
      },
      "cell_type": "code",
      "source": [
        "print(t)\n"
      ],
      "execution_count": 50,
      "outputs": [
        {
          "output_type": "stream",
          "text": [
            "(1, 2, [30, 40, 50, 60])\n"
          ],
          "name": "stdout"
        }
      ]
    },
    {
      "metadata": {
        "id": "hg7Kva6a9QBC",
        "colab_type": "code",
        "colab": {}
      },
      "cell_type": "code",
      "source": [
        ""
      ],
      "execution_count": 0,
      "outputs": []
    },
    {
      "metadata": {
        "id": "N1BrhmzP-Mvl",
        "colab_type": "text"
      },
      "cell_type": "markdown",
      "source": [
        "### 2.7. list.sort()와 sorted() 내장 함수\n",
        "\n",
        "list.sort() 메소드는 사본을 만들지 않고 리스트 내부를 변경해서 정렬하고 이를 알려주기 위해 None을 반환한다. 반대로 sorted() 함수는 새로운 리스트를 생성하여 반환한다. "
      ]
    },
    {
      "metadata": {
        "id": "m-g_wL6q-Pz6",
        "colab_type": "code",
        "colab": {
          "base_uri": "https://localhost:8080/",
          "height": 156
        },
        "outputId": "50659a5a-6261-40e5-e30c-d62d54ec5c4e"
      },
      "cell_type": "code",
      "source": [
        "fruits = ['grape', 'raspberry', 'apple', 'banana']\n",
        "\n",
        "print(sorted(fruits), \"<< sorted()\")\n",
        "print(fruits, \"<< fruits\")\n",
        "print(sorted(fruits, reverse=True), \"<< sorted() reversed\")\n",
        "print(sorted(fruits, key=len), \"<< sorted() key\")\n",
        "print(sorted(fruits, reverse=True, key=len))\n",
        "print(\"\")\n",
        "print(fruits, \"<< fruits\")\n",
        "fruits.sort()\n",
        "print(fruits)"
      ],
      "execution_count": 51,
      "outputs": [
        {
          "output_type": "stream",
          "text": [
            "['apple', 'banana', 'grape', 'raspberry'] << sorted()\n",
            "['grape', 'raspberry', 'apple', 'banana'] << fruits\n",
            "['raspberry', 'grape', 'banana', 'apple'] << sorted() reversed\n",
            "['grape', 'apple', 'banana', 'raspberry'] << sorted() key\n",
            "['raspberry', 'banana', 'grape', 'apple']\n",
            "\n",
            "['grape', 'raspberry', 'apple', 'banana'] << fruits\n",
            "['apple', 'banana', 'grape', 'raspberry']\n"
          ],
          "name": "stdout"
        }
      ]
    },
    {
      "metadata": {
        "id": "qwaHi8kDBFnL",
        "colab_type": "code",
        "colab": {}
      },
      "cell_type": "code",
      "source": [
        ""
      ],
      "execution_count": 0,
      "outputs": []
    },
    {
      "metadata": {
        "id": "0za9LV73BYX4",
        "colab_type": "text"
      },
      "cell_type": "markdown",
      "source": [
        "### 2.8. 정렬된 시퀀스를 bisect로 관리하기\n",
        "\n",
        "bisect()는 이진 검색 알고리즘을 이용해서 시퀀스를 검색하고, insort()는 정렬된 시퀀스 안에 항목을 삽입한다.\n",
        "\n",
        "#### 2.8.1. bisect()로 검색하기\n",
        "\n",
        "bisect(haystack, needle) 형태로 사용하고, 정렬된 시퀀스인 haystack 안에서 오름차순 정렬을 유지한 채 needle을 추가할 수 있는 위치를 찾아 index를 리턴한다. "
      ]
    },
    {
      "metadata": {
        "id": "NOG0tEXVCR1E",
        "colab_type": "code",
        "colab": {
          "base_uri": "https://localhost:8080/",
          "height": 243
        },
        "outputId": "63357478-5d29-4dbc-b987-3380c84f0d06"
      },
      "cell_type": "code",
      "source": [
        "# BEGIN BISECT_DEMO\n",
        "import bisect\n",
        "import sys\n",
        "\n",
        "HAYSTACK = [1, 4, 5, 6, 8, 12, 15, 20, 21, 23, 23, 26, 29, 30]\n",
        "NEEDLES = [0, 1, 2, 5, 8, 10, 22, 23, 29, 30, 31]\n",
        "\n",
        "ROW_FMT = '{0:2d} @ {1:2d}    {2}{0:<2d}'\n",
        "\n",
        "def demo(bisect_fn):\n",
        "    for needle in reversed(NEEDLES):\n",
        "        position = bisect_fn(HAYSTACK, needle)  # <1>\n",
        "        offset = position * '    |'  # <2>\n",
        "        print(ROW_FMT.format(needle, position, offset))  # <3>\n",
        "\n",
        "if __name__ == '__main__':\n",
        "\n",
        "    if sys.argv[-1] == 'left':    # <4>\n",
        "        bisect_fn = bisect.bisect_left\n",
        "    else:\n",
        "        bisect_fn = bisect.bisect\n",
        "\n",
        "    print('DEMO:', bisect_fn.__name__)  # <5>\n",
        "    print('haystack ->', ' '.join('%2d' % n for n in HAYSTACK))\n",
        "    demo(bisect_fn)\n",
        "\n",
        "# END BISECT_DEMO"
      ],
      "execution_count": 53,
      "outputs": [
        {
          "output_type": "stream",
          "text": [
            "DEMO: bisect\n",
            "haystack ->  1  4  5  6  8 12 15 20 21 23 23 26 29 30\n",
            "31 @ 14        |    |    |    |    |    |    |    |    |    |    |    |    |    |31\n",
            "30 @ 14        |    |    |    |    |    |    |    |    |    |    |    |    |    |30\n",
            "29 @ 13        |    |    |    |    |    |    |    |    |    |    |    |    |29\n",
            "23 @ 11        |    |    |    |    |    |    |    |    |    |    |23\n",
            "22 @  9        |    |    |    |    |    |    |    |    |22\n",
            "10 @  5        |    |    |    |    |10\n",
            " 8 @  5        |    |    |    |    |8 \n",
            " 5 @  3        |    |    |5 \n",
            " 2 @  1        |2 \n",
            " 1 @  1        |1 \n",
            " 0 @  0    0 \n"
          ],
          "name": "stdout"
        }
      ]
    },
    {
      "metadata": {
        "id": "5cy9J6HxDRpl",
        "colab_type": "text"
      },
      "cell_type": "markdown",
      "source": [
        "### 2.8.2. bisect.insort()로 삽입하기\n",
        "\n",
        "정렬은 연산이 많이 들기 때문에 정렬한 후에는 정렬 상태를 유지하는 것이 좋다. insort(seq, item)는 seq를 오름차순으로 유지한 채 item를 제 순서에 맞게 삽입한다. "
      ]
    },
    {
      "metadata": {
        "id": "IwlM68zJC1PV",
        "colab_type": "code",
        "colab": {
          "base_uri": "https://localhost:8080/",
          "height": 139
        },
        "outputId": "b384ba0c-86d7-49c6-a880-90df432c1f99"
      },
      "cell_type": "code",
      "source": [
        "import bisect\n",
        "import random\n",
        "\n",
        "SIZE = 7\n",
        "\n",
        "random.seed(1729)\n",
        "\n",
        "my_list = []\n",
        "for i in range(SIZE):\n",
        "    new_item = random.randrange(SIZE*2)\n",
        "    bisect.insort(my_list, new_item)\n",
        "    print('%2d ->' % new_item, my_list)"
      ],
      "execution_count": 54,
      "outputs": [
        {
          "output_type": "stream",
          "text": [
            "10 -> [10]\n",
            " 0 -> [0, 10]\n",
            " 6 -> [0, 6, 10]\n",
            " 8 -> [0, 6, 8, 10]\n",
            " 7 -> [0, 6, 7, 8, 10]\n",
            " 2 -> [0, 2, 6, 7, 8, 10]\n",
            "10 -> [0, 2, 6, 7, 8, 10, 10]\n"
          ],
          "name": "stdout"
        }
      ]
    },
    {
      "metadata": {
        "id": "G3DcTtkSD9Kq",
        "colab_type": "text"
      },
      "cell_type": "markdown",
      "source": [
        "### 2.9. 리스트가 답이 아닐 때\n",
        "#### 2.9.1. 배열\n",
        "\n",
        "리스트 안에 숫자만 있다면 array.array가 리스트보다 훨씬 효율적이다. 파이썬 배열은 C배열만큼 가볍다. 배열을 생성할 때는 배열에 저장되는 각 항목의 C 기반 데이터 타입을 결정하는 타입코드를 지정한다. "
      ]
    },
    {
      "metadata": {
        "id": "e-1k7abRDw9W",
        "colab_type": "code",
        "colab": {
          "base_uri": "https://localhost:8080/",
          "height": 69
        },
        "outputId": "6d403db8-f0f4-465a-bb38-7659512b248f"
      },
      "cell_type": "code",
      "source": [
        "# 숫자 천만개를 쓰고 읽는데도 속도가 엄청 빠름\n",
        "\n",
        "from array import array\n",
        "from random import random\n",
        "floats = array('d', (random() for i in range(10**7)))\n",
        "print(floats[-1])\n",
        "\n",
        "fp = open('floats.bin', 'wb')\n",
        "floats.tofile(fp)\n",
        "fp.close()\n",
        "\n",
        "floats2 = array('d')\n",
        "fp = open('floats.bin', 'rb')\n",
        "floats2.fromfile(fp, 10**7)\n",
        "fp.close()\n",
        "\n",
        "print(floats2[-1])\n",
        "print(floats == floats[2])\n",
        "\n"
      ],
      "execution_count": 56,
      "outputs": [
        {
          "output_type": "stream",
          "text": [
            "0.1288579230853678\n",
            "0.1288579230853678\n",
            "False\n"
          ],
          "name": "stdout"
        }
      ]
    },
    {
      "metadata": {
        "id": "rbPP_JkZFUk8",
        "colab_type": "text"
      },
      "cell_type": "markdown",
      "source": [
        "#### 2.9.2. 메모리 뷰\n",
        "\n",
        "메모리뷰 내장 클래스는 공유 메모리 시퀀스형으로 bytes를 복사하기 않고 슬라이스를 다룰 수 있게 해준다. \n",
        "\n",
        "메모리뷰는 본질적으로 파이썬 자체에 들어있는 NumPy 배열 구조체를 일반화한 것이다. 메모리뷰는 PIL 이미지, SQLite 데이터베이스, NumPy 배열 등 데이터 구조체를 복사하지 않고 메모리를 공유할 수 있게 해준다. 데이터셋이 커지는 경우 아주 중요한 기법이다. "
      ]
    },
    {
      "metadata": {
        "id": "h2Xw5oWQFBPa",
        "colab_type": "code",
        "colab": {
          "base_uri": "https://localhost:8080/",
          "height": 86
        },
        "outputId": "ca7e6dad-1fd8-4e9e-8e80-b8b3b23c42e0"
      },
      "cell_type": "code",
      "source": [
        "import array\n",
        "numbers = array.array('h', [-2, -1, 0, 1, 2]) # short 2바이트\n",
        "memv = memoryview(numbers)\n",
        "\n",
        "print(len(memv))\n",
        "print(memv[0])\n",
        "\n",
        "memv_oct = memv.cast('B') # char 1바이트\n",
        "print(memv_oct.tolist())\n",
        "memv_oct[5] = 1 # 0, 1 두 바이트를 리틀 엔디언으로 -> 256\n",
        "print(numbers)"
      ],
      "execution_count": 58,
      "outputs": [
        {
          "output_type": "stream",
          "text": [
            "5\n",
            "-2\n",
            "[254, 255, 255, 255, 0, 0, 1, 0, 2, 0]\n",
            "array('h', [-2, -1, 256, 1, 2])\n"
          ],
          "name": "stdout"
        }
      ]
    },
    {
      "metadata": {
        "id": "bFqmJHBAH6H5",
        "colab_type": "text"
      },
      "cell_type": "markdown",
      "source": [
        "#### 2.9.3. NumPy와 SciPy"
      ]
    },
    {
      "metadata": {
        "id": "8zCl25sZGPws",
        "colab_type": "code",
        "colab": {
          "base_uri": "https://localhost:8080/",
          "height": 295
        },
        "outputId": "282de077-2919-4aef-be16-05bc5e10ffb8"
      },
      "cell_type": "code",
      "source": [
        "import numpy\n",
        "a = numpy.arange(12)\n",
        "print(a)\n",
        "\n",
        "print(type(a))\n",
        "print(a.shape)\n",
        "a.shape = 3, 4\n",
        "print()\n",
        "print(a)\n",
        "\n",
        "print(a[2])\n",
        "print()\n",
        "print(a[2, 1])\n",
        "print(a[:,1])\n",
        "print()\n",
        "print(a.transpose())\n"
      ],
      "execution_count": 61,
      "outputs": [
        {
          "output_type": "stream",
          "text": [
            "[ 0  1  2  3  4  5  6  7  8  9 10 11]\n",
            "<class 'numpy.ndarray'>\n",
            "(12,)\n",
            "\n",
            "[[ 0  1  2  3]\n",
            " [ 4  5  6  7]\n",
            " [ 8  9 10 11]]\n",
            "[ 8  9 10 11]\n",
            "\n",
            "9\n",
            "[1 5 9]\n",
            "\n",
            "[[ 0  4  8]\n",
            " [ 1  5  9]\n",
            " [ 2  6 10]\n",
            " [ 3  7 11]]\n"
          ],
          "name": "stdout"
        }
      ]
    },
    {
      "metadata": {
        "id": "h_U-aUAyIuKY",
        "colab_type": "text"
      },
      "cell_type": "markdown",
      "source": [
        "#### 2.9.4. 덱 및 기타 큐\n",
        "\n",
        "append(), pop() 메서드를 사용해서 리스트를 큐나 스택처럼 사용할 수 있지만, 리스트 왼쪽에 삽입하거나 삭제하는 연산은 전체 리스트를 이동시켜야 하기 때문에 연산 처리가 많다.  \n",
        "\n",
        "덱 클래스는 큐의 양쪽 어디에서든 빠르게 삽입/삭제할 수 있도록 설계된 양뱡향 큐이다."
      ]
    },
    {
      "metadata": {
        "id": "hn7WrldLIMzH",
        "colab_type": "code",
        "colab": {
          "base_uri": "https://localhost:8080/",
          "height": 121
        },
        "outputId": "c40692f3-407d-4357-81bc-e4e61696483c"
      },
      "cell_type": "code",
      "source": [
        "from collections import deque\n",
        "\n",
        "dq = deque(range(10), maxlen=10) # 최대 길이 설정 가능\n",
        "print(dq)\n",
        "\n",
        "dq.rotate(3)\n",
        "print(dq)\n",
        "\n",
        "dq.rotate(-4)\n",
        "print(dq)\n",
        "\n",
        "dq.appendleft(-1)\n",
        "print(dq)\n",
        "\n",
        "dq.extend([11, 22, 33])\n",
        "print(dq)\n",
        "\n",
        "dq.extendleft([10, 20, 30]) # 앞에서부터 하나씩 밀어넣어서 순서는 반대\n",
        "print(dq)"
      ],
      "execution_count": 63,
      "outputs": [
        {
          "output_type": "stream",
          "text": [
            "deque([0, 1, 2, 3, 4, 5, 6, 7, 8, 9], maxlen=10)\n",
            "deque([7, 8, 9, 0, 1, 2, 3, 4, 5, 6], maxlen=10)\n",
            "deque([1, 2, 3, 4, 5, 6, 7, 8, 9, 0], maxlen=10)\n",
            "deque([-1, 1, 2, 3, 4, 5, 6, 7, 8, 9], maxlen=10)\n",
            "deque([3, 4, 5, 6, 7, 8, 9, 11, 22, 33], maxlen=10)\n",
            "deque([30, 20, 10, 3, 4, 5, 6, 7, 8, 9], maxlen=10)\n"
          ],
          "name": "stdout"
        }
      ]
    },
    {
      "metadata": {
        "id": "mO7CK0slJmx-",
        "colab_type": "code",
        "colab": {}
      },
      "cell_type": "code",
      "source": [
        ""
      ],
      "execution_count": 0,
      "outputs": []
    }
  ]
}