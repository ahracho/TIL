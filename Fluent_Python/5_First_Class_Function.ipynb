{
  "nbformat": 4,
  "nbformat_minor": 0,
  "metadata": {
    "colab": {
      "name": "5_First_Class_Function.ipynb",
      "version": "0.3.2",
      "provenance": [],
      "collapsed_sections": [],
      "include_colab_link": true
    },
    "kernelspec": {
      "name": "python3",
      "display_name": "Python 3"
    }
  },
  "cells": [
    {
      "cell_type": "markdown",
      "metadata": {
        "id": "view-in-github",
        "colab_type": "text"
      },
      "source": [
        "[View in Colaboratory](https://colab.research.google.com/github/ahracho/TIL/blob/master/Fluent_Python/5_First_Class_Function.ipynb)"
      ]
    },
    {
      "metadata": {
        "id": "TXm3qhRXGY32",
        "colab_type": "text"
      },
      "cell_type": "markdown",
      "source": [
        "# Part III.  객체로서의 함수\n",
        "## 5. 일급함수\n",
        "\n",
        "파이썬의 함수는 일급 객체이다. 일급 객체의 요건는 다음과 같다.  \n",
        "- 런타임에 생성할 수 있다.\n",
        "- 데이터 구조체의 변수나 요소에 할당할 수 있다.\n",
        "- 함수 인수로 전달할 수 있다.\n",
        "- 함수 결과로 반환할 수 있다.\n",
        "\n",
        "함수를 객체로 처리하는 실용적인 방법과 영향에 대해 집중적으로 살펴보자.\n",
        "\n",
        "### 5.1. 함수를 객체처럼 다루기"
      ]
    },
    {
      "metadata": {
        "id": "GnwbS_V4GV4C",
        "colab_type": "code",
        "colab": {
          "base_uri": "https://localhost:8080/",
          "height": 72
        },
        "outputId": "c6bc1ace-a167-4743-c066-a3ed1f693abb"
      },
      "cell_type": "code",
      "source": [
        "def factorial(n) :\n",
        "  '''return n!'''\n",
        "  return 1 if n < 2 else n * factorial(n-1)\n",
        "\n",
        "print(factorial(42))\n",
        "print(factorial.__doc__) # 도움말  텍스트 생성\n",
        "print(type(factorial))"
      ],
      "execution_count": 1,
      "outputs": [
        {
          "output_type": "stream",
          "text": [
            "1405006117752879898543142606244511569936384000000000\n",
            "return n!\n",
            "<class 'function'>\n"
          ],
          "name": "stdout"
        }
      ]
    },
    {
      "metadata": {
        "id": "2T0r1krkNPzT",
        "colab_type": "code",
        "colab": {
          "base_uri": "https://localhost:8080/",
          "height": 90
        },
        "outputId": "dad7714a-04d0-43ef-a800-a8c027b63fb0"
      },
      "cell_type": "code",
      "source": [
        "fact = factorial\n",
        "print(fact)\n",
        "\n",
        "print(fact(5))\n",
        "print(map(factorial, range(11)))\n",
        "print(list(map(fact, range(11)))) # map의 결과를 list로"
      ],
      "execution_count": 2,
      "outputs": [
        {
          "output_type": "stream",
          "text": [
            "<function factorial at 0x7f04d06a27b8>\n",
            "120\n",
            "<map object at 0x7f04d0932c50>\n",
            "[1, 1, 2, 6, 24, 120, 720, 5040, 40320, 362880, 3628800]\n"
          ],
          "name": "stdout"
        }
      ]
    },
    {
      "metadata": {
        "id": "VJDxZ2j2IlWg",
        "colab_type": "text"
      },
      "cell_type": "markdown",
      "source": [
        "### 5.2. 고위 함수\n",
        "\n",
        "함수를 인수로 받거나, 함수를 결과로 반환하는 함수를 고위 함수(High-Ordered function)라고 한다.\n",
        "\n",
        "sorted() 내장 함수도 일급 함수의 예이다. key 옵션에 선택적으로 함수를 전달받아 정렬할 항목에 적용가능하다."
      ]
    },
    {
      "metadata": {
        "id": "m4SJ8Rx6IU-O",
        "colab_type": "code",
        "colab": {
          "base_uri": "https://localhost:8080/",
          "height": 35
        },
        "outputId": "5df31e3e-0a08-426a-d553-ad40986f1c8a"
      },
      "cell_type": "code",
      "source": [
        "fruits = ['strawberry', 'fig', 'apple', 'cherry', 'raspberry', 'banana']\n",
        "sorted(fruits, key=len) # len 함수를 인수로 전달"
      ],
      "execution_count": 3,
      "outputs": [
        {
          "output_type": "execute_result",
          "data": {
            "text/plain": [
              "['fig', 'apple', 'cherry', 'banana', 'raspberry', 'strawberry']"
            ]
          },
          "metadata": {
            "tags": []
          },
          "execution_count": 3
        }
      ]
    },
    {
      "metadata": {
        "id": "Tx18r5XgOewv",
        "colab_type": "code",
        "colab": {
          "base_uri": "https://localhost:8080/",
          "height": 54
        },
        "outputId": "cab45a44-bd20-4b3f-df6d-9324df4f5c1c"
      },
      "cell_type": "code",
      "source": [
        "def reverse(word):\n",
        "  return word[::-1]\n",
        "\n",
        "print(reverse)\n",
        "sorted(fruits, key=reverse) # 각 단어 철자를 거꾸로 한 결과를 기준으로 정렬 - 기존 리스트에는 변화 X"
      ],
      "execution_count": 4,
      "outputs": [
        {
          "output_type": "stream",
          "text": [
            "<function reverse at 0x7f04d06a2b70>\n"
          ],
          "name": "stdout"
        },
        {
          "output_type": "execute_result",
          "data": {
            "text/plain": [
              "['banana', 'apple', 'fig', 'raspberry', 'strawberry', 'cherry']"
            ]
          },
          "metadata": {
            "tags": []
          },
          "execution_count": 4
        }
      ]
    },
    {
      "metadata": {
        "id": "xOkhjBReJ7mw",
        "colab_type": "text"
      },
      "cell_type": "markdown",
      "source": [
        "#### 5.2.1. map(), filter(), reduce()의 대안\n",
        "\n",
        "파이썬 3에 map(), filter() 함수는 여전히 내장함수이지만, 지능형 리스트나 제너레이터의 등장으로 활용도가 떨어졌다."
      ]
    },
    {
      "metadata": {
        "id": "GiuGxUL4J54I",
        "colab_type": "code",
        "colab": {
          "base_uri": "https://localhost:8080/",
          "height": 90
        },
        "outputId": "b52e3e3c-6ecc-4a65-8907-4294c7f820a3"
      },
      "cell_type": "code",
      "source": [
        "print(list(map(fact, range(6))))\n",
        "print([fact(n) for n in range(6)]) # 의미 전달 / 가독성 훨씬 좋음\n",
        "print(list(map(factorial, filter(lambda n : n % 2, range(6)))))\n",
        "print([factorial(n) for n in range(6) if n % 2]) # 의미 전달 / 가독성 훨씬 좋음"
      ],
      "execution_count": 6,
      "outputs": [
        {
          "output_type": "stream",
          "text": [
            "[1, 1, 2, 6, 24, 120]\n",
            "[1, 1, 2, 6, 24, 120]\n",
            "[1, 6, 120]\n",
            "[1, 6, 120]\n"
          ],
          "name": "stdout"
        }
      ]
    },
    {
      "metadata": {
        "id": "CyPsRx1w-V1N",
        "colab_type": "code",
        "colab": {
          "base_uri": "https://localhost:8080/",
          "height": 54
        },
        "outputId": "e1d175f2-2010-4485-9643-71a25dceda90"
      },
      "cell_type": "code",
      "source": [
        "from functools import reduce # 파이썬 3에선 reduce가 내장함수가 아니다\n",
        "from operator import add\n",
        "print(reduce(add, range(100))) # reduce는 연속된 항목에 연산을 적용해서 하나의 값으로 줄이는 역할\n",
        "print(sum(range(100))) # sum이 훨씬 사용하기 쉬움"
      ],
      "execution_count": 7,
      "outputs": [
        {
          "output_type": "stream",
          "text": [
            "4950\n",
            "4950\n"
          ],
          "name": "stdout"
        }
      ]
    },
    {
      "metadata": {
        "id": "u0k-rNZjLGo4",
        "colab_type": "text"
      },
      "cell_type": "markdown",
      "source": [
        "### 5.3. 익명함수\n",
        "\n",
        "lambda 키워드는 익명함수를 생성한다. 람다 본체에는 할당문이나 while, try 등 파이썬 문장을 사용할 수 없다. \n",
        "\n",
        "익명함수는 인수 목록 안에서 유용하게 사용된다. 고위 함수의 인수로 사용하는 방법 외에 익명 함수는 파이썬에서는 거의 사용되지 않는다. "
      ]
    },
    {
      "metadata": {
        "id": "VhKeg3KSKsAK",
        "colab_type": "code",
        "colab": {
          "base_uri": "https://localhost:8080/",
          "height": 35
        },
        "outputId": "8816ec8e-0004-4cf6-f8f8-44ab12c68d4c"
      },
      "cell_type": "code",
      "source": [
        "sorted(fruits, key=lambda word:word[::-1])"
      ],
      "execution_count": 8,
      "outputs": [
        {
          "output_type": "execute_result",
          "data": {
            "text/plain": [
              "['banana', 'apple', 'fig', 'raspberry', 'strawberry', 'cherry']"
            ]
          },
          "metadata": {
            "tags": []
          },
          "execution_count": 8
        }
      ]
    },
    {
      "metadata": {
        "id": "YK0Oc-peNvbE",
        "colab_type": "text"
      },
      "cell_type": "markdown",
      "source": [
        "### 5.4. 일곱 가지 맛의 콜러블 객체\n",
        "\n",
        "호출 연산자 ()를 사용할 수 있는 콜러블 객체의 종류\n",
        "\n",
        "1. 사용자 정의 함수: def나 람다 함수\n",
        "2. 내장 함수\n",
        "3. 내장 메서드\n",
        "4. 메서드 : 클래스 본체에 정의된 함수\n",
        "5. 클래스 : 생성자\n",
        "6. 클래스 객체 : 클래스가 \\_\\_call\\_\\_()를 구현하면, 이 클래스의 객체는 함수로 호출될 수 있다.\n",
        "7. 제너레이터 함수"
      ]
    },
    {
      "metadata": {
        "id": "uJKNN4CsPHgL",
        "colab_type": "text"
      },
      "cell_type": "markdown",
      "source": [
        "### 5.4. 사용자 정의 콜러블형\n",
        "\n",
        "파이썬 함수가 실제 객체일 뿐만 아니라, 모든 파이썬 객체가 함수처럼 동작하게 만들 수 있다. \\_\\_call\\_\\_() 메서드를 구현하면 된다."
      ]
    },
    {
      "metadata": {
        "id": "Zu5DqOErRPYT",
        "colab_type": "code",
        "colab": {
          "base_uri": "https://localhost:8080/",
          "height": 72
        },
        "outputId": "3f9f6e8e-dda4-477a-9798-b25fc44c1336"
      },
      "cell_type": "code",
      "source": [
        "import random\n",
        "\n",
        "class BingoCage:\n",
        "  def __init__(self, items):\n",
        "    self._items = list(items)\n",
        "    random.shuffle(self._items)\n",
        "   \n",
        "  def pick(self):\n",
        "    try:\n",
        "      return self._items.pop()\n",
        "    except IndexError:\n",
        "      raise LookupError(\"pick from empty BingoCage\")\n",
        "      \n",
        "  def __call__(self):\n",
        "    return self.pick()\n",
        "  \n",
        "bingo = BingoCage(range(3))\n",
        "print(bingo.pick())\n",
        "print(bingo()) # pick이 호출됨\n",
        "print(callable(bingo))"
      ],
      "execution_count": 9,
      "outputs": [
        {
          "output_type": "stream",
          "text": [
            "0\n",
            "1\n",
            "True\n"
          ],
          "name": "stdout"
        }
      ]
    },
    {
      "metadata": {
        "id": "e1JzSHCVTjm-",
        "colab_type": "text"
      },
      "cell_type": "markdown",
      "source": [
        "### 5.6. 함수 인트로스펙션 (Introspection)\n",
        "\n",
        "함수를 객체로 다루는 것과 관련된 속성을 알아보자. 일반적인 사용자 정의 클래스와 마찬가지로 함수는 \\_\\_dict\\_\\_ 속성을 이용해서 객체에 할당된 사용자 속성을 보관한다. "
      ]
    },
    {
      "metadata": {
        "id": "s-rlpC0vE3HZ",
        "colab_type": "code",
        "colab": {
          "base_uri": "https://localhost:8080/",
          "height": 660
        },
        "outputId": "621b2158-6bbe-41e6-fc00-f2da69749709"
      },
      "cell_type": "code",
      "source": [
        "dir(factorial)\n",
        "# 결과값은 일반적으로 파이썬 객체에 존재하는 속성들"
      ],
      "execution_count": 10,
      "outputs": [
        {
          "output_type": "execute_result",
          "data": {
            "text/plain": [
              "['__annotations__',\n",
              " '__call__',\n",
              " '__class__',\n",
              " '__closure__',\n",
              " '__code__',\n",
              " '__defaults__',\n",
              " '__delattr__',\n",
              " '__dict__',\n",
              " '__dir__',\n",
              " '__doc__',\n",
              " '__eq__',\n",
              " '__format__',\n",
              " '__ge__',\n",
              " '__get__',\n",
              " '__getattribute__',\n",
              " '__globals__',\n",
              " '__gt__',\n",
              " '__hash__',\n",
              " '__init__',\n",
              " '__init_subclass__',\n",
              " '__kwdefaults__',\n",
              " '__le__',\n",
              " '__lt__',\n",
              " '__module__',\n",
              " '__name__',\n",
              " '__ne__',\n",
              " '__new__',\n",
              " '__qualname__',\n",
              " '__reduce__',\n",
              " '__reduce_ex__',\n",
              " '__repr__',\n",
              " '__setattr__',\n",
              " '__sizeof__',\n",
              " '__str__',\n",
              " '__subclasshook__']"
            ]
          },
          "metadata": {
            "tags": []
          },
          "execution_count": 10
        }
      ]
    },
    {
      "metadata": {
        "id": "oSlrSYNBUUh5",
        "colab_type": "code",
        "colab": {}
      },
      "cell_type": "code",
      "source": [
        "# Django 예제\n",
        "def upper_case_name(obj):\n",
        "  return (\"%s %s\" % (obj.first_name, obj.last_name)).upper()\n",
        "\n",
        "upper_case_name.short_description = \"Customer Name\""
      ],
      "execution_count": 0,
      "outputs": []
    },
    {
      "metadata": {
        "id": "81Y06HPkUlwv",
        "colab_type": "code",
        "colab": {
          "base_uri": "https://localhost:8080/",
          "height": 201
        },
        "outputId": "32595e8f-3e14-42b1-fd4e-6ffef8318bb2"
      },
      "cell_type": "code",
      "source": [
        "class C : pass\n",
        "obj = C()\n",
        "def func() : pass\n",
        "sorted(set(dir(func)) - set(dir(obj))) # 일반 객체에는 없고 함수에만 있는 속성\n",
        "'''\n",
        "['__annotations__', # 매개변수와 반환값에 대한 주석\n",
        " '__call__',\n",
        " '__closure__',\n",
        " '__code__',\n",
        " '__defaults__', # 디폴트 매개변수 값\n",
        " '__get__',\n",
        " '__globals__',\n",
        " '__kwdefaults__',\n",
        " '__name__',\n",
        " '__qualname__'] # full name?\n",
        "'''"
      ],
      "execution_count": 11,
      "outputs": [
        {
          "output_type": "execute_result",
          "data": {
            "text/plain": [
              "['__annotations__',\n",
              " '__call__',\n",
              " '__closure__',\n",
              " '__code__',\n",
              " '__defaults__',\n",
              " '__get__',\n",
              " '__globals__',\n",
              " '__kwdefaults__',\n",
              " '__name__',\n",
              " '__qualname__']"
            ]
          },
          "metadata": {
            "tags": []
          },
          "execution_count": 11
        }
      ]
    },
    {
      "metadata": {
        "id": "z_BqDNSwUeXJ",
        "colab_type": "text"
      },
      "cell_type": "markdown",
      "source": [
        "### 5.7. 위치 매개변수에서 키워드 전용 매개변수까지\n",
        "\n"
      ]
    },
    {
      "metadata": {
        "id": "YSweItEvTih8",
        "colab_type": "code",
        "colab": {
          "base_uri": "https://localhost:8080/",
          "height": 164
        },
        "outputId": "69f0db9e-a05f-4046-ce25-f9259de766ab"
      },
      "cell_type": "code",
      "source": [
        "# * 뒤에 위치한 매개변수는 모두 키워드 전용 인수; *가 남은 위치인수를 흡수\n",
        "def tag(name, *content, cls=None, **attrs): # cls 매개변수는 키워드 인수로만 전달 가능\n",
        "  if cls is not None:\n",
        "    attrs['class'] = cls\n",
        "  if attrs:\n",
        "    attr_str = ''.join(' %s=%s'%(attr, value) for attr, value in sorted(attrs.items()))\n",
        "  else :\n",
        "    attr_str = ''\n",
        "    \n",
        "  if content:\n",
        "    return '\\n'.join('<%s%s>%s<\\%s>' % (name, attr_str, c, name) for c in content)\n",
        "  else :\n",
        "    return '<%s%s />' % (name, attr_str)\n",
        "  \n",
        "print(tag('br'))\n",
        "print(tag('p', 'hello'))\n",
        "print(tag('p', 'hello', 'world'))\n",
        "print(tag('p', 'hello', 'world', cls='sidebar'))\n",
        "print(tag(content='testing', name='img'))\n",
        "my_tag = {'name' : 'img', 'title' : 'Sunset Boulevard', 'src' : 'sunset.jpg', 'cls' : 'framed'}\n",
        "print(tag(**my_tag)) # 딕셔너리 앞에 **을 붙이면 딕셔너리 안의 모든 항목이 인수로 전달됨"
      ],
      "execution_count": 12,
      "outputs": [
        {
          "output_type": "stream",
          "text": [
            "<br />\n",
            "<p>hello<\\p>\n",
            "<p>hello<\\p>\n",
            "<p>world<\\p>\n",
            "<p class=sidebar>hello<\\p>\n",
            "<p class=sidebar>world<\\p>\n",
            "<img content=testing />\n",
            "<img class=framed src=sunset.jpg title=Sunset Boulevard />\n"
          ],
          "name": "stdout"
        }
      ]
    },
    {
      "metadata": {
        "id": "v44XlXCGXv_C",
        "colab_type": "code",
        "colab": {
          "base_uri": "https://localhost:8080/",
          "height": 35
        },
        "outputId": "756d4348-cf09-4c76-bdf9-de8744717f5e"
      },
      "cell_type": "code",
      "source": [
        "def f(a, *, b):\n",
        "  return a , b\n",
        "\n",
        "print(f(1, b=2)) "
      ],
      "execution_count": 14,
      "outputs": [
        {
          "output_type": "stream",
          "text": [
            "(1, 2)\n"
          ],
          "name": "stdout"
        }
      ]
    },
    {
      "metadata": {
        "id": "Vz31lNPaXFJw",
        "colab_type": "text"
      },
      "cell_type": "markdown",
      "source": [
        "### 5.8. 매개변수에 대한 정보 읽기"
      ]
    },
    {
      "metadata": {
        "id": "zcnheUFRXHPO",
        "colab_type": "code",
        "colab": {}
      },
      "cell_type": "code",
      "source": [
        "import bobo\n",
        "\n",
        "# Bobo는 hello()가 person 인수를 요구한다는 것을 알고 인수를 HTTP 요청에서 가져온다.\n",
        "# 함수 객체 안의 __defaults__ 속성에 위치 인수와 키워드 인수의 기본값이 저장, 키워드 전용인수 값은 __kwdefaults__에\n",
        "\n",
        "@bobo.query('/') # 데커레이터 : hello 함수와 프레임워크에서 제공하는 요청처리 메커니즘을 결합\n",
        "def hello(person):\n",
        "  return 'Hello %s!' % person"
      ],
      "execution_count": 0,
      "outputs": []
    },
    {
      "metadata": {
        "id": "to2eNT1wIxWp",
        "colab_type": "code",
        "colab": {
          "base_uri": "https://localhost:8080/",
          "height": 90
        },
        "outputId": "0db82129-faad-423c-ba4e-ccc1719736cf"
      },
      "cell_type": "code",
      "source": [
        "def clip(text, max_len=80):\n",
        "  \"\"\"max_len 앞이나 뒤의 마지막 공백에서 잘라낸 텍스트를 반환한다.\"\"\"\n",
        "  \n",
        "  end = None\n",
        "  if len(text) > max_len:\n",
        "    space_before = text.rfind(' ', 0, max_len)\n",
        "    if space_before >= 0:\n",
        "      end = space_before\n",
        "    else:\n",
        "      space_after = text.rfind(' ', max_len)\n",
        "      if space_after >=0 :\n",
        "        end = space_after\n",
        "  if end is None:\n",
        "    end = len(text)\n",
        "  return text[:end].rstrip()\n",
        "\n",
        "print(clip.__defaults__)\n",
        "print(clip.__code__)\n",
        "print(clip.__code__.co_varnames) # 지역변수도 포함\n",
        "print(clip.__code__.co_argcount)\n",
        "# 기본 변수 이름과 값, 변수 이름 등이 따로따로 저장되어 있어서 보기 불편함"
      ],
      "execution_count": 15,
      "outputs": [
        {
          "output_type": "stream",
          "text": [
            "(80,)\n",
            "<code object clip at 0x7f04d0961270, file \"<ipython-input-15-ec6457982db8>\", line 1>\n",
            "('text', 'max_len', 'end', 'space_before', 'space_after')\n",
            "2\n"
          ],
          "name": "stdout"
        }
      ]
    },
    {
      "metadata": {
        "id": "dOeak3xscajs",
        "colab_type": "code",
        "colab": {
          "base_uri": "https://localhost:8080/",
          "height": 90
        },
        "outputId": "9e4f9efd-b598-4704-fc7e-83eb7a1dff5a"
      },
      "cell_type": "code",
      "source": [
        "from inspect import signature\n",
        "\n",
        "sig = signature(clip)\n",
        "print(sig)\n",
        "print(str(sig))\n",
        "\n",
        "for name, param in sig.parameters.items():\n",
        "  print(param.kind, \":\", name, \"=\", param.default)\n",
        "  \n",
        "  # POSITIONAL_OR_KEYWORD\n",
        "  # VAR_POSITIONAL\n",
        "  # VAR_KEYWORD\n",
        "  # KEYWORD_ONLY\n",
        "  # POSITIONAL_ONLY 로 매개변수 종류 구분"
      ],
      "execution_count": 16,
      "outputs": [
        {
          "output_type": "stream",
          "text": [
            "(text, max_len=80)\n",
            "(text, max_len=80)\n",
            "POSITIONAL_OR_KEYWORD : text = <class 'inspect._empty'>\n",
            "POSITIONAL_OR_KEYWORD : max_len = 80\n"
          ],
          "name": "stdout"
        }
      ]
    },
    {
      "metadata": {
        "id": "r5QiN0sXdTsa",
        "colab_type": "code",
        "colab": {
          "base_uri": "https://localhost:8080/",
          "height": 542
        },
        "outputId": "43ecc3fb-bc26-46c2-9a27-566addca6e02"
      },
      "cell_type": "code",
      "source": [
        "sig = signature(tag)\n",
        "bound_args = sig.bind(**my_tag)\n",
        "print(bound_args)\n",
        "\n",
        "for name, value in bound_args.arguments.items():\n",
        "  print(name, \"=\", value)\n",
        "  \n",
        "del my_tag['name']\n",
        "bound_args = sig.bind(**my_tag) # 에러 발생 : missing a required argument: 'name'\n",
        "\n"
      ],
      "execution_count": 20,
      "outputs": [
        {
          "output_type": "stream",
          "text": [
            "<BoundArguments (name='img', cls='framed', attrs={'title': 'Sunset Boulevard', 'src': 'sunset.jpg'})>\n",
            "name = img\n",
            "cls = framed\n",
            "attrs = {'title': 'Sunset Boulevard', 'src': 'sunset.jpg'}\n"
          ],
          "name": "stdout"
        },
        {
          "output_type": "error",
          "ename": "TypeError",
          "evalue": "ignored",
          "traceback": [
            "\u001b[0;31m---------------------------------------------------------------------------\u001b[0m",
            "\u001b[0;31mTypeError\u001b[0m                                 Traceback (most recent call last)",
            "\u001b[0;32m<ipython-input-20-542ca773684d>\u001b[0m in \u001b[0;36m<module>\u001b[0;34m()\u001b[0m\n\u001b[1;32m      7\u001b[0m \u001b[0;34m\u001b[0m\u001b[0m\n\u001b[1;32m      8\u001b[0m \u001b[0;32mdel\u001b[0m \u001b[0mmy_tag\u001b[0m\u001b[0;34m[\u001b[0m\u001b[0;34m'name'\u001b[0m\u001b[0;34m]\u001b[0m\u001b[0;34m\u001b[0m\u001b[0m\n\u001b[0;32m----> 9\u001b[0;31m \u001b[0mbound_args\u001b[0m \u001b[0;34m=\u001b[0m \u001b[0msig\u001b[0m\u001b[0;34m.\u001b[0m\u001b[0mbind\u001b[0m\u001b[0;34m(\u001b[0m\u001b[0;34m**\u001b[0m\u001b[0mmy_tag\u001b[0m\u001b[0;34m)\u001b[0m\u001b[0;34m\u001b[0m\u001b[0m\n\u001b[0m",
            "\u001b[0;32m/usr/lib/python3.6/inspect.py\u001b[0m in \u001b[0;36mbind\u001b[0;34m(*args, **kwargs)\u001b[0m\n\u001b[1;32m   2963\u001b[0m         \u001b[0;32mif\u001b[0m \u001b[0mthe\u001b[0m \u001b[0mpassed\u001b[0m \u001b[0marguments\u001b[0m \u001b[0mcan\u001b[0m \u001b[0;32mnot\u001b[0m \u001b[0mbe\u001b[0m \u001b[0mbound\u001b[0m\u001b[0;34m.\u001b[0m\u001b[0;34m\u001b[0m\u001b[0m\n\u001b[1;32m   2964\u001b[0m         \"\"\"\n\u001b[0;32m-> 2965\u001b[0;31m         \u001b[0;32mreturn\u001b[0m \u001b[0margs\u001b[0m\u001b[0;34m[\u001b[0m\u001b[0;36m0\u001b[0m\u001b[0;34m]\u001b[0m\u001b[0;34m.\u001b[0m\u001b[0m_bind\u001b[0m\u001b[0;34m(\u001b[0m\u001b[0margs\u001b[0m\u001b[0;34m[\u001b[0m\u001b[0;36m1\u001b[0m\u001b[0;34m:\u001b[0m\u001b[0;34m]\u001b[0m\u001b[0;34m,\u001b[0m \u001b[0mkwargs\u001b[0m\u001b[0;34m)\u001b[0m\u001b[0;34m\u001b[0m\u001b[0m\n\u001b[0m\u001b[1;32m   2966\u001b[0m \u001b[0;34m\u001b[0m\u001b[0m\n\u001b[1;32m   2967\u001b[0m     \u001b[0;32mdef\u001b[0m \u001b[0mbind_partial\u001b[0m\u001b[0;34m(\u001b[0m\u001b[0;34m*\u001b[0m\u001b[0margs\u001b[0m\u001b[0;34m,\u001b[0m \u001b[0;34m**\u001b[0m\u001b[0mkwargs\u001b[0m\u001b[0;34m)\u001b[0m\u001b[0;34m:\u001b[0m\u001b[0;34m\u001b[0m\u001b[0m\n",
            "\u001b[0;32m/usr/lib/python3.6/inspect.py\u001b[0m in \u001b[0;36m_bind\u001b[0;34m(self, args, kwargs, partial)\u001b[0m\n\u001b[1;32m   2878\u001b[0m                             \u001b[0mmsg\u001b[0m \u001b[0;34m=\u001b[0m \u001b[0;34m'missing a required argument: {arg!r}'\u001b[0m\u001b[0;34m\u001b[0m\u001b[0m\n\u001b[1;32m   2879\u001b[0m                             \u001b[0mmsg\u001b[0m \u001b[0;34m=\u001b[0m \u001b[0mmsg\u001b[0m\u001b[0;34m.\u001b[0m\u001b[0mformat\u001b[0m\u001b[0;34m(\u001b[0m\u001b[0marg\u001b[0m\u001b[0;34m=\u001b[0m\u001b[0mparam\u001b[0m\u001b[0;34m.\u001b[0m\u001b[0mname\u001b[0m\u001b[0;34m)\u001b[0m\u001b[0;34m\u001b[0m\u001b[0m\n\u001b[0;32m-> 2880\u001b[0;31m                             \u001b[0;32mraise\u001b[0m \u001b[0mTypeError\u001b[0m\u001b[0;34m(\u001b[0m\u001b[0mmsg\u001b[0m\u001b[0;34m)\u001b[0m \u001b[0;32mfrom\u001b[0m \u001b[0;32mNone\u001b[0m\u001b[0;34m\u001b[0m\u001b[0m\n\u001b[0m\u001b[1;32m   2881\u001b[0m             \u001b[0;32melse\u001b[0m\u001b[0;34m:\u001b[0m\u001b[0;34m\u001b[0m\u001b[0m\n\u001b[1;32m   2882\u001b[0m                 \u001b[0;31m# We have a positional argument to process\u001b[0m\u001b[0;34m\u001b[0m\u001b[0;34m\u001b[0m\u001b[0m\n",
            "\u001b[0;31mTypeError\u001b[0m: missing a required argument: 'name'"
          ]
        }
      ]
    },
    {
      "metadata": {
        "id": "G7z8zsSlXx0I",
        "colab_type": "text"
      },
      "cell_type": "markdown",
      "source": [
        "### 5.9. 함수 애너테이션\n",
        "\n",
        "함수의 매개변수와 반환값에 메타데이터를 추가할 수 있는 구문"
      ]
    },
    {
      "metadata": {
        "id": "W6T82D_EXjtm",
        "colab_type": "code",
        "colab": {
          "base_uri": "https://localhost:8080/",
          "height": 35
        },
        "outputId": "e469f53d-b162-49e2-c2e2-decb0f102212"
      },
      "cell_type": "code",
      "source": [
        "# 각 매개변수 뒤에 :설명, 기본값 바로 앞에, 리턴값은 -> 으로\n",
        "def clip(text:str, max_len:'int > 0'=80) -> str: # 함수 선언에 애너테이션 추가\n",
        "  \"\"\"max_len 앞이나 뒤의 마지막 공백에서 잘라낸 텍스트를 반환한다.\"\"\"\n",
        "  \n",
        "  end = None\n",
        "  if len(text) > max_len:\n",
        "    space_before = text.rfind(' ', 0, max_len)\n",
        "    if space_before >= 0:\n",
        "      end = space_before\n",
        "    else:\n",
        "      space_after = text.rfind(' ', max_len)\n",
        "      if space_after >=0 :\n",
        "        end = space_after\n",
        "  if end is None:\n",
        "    end = len(text)\n",
        "  return text[:end].rstrip()\n",
        "\n",
        "\n",
        "clip.__annotations__"
      ],
      "execution_count": 21,
      "outputs": [
        {
          "output_type": "execute_result",
          "data": {
            "text/plain": [
              "{'max_len': 'int > 0', 'return': str, 'text': str}"
            ]
          },
          "metadata": {
            "tags": []
          },
          "execution_count": 21
        }
      ]
    },
    {
      "metadata": {
        "id": "peryHuLnL4L6",
        "colab_type": "code",
        "colab": {
          "base_uri": "https://localhost:8080/",
          "height": 72
        },
        "outputId": "7eae13b8-7aba-4e93-e507-d2c5c8b7d0bf"
      },
      "cell_type": "code",
      "source": [
        "from inspect import signature\n",
        "\n",
        "sig = signature(clip)\n",
        "print(sig.return_annotation)\n",
        "\n",
        "for param in sig.parameters.values():\n",
        "  note = repr(param.annotation).ljust(13)\n",
        "  print(note, \":\", param.name, \"=\", param.default)\n",
        "\n"
      ],
      "execution_count": 22,
      "outputs": [
        {
          "output_type": "stream",
          "text": [
            "<class 'str'>\n",
            "<class 'str'> : text = <class 'inspect._empty'>\n",
            "'int > 0'     : max_len = 80\n"
          ],
          "name": "stdout"
        }
      ]
    },
    {
      "metadata": {
        "id": "Ohj5XIFjZkLX",
        "colab_type": "text"
      },
      "cell_type": "markdown",
      "source": [
        "### 5.10. 함수형 프로그래밍을 위한 패키지\n",
        "#### 5.10.1 Operator 모듈\n",
        "\n"
      ]
    },
    {
      "metadata": {
        "id": "VgpiRKkqZc7n",
        "colab_type": "code",
        "colab": {}
      },
      "cell_type": "code",
      "source": [
        "from functools import reduce\n",
        "\n",
        "# 누적합의 경우에는 sum이 있지만\n",
        "# 팩토리얼 같은 함수를 구현하기 위해서는 두 수의 곱을 행하는 람다 함수를 따로 정의해야함\n",
        "\n",
        "def fact(n):\n",
        "  return reduce(lambda a, b: a*b, range(1, n+1))\n",
        "\n",
        "# 사소한 익명 함수를 작성하는 수고를 덜기 위해 operator 모듈은 수십개의 연산자에 대응하는 함수를 제공\n",
        "\n",
        "from operator import mul\n",
        "def fact(n):\n",
        "  return reduce(mul, range(1, n+1))"
      ],
      "execution_count": 0,
      "outputs": []
    },
    {
      "metadata": {
        "id": "jk6VS_fDhI56",
        "colab_type": "code",
        "colab": {
          "base_uri": "https://localhost:8080/",
          "height": 201
        },
        "outputId": "c6a516c1-1ebd-4fac-ab54-7fe3873e247e"
      },
      "cell_type": "code",
      "source": [
        "metro_areas = [\n",
        "    ('Tokyo', 'JP', 36.933, (35.689722, 139.691667)),   # <1>\n",
        "    ('Delhi NCR', 'IN', 21.935, (28.613889, 77.208889)),\n",
        "    ('Mexico City', 'MX', 20.142, (19.433333, -99.133333)),\n",
        "    ('New York-Newark', 'US', 20.104, (40.808611, -74.020386)),\n",
        "    ('Sao Paulo', 'BR', 19.649, (-23.547778, -46.635833)),\n",
        "]\n",
        "\n",
        "from operator import itemgetter\n",
        "for city in sorted(metro_areas, key=itemgetter(1)): # 1번 필드인 국가코드를 기준으로 정렬 lambda fields: fields[1]과 동일\n",
        "  print(city)\n",
        "  \n",
        "cc_name = itemgetter(1, 0) # 해당 인덱스의 값들로 구성된 튜플을 반환\n",
        "for city in metro_areas:\n",
        "  print(cc_name(city))"
      ],
      "execution_count": 26,
      "outputs": [
        {
          "output_type": "stream",
          "text": [
            "('Sao Paulo', 'BR', 19.649, (-23.547778, -46.635833))\n",
            "('Delhi NCR', 'IN', 21.935, (28.613889, 77.208889))\n",
            "('Tokyo', 'JP', 36.933, (35.689722, 139.691667))\n",
            "('Mexico City', 'MX', 20.142, (19.433333, -99.133333))\n",
            "('New York-Newark', 'US', 20.104, (40.808611, -74.020386))\n",
            "('JP', 'Tokyo')\n",
            "('IN', 'Delhi NCR')\n",
            "('MX', 'Mexico City')\n",
            "('US', 'New York-Newark')\n",
            "('BR', 'Sao Paulo')\n"
          ],
          "name": "stdout"
        }
      ]
    },
    {
      "metadata": {
        "id": "R9SZRpEEiNCB",
        "colab_type": "code",
        "colab": {
          "base_uri": "https://localhost:8080/",
          "height": 146
        },
        "outputId": "9bd982d3-69f7-4ea2-b2cf-5664f09c0d6f"
      },
      "cell_type": "code",
      "source": [
        "from collections import namedtuple\n",
        "\n",
        "LatLong = namedtuple('LatLong', 'lat long')\n",
        "Metropolis = namedtuple('Metro', 'name cc pop coord')\n",
        "\n",
        "metro_data = [Metropolis(name, cc, pop, LatLong(lat, long)) for name, cc, pop, (lat, long) in metro_areas]\n",
        "print(metro_data[1])\n",
        "\n",
        "print(metro_data[1].coord.lat)\n",
        "\n",
        "from operator import attrgetter\n",
        "name_lat = attrgetter('name', 'coord.lat') # 속성명에 .이 포함되어 있으면 내포된 객체를 찾아서 해당 속성을 가져온다\n",
        "\n",
        "for city in sorted(metro_data, key=attrgetter('coord.lat')):\n",
        "  print(name_lat(city))"
      ],
      "execution_count": 31,
      "outputs": [
        {
          "output_type": "stream",
          "text": [
            "Metro(name='Delhi NCR', cc='IN', pop=21.935, coord=LatLong(lat=28.613889, long=77.208889))\n",
            "28.613889\n",
            "('Sao Paulo', -23.547778)\n",
            "('Mexico City', 19.433333)\n",
            "('Delhi NCR', 28.613889)\n",
            "('Tokyo', 35.689722)\n",
            "('New York-Newark', 40.808611)\n"
          ],
          "name": "stdout"
        }
      ]
    },
    {
      "metadata": {
        "id": "3qJIVBPajgbM",
        "colab_type": "code",
        "colab": {
          "base_uri": "https://localhost:8080/",
          "height": 1009
        },
        "outputId": "423bd143-eaf5-4d9f-cd65-e046ccfa56a9"
      },
      "cell_type": "code",
      "source": [
        "import operator\n",
        "[name for name in dir(operator) if not name.startswith('_')]\n",
        "\n",
        "#iXXX는 복합 할당연산자"
      ],
      "execution_count": 33,
      "outputs": [
        {
          "output_type": "execute_result",
          "data": {
            "text/plain": [
              "['abs',\n",
              " 'add',\n",
              " 'and_',\n",
              " 'attrgetter',\n",
              " 'concat',\n",
              " 'contains',\n",
              " 'countOf',\n",
              " 'delitem',\n",
              " 'eq',\n",
              " 'floordiv',\n",
              " 'ge',\n",
              " 'getitem',\n",
              " 'gt',\n",
              " 'iadd',\n",
              " 'iand',\n",
              " 'iconcat',\n",
              " 'ifloordiv',\n",
              " 'ilshift',\n",
              " 'imatmul',\n",
              " 'imod',\n",
              " 'imul',\n",
              " 'index',\n",
              " 'indexOf',\n",
              " 'inv',\n",
              " 'invert',\n",
              " 'ior',\n",
              " 'ipow',\n",
              " 'irshift',\n",
              " 'is_',\n",
              " 'is_not',\n",
              " 'isub',\n",
              " 'itemgetter',\n",
              " 'itruediv',\n",
              " 'ixor',\n",
              " 'le',\n",
              " 'length_hint',\n",
              " 'lshift',\n",
              " 'lt',\n",
              " 'matmul',\n",
              " 'methodcaller',\n",
              " 'mod',\n",
              " 'mul',\n",
              " 'ne',\n",
              " 'neg',\n",
              " 'not_',\n",
              " 'or_',\n",
              " 'pos',\n",
              " 'pow',\n",
              " 'rshift',\n",
              " 'setitem',\n",
              " 'sub',\n",
              " 'truediv',\n",
              " 'truth',\n",
              " 'xor']"
            ]
          },
          "metadata": {
            "tags": []
          },
          "execution_count": 33
        }
      ]
    },
    {
      "metadata": {
        "id": "Yi3UNGEka1Id",
        "colab_type": "code",
        "colab": {
          "base_uri": "https://localhost:8080/",
          "height": 54
        },
        "outputId": "4d9e48bf-a890-4add-c232-f53778cab48a"
      },
      "cell_type": "code",
      "source": [
        "from operator import methodcaller\n",
        "\n",
        "s = 'The time has come'\n",
        "upcase = methodcaller('upper')\n",
        "print(upcase(s))\n",
        "hiphenate = methodcaller('replace', ' ', '-')\n",
        "print(hiphenate(s))\n"
      ],
      "execution_count": 34,
      "outputs": [
        {
          "output_type": "stream",
          "text": [
            "THE TIME HAS COME\n",
            "The-time-has-come\n"
          ],
          "name": "stdout"
        }
      ]
    },
    {
      "metadata": {
        "id": "8g1s0LOBkVy9",
        "colab_type": "text"
      },
      "cell_type": "markdown",
      "source": [
        "#### 5.10.2. functools.partial()로 인수 고정하기\n",
        "\n",
        "partial()은 함수를 부분적으로 실행할 수 있게 해주는 고위 함수이다. 어떤 함수가 있을 때 partial()을 적용하면 원래 함수의 일부 인수를 고정한  콜러블을 생성한다."
      ]
    },
    {
      "metadata": {
        "id": "yVjoCJh5a6Ot",
        "colab_type": "code",
        "colab": {
          "base_uri": "https://localhost:8080/",
          "height": 54
        },
        "outputId": "4d1fa38b-79e5-4e51-aee4-636d3a6b168a"
      },
      "cell_type": "code",
      "source": [
        "from operator import mul\n",
        "from functools import partial\n",
        "triple = partial(mul, 3)\n",
        "print(triple(7))\n",
        "print(list(map(triple, range(1,10))))"
      ],
      "execution_count": 36,
      "outputs": [
        {
          "output_type": "stream",
          "text": [
            "21\n",
            "[3, 6, 9, 12, 15, 18, 21, 24, 27]\n"
          ],
          "name": "stdout"
        }
      ]
    },
    {
      "metadata": {
        "id": "lGNu-MQyPYDq",
        "colab_type": "code",
        "colab": {
          "base_uri": "https://localhost:8080/",
          "height": 72
        },
        "outputId": "597cae5f-25e9-42ec-f10d-5469a724fd88"
      },
      "cell_type": "code",
      "source": [
        "import unicodedata, functools\n",
        "nfc = functools.partial(unicodedata.normalize, 'NFC')\n",
        "s1 = 'café'\n",
        "s2 = 'cafe\\u0301'\n",
        "print(s1, s2)\n",
        "print(s1 == s2)\n",
        "print(nfc(s1) == nfc(s2))"
      ],
      "execution_count": 38,
      "outputs": [
        {
          "output_type": "stream",
          "text": [
            "café café\n",
            "False\n",
            "True\n"
          ],
          "name": "stdout"
        }
      ]
    },
    {
      "metadata": {
        "id": "W9E8YnUtQu74",
        "colab_type": "code",
        "colab": {
          "base_uri": "https://localhost:8080/",
          "height": 109
        },
        "outputId": "5c66c141-f0e0-4bf8-b558-25c4a1b14905"
      },
      "cell_type": "code",
      "source": [
        "picture = functools.partial(tag, 'img', cls='pic-frame') # tag 함수의 첫번째 인수로는 무조건 img, cls에는 pic-frame을 넘겨서 실행한다\n",
        "print(picture(src='wumpus.jpeg'))\n",
        "print(picture)\n",
        "print(picture.func)\n",
        "print(picture.args)\n",
        "print(picture.keywords)"
      ],
      "execution_count": 42,
      "outputs": [
        {
          "output_type": "stream",
          "text": [
            "<img class=pic-frame src=wumpus.jpeg />\n",
            "functools.partial(<function tag at 0x7f04d063c7b8>, 'img', cls='pic-frame')\n",
            "<function tag at 0x7f04d063c7b8>\n",
            "('img',)\n",
            "{'cls': 'pic-frame'}\n"
          ],
          "name": "stdout"
        }
      ]
    }
  ]
}