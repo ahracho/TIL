{
 "cells": [
  {
   "cell_type": "markdown",
   "metadata": {
    "colab_type": "text",
    "id": "view-in-github"
   },
   "source": [
    "[View in Colaboratory](https://colab.research.google.com/github/ahracho/TIL/blob/master/Fluent_Python/5_First_Class_Function.ipynb)"
   ]
  },
  {
   "cell_type": "markdown",
   "metadata": {
    "colab_type": "text",
    "id": "TXm3qhRXGY32"
   },
   "source": [
    "# Part III.  객체로서의 함수\n",
    "## 5. 일급함수\n",
    "\n",
    "파이썬의 함수는 일급 객체이다. 일급 객체의 요건는 다음과 같다.  \n",
    "- 런타임에 생성할 수 있다.\n",
    "- 데이터 구조체의 변수나 요소에 할당할 수 있다.\n",
    "- 함수 인수로 전달할 수 있다.\n",
    "- 함수 결과로 반환할 수 있다.\n",
    "\n",
    "함수를 객체로 처리하는 실용적인 방법과 영향에 대해 집중적으로 살펴보자.\n",
    "\n",
    "### 5.1. 함수를 객체처럼 다루기"
   ]
  },
  {
   "cell_type": "code",
   "execution_count": 1,
   "metadata": {
    "colab": {
     "base_uri": "https://localhost:8080/",
     "height": 72
    },
    "colab_type": "code",
    "id": "GnwbS_V4GV4C",
    "outputId": "c6bc1ace-a167-4743-c066-a3ed1f693abb"
   },
   "outputs": [
    {
     "name": "stdout",
     "output_type": "stream",
     "text": [
      "1405006117752879898543142606244511569936384000000000\n",
      "return n!\n",
      "<class 'function'>\n"
     ]
    }
   ],
   "source": [
    "def factorial(n) :\n",
    "  '''return n!'''\n",
    "  return 1 if n < 2 else n * factorial(n-1)\n",
    "\n",
    "print(factorial(42))\n",
    "print(factorial.__doc__) # 도움말  텍스트 생성\n",
    "print(type(factorial))"
   ]
  },
  {
   "cell_type": "code",
   "execution_count": 2,
   "metadata": {
    "colab": {
     "base_uri": "https://localhost:8080/",
     "height": 90
    },
    "colab_type": "code",
    "id": "2T0r1krkNPzT",
    "outputId": "dad7714a-04d0-43ef-a800-a8c027b63fb0"
   },
   "outputs": [
    {
     "name": "stdout",
     "output_type": "stream",
     "text": [
      "<function factorial at 0x7f04d06a27b8>\n",
      "120\n",
      "<map object at 0x7f04d0932c50>\n",
      "[1, 1, 2, 6, 24, 120, 720, 5040, 40320, 362880, 3628800]\n"
     ]
    }
   ],
   "source": [
    "fact = factorial\n",
    "print(fact)\n",
    "\n",
    "print(fact(5))\n",
    "print(map(factorial, range(11)))\n",
    "print(list(map(fact, range(11)))) # map의 결과를 list로"
   ]
  },
  {
   "cell_type": "markdown",
   "metadata": {
    "colab_type": "text",
    "id": "VJDxZ2j2IlWg"
   },
   "source": [
    "### 5.2. 고위 함수\n",
    "\n",
    "함수를 인수로 받거나, 함수를 결과로 반환하는 함수를 고위 함수(High-Ordered function)라고 한다.\n",
    "\n",
    "sorted() 내장 함수도 일급 함수의 예이다. key 옵션에 선택적으로 함수를 전달받아 정렬할 항목에 적용가능하다."
   ]
  },
  {
   "cell_type": "code",
   "execution_count": 3,
   "metadata": {
    "colab": {
     "base_uri": "https://localhost:8080/",
     "height": 35
    },
    "colab_type": "code",
    "id": "m4SJ8Rx6IU-O",
    "outputId": "5df31e3e-0a08-426a-d553-ad40986f1c8a"
   },
   "outputs": [
    {
     "data": {
      "text/plain": [
       "['fig', 'apple', 'cherry', 'banana', 'raspberry', 'strawberry']"
      ]
     },
     "execution_count": 3,
     "metadata": {
      "tags": []
     },
     "output_type": "execute_result"
    }
   ],
   "source": [
    "fruits = ['strawberry', 'fig', 'apple', 'cherry', 'raspberry', 'banana']\n",
    "sorted(fruits, key=len) # len 함수를 인수로 전달"
   ]
  },
  {
   "cell_type": "code",
   "execution_count": 4,
   "metadata": {
    "colab": {
     "base_uri": "https://localhost:8080/",
     "height": 54
    },
    "colab_type": "code",
    "id": "Tx18r5XgOewv",
    "outputId": "cab45a44-bd20-4b3f-df6d-9324df4f5c1c"
   },
   "outputs": [
    {
     "name": "stdout",
     "output_type": "stream",
     "text": [
      "<function reverse at 0x7f04d06a2b70>\n"
     ]
    },
    {
     "data": {
      "text/plain": [
       "['banana', 'apple', 'fig', 'raspberry', 'strawberry', 'cherry']"
      ]
     },
     "execution_count": 4,
     "metadata": {
      "tags": []
     },
     "output_type": "execute_result"
    }
   ],
   "source": [
    "def reverse(word):\n",
    "  return word[::-1]\n",
    "\n",
    "print(reverse)\n",
    "sorted(fruits, key=reverse) # 각 단어 철자를 거꾸로 한 결과를 기준으로 정렬 - 기존 리스트에는 변화 X"
   ]
  },
  {
   "cell_type": "markdown",
   "metadata": {
    "colab_type": "text",
    "id": "xOkhjBReJ7mw"
   },
   "source": [
    "#### 5.2.1. map(), filter(), reduce()의 대안\n",
    "\n",
    "파이썬 3에 map(), filter() 함수는 여전히 내장함수이지만, 지능형 리스트나 제너레이터의 등장으로 활용도가 떨어졌다."
   ]
  },
  {
   "cell_type": "code",
   "execution_count": 6,
   "metadata": {
    "colab": {
     "base_uri": "https://localhost:8080/",
     "height": 90
    },
    "colab_type": "code",
    "id": "GiuGxUL4J54I",
    "outputId": "b52e3e3c-6ecc-4a65-8907-4294c7f820a3"
   },
   "outputs": [
    {
     "name": "stdout",
     "output_type": "stream",
     "text": [
      "[1, 1, 2, 6, 24, 120]\n",
      "[1, 1, 2, 6, 24, 120]\n",
      "[1, 6, 120]\n",
      "[1, 6, 120]\n"
     ]
    }
   ],
   "source": [
    "print(list(map(fact, range(6))))\n",
    "print([fact(n) for n in range(6)]) # 의미 전달 / 가독성 훨씬 좋음\n",
    "print(list(map(factorial, filter(lambda n : n % 2, range(6)))))\n",
    "print([factorial(n) for n in range(6) if n % 2]) # 의미 전달 / 가독성 훨씬 좋음"
   ]
  },
  {
   "cell_type": "code",
   "execution_count": 7,
   "metadata": {
    "colab": {
     "base_uri": "https://localhost:8080/",
     "height": 54
    },
    "colab_type": "code",
    "id": "CyPsRx1w-V1N",
    "outputId": "e1d175f2-2010-4485-9643-71a25dceda90"
   },
   "outputs": [
    {
     "name": "stdout",
     "output_type": "stream",
     "text": [
      "4950\n",
      "4950\n"
     ]
    }
   ],
   "source": [
    "from functools import reduce # 파이썬 3에선 reduce가 내장함수가 아니다\n",
    "from operator import add\n",
    "print(reduce(add, range(100))) # reduce는 연속된 항목에 연산을 적용해서 하나의 값으로 줄이는 역할\n",
    "print(sum(range(100))) # sum이 훨씬 사용하기 쉬움"
   ]
  },
  {
   "cell_type": "markdown",
   "metadata": {
    "colab_type": "text",
    "id": "u0k-rNZjLGo4"
   },
   "source": [
    "### 5.3. 익명함수\n",
    "\n",
    "lambda 키워드는 익명함수를 생성한다. 람다 본체에는 할당문이나 while, try 등 파이썬 문장을 사용할 수 없다. \n",
    "\n",
    "익명함수는 인수 목록 안에서 유용하게 사용된다. 고위 함수의 인수로 사용하는 방법 외에 익명 함수는 파이썬에서는 거의 사용되지 않는다. "
   ]
  },
  {
   "cell_type": "code",
   "execution_count": 8,
   "metadata": {
    "colab": {
     "base_uri": "https://localhost:8080/",
     "height": 35
    },
    "colab_type": "code",
    "id": "VhKeg3KSKsAK",
    "outputId": "8816ec8e-0004-4cf6-f8f8-44ab12c68d4c"
   },
   "outputs": [
    {
     "data": {
      "text/plain": [
       "['banana', 'apple', 'fig', 'raspberry', 'strawberry', 'cherry']"
      ]
     },
     "execution_count": 8,
     "metadata": {
      "tags": []
     },
     "output_type": "execute_result"
    }
   ],
   "source": [
    "sorted(fruits, key=lambda word:word[::-1])"
   ]
  },
  {
   "cell_type": "markdown",
   "metadata": {
    "colab_type": "text",
    "id": "YK0Oc-peNvbE"
   },
   "source": [
    "### 5.4. 일곱 가지 맛의 콜러블 객체\n",
    "\n",
    "호출 연산자 ()를 사용할 수 있는 콜러블 객체의 종류\n",
    "\n",
    "1. 사용자 정의 함수: def나 람다 함수\n",
    "2. 내장 함수\n",
    "3. 내장 메서드\n",
    "4. 메서드 : 클래스 본체에 정의된 함수\n",
    "5. 클래스 : 생성자\n",
    "6. 클래스 객체 : 클래스가 \\_\\_call\\_\\_()를 구현하면, 이 클래스의 객체는 함수로 호출될 수 있다.\n",
    "7. 제너레이터 함수"
   ]
  },
  {
   "cell_type": "markdown",
   "metadata": {
    "colab_type": "text",
    "id": "uJKNN4CsPHgL"
   },
   "source": [
    "### 5.4. 사용자 정의 콜러블형\n",
    "\n",
    "파이썬 함수가 실제 객체일 뿐만 아니라, 모든 파이썬 객체가 함수처럼 동작하게 만들 수 있다. \\_\\_call\\_\\_() 메서드를 구현하면 된다."
   ]
  },
  {
   "cell_type": "code",
   "execution_count": 9,
   "metadata": {
    "colab": {
     "base_uri": "https://localhost:8080/",
     "height": 72
    },
    "colab_type": "code",
    "id": "Zu5DqOErRPYT",
    "outputId": "3f9f6e8e-dda4-477a-9798-b25fc44c1336"
   },
   "outputs": [
    {
     "name": "stdout",
     "output_type": "stream",
     "text": [
      "0\n",
      "1\n",
      "True\n"
     ]
    }
   ],
   "source": [
    "import random\n",
    "\n",
    "class BingoCage:\n",
    "  def __init__(self, items):\n",
    "    self._items = list(items)\n",
    "    random.shuffle(self._items)\n",
    "   \n",
    "  def pick(self):\n",
    "    try:\n",
    "      return self._items.pop()\n",
    "    except IndexError:\n",
    "      raise LookupError(\"pick from empty BingoCage\")\n",
    "      \n",
    "  def __call__(self):\n",
    "    return self.pick()\n",
    "  \n",
    "bingo = BingoCage(range(3))\n",
    "print(bingo.pick())\n",
    "print(bingo()) # pick이 호출됨\n",
    "print(callable(bingo))"
   ]
  },
  {
   "cell_type": "markdown",
   "metadata": {
    "colab_type": "text",
    "id": "e1JzSHCVTjm-"
   },
   "source": [
    "### 5.6. 함수 인트로스펙션 (Introspection)\n",
    "\n",
    "함수를 객체로 다루는 것과 관련된 속성을 알아보자. 일반적인 사용자 정의 클래스와 마찬가지로 함수는 \\_\\_dict\\_\\_ 속성을 이용해서 객체에 할당된 사용자 속성을 보관한다. "
   ]
  },
  {
   "cell_type": "code",
   "execution_count": 10,
   "metadata": {
    "colab": {
     "base_uri": "https://localhost:8080/",
     "height": 660
    },
    "colab_type": "code",
    "id": "s-rlpC0vE3HZ",
    "outputId": "621b2158-6bbe-41e6-fc00-f2da69749709"
   },
   "outputs": [
    {
     "data": {
      "text/plain": [
       "['__annotations__',\n",
       " '__call__',\n",
       " '__class__',\n",
       " '__closure__',\n",
       " '__code__',\n",
       " '__defaults__',\n",
       " '__delattr__',\n",
       " '__dict__',\n",
       " '__dir__',\n",
       " '__doc__',\n",
       " '__eq__',\n",
       " '__format__',\n",
       " '__ge__',\n",
       " '__get__',\n",
       " '__getattribute__',\n",
       " '__globals__',\n",
       " '__gt__',\n",
       " '__hash__',\n",
       " '__init__',\n",
       " '__init_subclass__',\n",
       " '__kwdefaults__',\n",
       " '__le__',\n",
       " '__lt__',\n",
       " '__module__',\n",
       " '__name__',\n",
       " '__ne__',\n",
       " '__new__',\n",
       " '__qualname__',\n",
       " '__reduce__',\n",
       " '__reduce_ex__',\n",
       " '__repr__',\n",
       " '__setattr__',\n",
       " '__sizeof__',\n",
       " '__str__',\n",
       " '__subclasshook__']"
      ]
     },
     "execution_count": 10,
     "metadata": {
      "tags": []
     },
     "output_type": "execute_result"
    }
   ],
   "source": [
    "dir(factorial)\n",
    "# 결과값은 일반적으로 파이썬 객체에 존재하는 속성들"
   ]
  },
  {
   "cell_type": "code",
   "execution_count": 0,
   "metadata": {
    "colab": {},
    "colab_type": "code",
    "id": "oSlrSYNBUUh5"
   },
   "outputs": [],
   "source": [
    "# Django 예제\n",
    "def upper_case_name(obj):\n",
    "  return (\"%s %s\" % (obj.first_name, obj.last_name)).upper()\n",
    "\n",
    "upper_case_name.short_description = \"Customer Name\""
   ]
  },
  {
   "cell_type": "code",
   "execution_count": 11,
   "metadata": {
    "colab": {
     "base_uri": "https://localhost:8080/",
     "height": 201
    },
    "colab_type": "code",
    "id": "81Y06HPkUlwv",
    "outputId": "32595e8f-3e14-42b1-fd4e-6ffef8318bb2"
   },
   "outputs": [
    {
     "data": {
      "text/plain": [
       "['__annotations__',\n",
       " '__call__',\n",
       " '__closure__',\n",
       " '__code__',\n",
       " '__defaults__',\n",
       " '__get__',\n",
       " '__globals__',\n",
       " '__kwdefaults__',\n",
       " '__name__',\n",
       " '__qualname__']"
      ]
     },
     "execution_count": 11,
     "metadata": {
      "tags": []
     },
     "output_type": "execute_result"
    }
   ],
   "source": [
    "class C : pass\n",
    "obj = C()\n",
    "def func() : pass\n",
    "sorted(set(dir(func)) - set(dir(obj))) # 일반 객체에는 없고 함수에만 있는 속성\n",
    "'''\n",
    "['__annotations__', # 매개변수와 반환값에 대한 주석\n",
    " '__call__',\n",
    " '__closure__',\n",
    " '__code__',\n",
    " '__defaults__', # 디폴트 매개변수 값\n",
    " '__get__',\n",
    " '__globals__',\n",
    " '__kwdefaults__',\n",
    " '__name__',\n",
    " '__qualname__'] # full name?\n",
    "'''"
   ]
  },
  {
   "cell_type": "markdown",
   "metadata": {
    "colab_type": "text",
    "id": "z_BqDNSwUeXJ"
   },
   "source": [
    "### 5.7. 위치 매개변수에서 키워드 전용 매개변수까지\n",
    "\n"
   ]
  },
  {
   "cell_type": "code",
   "execution_count": 12,
   "metadata": {
    "colab": {
     "base_uri": "https://localhost:8080/",
     "height": 164
    },
    "colab_type": "code",
    "id": "YSweItEvTih8",
    "outputId": "69f0db9e-a05f-4046-ce25-f9259de766ab"
   },
   "outputs": [
    {
     "name": "stdout",
     "output_type": "stream",
     "text": [
      "<br />\n",
      "<p>hello<\\p>\n",
      "<p>hello<\\p>\n",
      "<p>world<\\p>\n",
      "<p class=sidebar>hello<\\p>\n",
      "<p class=sidebar>world<\\p>\n",
      "<img content=testing />\n",
      "<img class=framed src=sunset.jpg title=Sunset Boulevard />\n"
     ]
    }
   ],
   "source": [
    "# * 뒤에 위치한 매개변수는 모두 키워드 전용 인수; *가 남은 위치인수를 흡수\n",
    "def tag(name, *content, cls=None, **attrs): # cls 매개변수는 키워드 인수로만 전달 가능\n",
    "  if cls is not None:\n",
    "    attrs['class'] = cls\n",
    "  if attrs:\n",
    "    attr_str = ''.join(' %s=%s'%(attr, value) for attr, value in sorted(attrs.items()))\n",
    "  else :\n",
    "    attr_str = ''\n",
    "    \n",
    "  if content:\n",
    "    return '\\n'.join('<%s%s>%s<\\%s>' % (name, attr_str, c, name) for c in content)\n",
    "  else :\n",
    "    return '<%s%s />' % (name, attr_str)\n",
    "  \n",
    "print(tag('br'))\n",
    "print(tag('p', 'hello'))\n",
    "print(tag('p', 'hello', 'world'))\n",
    "print(tag('p', 'hello', 'world', cls='sidebar'))\n",
    "print(tag(content='testing', name='img'))\n",
    "my_tag = {'name' : 'img', 'title' : 'Sunset Boulevard', 'src' : 'sunset.jpg', 'cls' : 'framed'}\n",
    "print(tag(**my_tag)) # 딕셔너리 앞에 **을 붙이면 딕셔너리 안의 모든 항목이 인수로 전달됨"
   ]
  },
  {
   "cell_type": "code",
   "execution_count": 14,
   "metadata": {
    "colab": {
     "base_uri": "https://localhost:8080/",
     "height": 35
    },
    "colab_type": "code",
    "id": "v44XlXCGXv_C",
    "outputId": "756d4348-cf09-4c76-bdf9-de8744717f5e"
   },
   "outputs": [
    {
     "name": "stdout",
     "output_type": "stream",
     "text": [
      "(1, 2)\n"
     ]
    }
   ],
   "source": [
    "def f(a, *, b):\n",
    "  return a , b\n",
    "\n",
    "print(f(1, b=2)) "
   ]
  },
  {
   "cell_type": "markdown",
   "metadata": {
    "colab_type": "text",
    "id": "Vz31lNPaXFJw"
   },
   "source": [
    "### 5.8. 매개변수에 대한 정보 읽기"
   ]
  },
  {
   "cell_type": "code",
   "execution_count": 0,
   "metadata": {
    "colab": {},
    "colab_type": "code",
    "id": "zcnheUFRXHPO"
   },
   "outputs": [],
   "source": [
    "import bobo\n",
    "\n",
    "# Bobo는 hello()가 person 인수를 요구한다는 것을 알고 인수를 HTTP 요청에서 가져온다.\n",
    "# 함수 객체 안의 __defaults__ 속성에 위치 인수와 키워드 인수의 기본값이 저장, 키워드 전용인수 값은 __kwdefaults__에\n",
    "\n",
    "@bobo.query('/') # 데커레이터 : hello 함수와 프레임워크에서 제공하는 요청처리 메커니즘을 결합\n",
    "def hello(person):\n",
    "  return 'Hello %s!' % person"
   ]
  },
  {
   "cell_type": "code",
   "execution_count": 15,
   "metadata": {
    "colab": {
     "base_uri": "https://localhost:8080/",
     "height": 90
    },
    "colab_type": "code",
    "id": "to2eNT1wIxWp",
    "outputId": "0db82129-faad-423c-ba4e-ccc1719736cf"
   },
   "outputs": [
    {
     "name": "stdout",
     "output_type": "stream",
     "text": [
      "(80,)\n",
      "<code object clip at 0x7f04d0961270, file \"<ipython-input-15-ec6457982db8>\", line 1>\n",
      "('text', 'max_len', 'end', 'space_before', 'space_after')\n",
      "2\n"
     ]
    }
   ],
   "source": [
    "def clip(text, max_len=80):\n",
    "  \"\"\"max_len 앞이나 뒤의 마지막 공백에서 잘라낸 텍스트를 반환한다.\"\"\"\n",
    "  \n",
    "  end = None\n",
    "  if len(text) > max_len:\n",
    "    space_before = text.rfind(' ', 0, max_len)\n",
    "    if space_before >= 0:\n",
    "      end = space_before\n",
    "    else:\n",
    "      space_after = text.rfind(' ', max_len)\n",
    "      if space_after >=0 :\n",
    "        end = space_after\n",
    "  if end is None:\n",
    "    end = len(text)\n",
    "  return text[:end].rstrip()\n",
    "\n",
    "print(clip.__defaults__)\n",
    "print(clip.__code__)\n",
    "print(clip.__code__.co_varnames) # 지역변수도 포함\n",
    "print(clip.__code__.co_argcount)\n",
    "# 기본 변수 이름과 값, 변수 이름 등이 따로따로 저장되어 있어서 보기 불편함"
   ]
  },
  {
   "cell_type": "code",
   "execution_count": 16,
   "metadata": {
    "colab": {
     "base_uri": "https://localhost:8080/",
     "height": 90
    },
    "colab_type": "code",
    "id": "dOeak3xscajs",
    "outputId": "9e4f9efd-b598-4704-fc7e-83eb7a1dff5a"
   },
   "outputs": [
    {
     "name": "stdout",
     "output_type": "stream",
     "text": [
      "(text, max_len=80)\n",
      "(text, max_len=80)\n",
      "POSITIONAL_OR_KEYWORD : text = <class 'inspect._empty'>\n",
      "POSITIONAL_OR_KEYWORD : max_len = 80\n"
     ]
    }
   ],
   "source": [
    "from inspect import signature\n",
    "\n",
    "sig = signature(clip)\n",
    "print(sig)\n",
    "print(str(sig))\n",
    "\n",
    "for name, param in sig.parameters.items():\n",
    "  print(param.kind, \":\", name, \"=\", param.default)\n",
    "  \n",
    "  # POSITIONAL_OR_KEYWORD\n",
    "  # VAR_POSITIONAL\n",
    "  # VAR_KEYWORD\n",
    "  # KEYWORD_ONLY\n",
    "  # POSITIONAL_ONLY 로 매개변수 종류 구분"
   ]
  },
  {
   "cell_type": "code",
   "execution_count": 20,
   "metadata": {
    "colab": {
     "base_uri": "https://localhost:8080/",
     "height": 542
    },
    "colab_type": "code",
    "id": "r5QiN0sXdTsa",
    "outputId": "43ecc3fb-bc26-46c2-9a27-566addca6e02"
   },
   "outputs": [
    {
     "name": "stdout",
     "output_type": "stream",
     "text": [
      "<BoundArguments (name='img', cls='framed', attrs={'title': 'Sunset Boulevard', 'src': 'sunset.jpg'})>\n",
      "name = img\n",
      "cls = framed\n",
      "attrs = {'title': 'Sunset Boulevard', 'src': 'sunset.jpg'}\n"
     ]
    },
    {
     "ename": "TypeError",
     "evalue": "ignored",
     "output_type": "error",
     "traceback": [
      "\u001b[0;31m---------------------------------------------------------------------------\u001b[0m",
      "\u001b[0;31mTypeError\u001b[0m                                 Traceback (most recent call last)",
      "\u001b[0;32m<ipython-input-20-542ca773684d>\u001b[0m in \u001b[0;36m<module>\u001b[0;34m()\u001b[0m\n\u001b[1;32m      7\u001b[0m \u001b[0;34m\u001b[0m\u001b[0m\n\u001b[1;32m      8\u001b[0m \u001b[0;32mdel\u001b[0m \u001b[0mmy_tag\u001b[0m\u001b[0;34m[\u001b[0m\u001b[0;34m'name'\u001b[0m\u001b[0;34m]\u001b[0m\u001b[0;34m\u001b[0m\u001b[0m\n\u001b[0;32m----> 9\u001b[0;31m \u001b[0mbound_args\u001b[0m \u001b[0;34m=\u001b[0m \u001b[0msig\u001b[0m\u001b[0;34m.\u001b[0m\u001b[0mbind\u001b[0m\u001b[0;34m(\u001b[0m\u001b[0;34m**\u001b[0m\u001b[0mmy_tag\u001b[0m\u001b[0;34m)\u001b[0m\u001b[0;34m\u001b[0m\u001b[0m\n\u001b[0m",
      "\u001b[0;32m/usr/lib/python3.6/inspect.py\u001b[0m in \u001b[0;36mbind\u001b[0;34m(*args, **kwargs)\u001b[0m\n\u001b[1;32m   2963\u001b[0m         \u001b[0;32mif\u001b[0m \u001b[0mthe\u001b[0m \u001b[0mpassed\u001b[0m \u001b[0marguments\u001b[0m \u001b[0mcan\u001b[0m \u001b[0;32mnot\u001b[0m \u001b[0mbe\u001b[0m \u001b[0mbound\u001b[0m\u001b[0;34m.\u001b[0m\u001b[0;34m\u001b[0m\u001b[0m\n\u001b[1;32m   2964\u001b[0m         \"\"\"\n\u001b[0;32m-> 2965\u001b[0;31m         \u001b[0;32mreturn\u001b[0m \u001b[0margs\u001b[0m\u001b[0;34m[\u001b[0m\u001b[0;36m0\u001b[0m\u001b[0;34m]\u001b[0m\u001b[0;34m.\u001b[0m\u001b[0m_bind\u001b[0m\u001b[0;34m(\u001b[0m\u001b[0margs\u001b[0m\u001b[0;34m[\u001b[0m\u001b[0;36m1\u001b[0m\u001b[0;34m:\u001b[0m\u001b[0;34m]\u001b[0m\u001b[0;34m,\u001b[0m \u001b[0mkwargs\u001b[0m\u001b[0;34m)\u001b[0m\u001b[0;34m\u001b[0m\u001b[0m\n\u001b[0m\u001b[1;32m   2966\u001b[0m \u001b[0;34m\u001b[0m\u001b[0m\n\u001b[1;32m   2967\u001b[0m     \u001b[0;32mdef\u001b[0m \u001b[0mbind_partial\u001b[0m\u001b[0;34m(\u001b[0m\u001b[0;34m*\u001b[0m\u001b[0margs\u001b[0m\u001b[0;34m,\u001b[0m \u001b[0;34m**\u001b[0m\u001b[0mkwargs\u001b[0m\u001b[0;34m)\u001b[0m\u001b[0;34m:\u001b[0m\u001b[0;34m\u001b[0m\u001b[0m\n",
      "\u001b[0;32m/usr/lib/python3.6/inspect.py\u001b[0m in \u001b[0;36m_bind\u001b[0;34m(self, args, kwargs, partial)\u001b[0m\n\u001b[1;32m   2878\u001b[0m                             \u001b[0mmsg\u001b[0m \u001b[0;34m=\u001b[0m \u001b[0;34m'missing a required argument: {arg!r}'\u001b[0m\u001b[0;34m\u001b[0m\u001b[0m\n\u001b[1;32m   2879\u001b[0m                             \u001b[0mmsg\u001b[0m \u001b[0;34m=\u001b[0m \u001b[0mmsg\u001b[0m\u001b[0;34m.\u001b[0m\u001b[0mformat\u001b[0m\u001b[0;34m(\u001b[0m\u001b[0marg\u001b[0m\u001b[0;34m=\u001b[0m\u001b[0mparam\u001b[0m\u001b[0;34m.\u001b[0m\u001b[0mname\u001b[0m\u001b[0;34m)\u001b[0m\u001b[0;34m\u001b[0m\u001b[0m\n\u001b[0;32m-> 2880\u001b[0;31m                             \u001b[0;32mraise\u001b[0m \u001b[0mTypeError\u001b[0m\u001b[0;34m(\u001b[0m\u001b[0mmsg\u001b[0m\u001b[0;34m)\u001b[0m \u001b[0;32mfrom\u001b[0m \u001b[0;32mNone\u001b[0m\u001b[0;34m\u001b[0m\u001b[0m\n\u001b[0m\u001b[1;32m   2881\u001b[0m             \u001b[0;32melse\u001b[0m\u001b[0;34m:\u001b[0m\u001b[0;34m\u001b[0m\u001b[0m\n\u001b[1;32m   2882\u001b[0m                 \u001b[0;31m# We have a positional argument to process\u001b[0m\u001b[0;34m\u001b[0m\u001b[0;34m\u001b[0m\u001b[0m\n",
      "\u001b[0;31mTypeError\u001b[0m: missing a required argument: 'name'"
     ]
    }
   ],
   "source": [
    "sig = signature(tag)\n",
    "bound_args = sig.bind(**my_tag)\n",
    "print(bound_args)\n",
    "\n",
    "for name, value in bound_args.arguments.items():\n",
    "  print(name, \"=\", value)\n",
    "  \n",
    "del my_tag['name']\n",
    "bound_args = sig.bind(**my_tag) # 에러 발생 : missing a required argument: 'name'\n",
    "\n"
   ]
  },
  {
   "cell_type": "markdown",
   "metadata": {
    "colab_type": "text",
    "id": "G7z8zsSlXx0I"
   },
   "source": [
    "### 5.9. 함수 애너테이션\n",
    "\n",
    "함수의 매개변수와 반환값에 메타데이터를 추가할 수 있는 구문"
   ]
  },
  {
   "cell_type": "code",
   "execution_count": 21,
   "metadata": {
    "colab": {
     "base_uri": "https://localhost:8080/",
     "height": 35
    },
    "colab_type": "code",
    "id": "W6T82D_EXjtm",
    "outputId": "e469f53d-b162-49e2-c2e2-decb0f102212"
   },
   "outputs": [
    {
     "data": {
      "text/plain": [
       "{'max_len': 'int > 0', 'return': str, 'text': str}"
      ]
     },
     "execution_count": 21,
     "metadata": {
      "tags": []
     },
     "output_type": "execute_result"
    }
   ],
   "source": [
    "# 각 매개변수 뒤에 :설명, 기본값 바로 앞에, 리턴값은 -> 으로\n",
    "def clip(text:str, max_len:'int > 0'=80) -> str: # 함수 선언에 애너테이션 추가\n",
    "  \"\"\"max_len 앞이나 뒤의 마지막 공백에서 잘라낸 텍스트를 반환한다.\"\"\"\n",
    "  \n",
    "  end = None\n",
    "  if len(text) > max_len:\n",
    "    space_before = text.rfind(' ', 0, max_len)\n",
    "    if space_before >= 0:\n",
    "      end = space_before\n",
    "    else:\n",
    "      space_after = text.rfind(' ', max_len)\n",
    "      if space_after >=0 :\n",
    "        end = space_after\n",
    "  if end is None:\n",
    "    end = len(text)\n",
    "  return text[:end].rstrip()\n",
    "\n",
    "\n",
    "clip.__annotations__"
   ]
  },
  {
   "cell_type": "code",
   "execution_count": 22,
   "metadata": {
    "colab": {
     "base_uri": "https://localhost:8080/",
     "height": 72
    },
    "colab_type": "code",
    "id": "peryHuLnL4L6",
    "outputId": "7eae13b8-7aba-4e93-e507-d2c5c8b7d0bf"
   },
   "outputs": [
    {
     "name": "stdout",
     "output_type": "stream",
     "text": [
      "<class 'str'>\n",
      "<class 'str'> : text = <class 'inspect._empty'>\n",
      "'int > 0'     : max_len = 80\n"
     ]
    }
   ],
   "source": [
    "from inspect import signature\n",
    "\n",
    "sig = signature(clip)\n",
    "print(sig.return_annotation)\n",
    "\n",
    "for param in sig.parameters.values():\n",
    "  note = repr(param.annotation).ljust(13)\n",
    "  print(note, \":\", param.name, \"=\", param.default)\n",
    "\n"
   ]
  },
  {
   "cell_type": "markdown",
   "metadata": {
    "colab_type": "text",
    "id": "Ohj5XIFjZkLX"
   },
   "source": [
    "### 5.10. 함수형 프로그래밍을 위한 패키지\n",
    "#### 5.10.1 Operator 모듈\n",
    "\n"
   ]
  },
  {
   "cell_type": "code",
   "execution_count": 0,
   "metadata": {
    "colab": {},
    "colab_type": "code",
    "id": "VgpiRKkqZc7n"
   },
   "outputs": [],
   "source": [
    "from functools import reduce\n",
    "\n",
    "# 누적합의 경우에는 sum이 있지만\n",
    "# 팩토리얼 같은 함수를 구현하기 위해서는 두 수의 곱을 행하는 람다 함수를 따로 정의해야함\n",
    "\n",
    "def fact(n):\n",
    "  return reduce(lambda a, b: a*b, range(1, n+1))\n",
    "\n",
    "# 사소한 익명 함수를 작성하는 수고를 덜기 위해 operator 모듈은 수십개의 연산자에 대응하는 함수를 제공\n",
    "\n",
    "from operator import mul\n",
    "def fact(n):\n",
    "  return reduce(mul, range(1, n+1))"
   ]
  },
  {
   "cell_type": "code",
   "execution_count": 26,
   "metadata": {
    "colab": {
     "base_uri": "https://localhost:8080/",
     "height": 201
    },
    "colab_type": "code",
    "id": "jk6VS_fDhI56",
    "outputId": "c6a516c1-1ebd-4fac-ab54-7fe3873e247e"
   },
   "outputs": [
    {
     "name": "stdout",
     "output_type": "stream",
     "text": [
      "('Sao Paulo', 'BR', 19.649, (-23.547778, -46.635833))\n",
      "('Delhi NCR', 'IN', 21.935, (28.613889, 77.208889))\n",
      "('Tokyo', 'JP', 36.933, (35.689722, 139.691667))\n",
      "('Mexico City', 'MX', 20.142, (19.433333, -99.133333))\n",
      "('New York-Newark', 'US', 20.104, (40.808611, -74.020386))\n",
      "('JP', 'Tokyo')\n",
      "('IN', 'Delhi NCR')\n",
      "('MX', 'Mexico City')\n",
      "('US', 'New York-Newark')\n",
      "('BR', 'Sao Paulo')\n"
     ]
    }
   ],
   "source": [
    "metro_areas = [\n",
    "    ('Tokyo', 'JP', 36.933, (35.689722, 139.691667)),   # <1>\n",
    "    ('Delhi NCR', 'IN', 21.935, (28.613889, 77.208889)),\n",
    "    ('Mexico City', 'MX', 20.142, (19.433333, -99.133333)),\n",
    "    ('New York-Newark', 'US', 20.104, (40.808611, -74.020386)),\n",
    "    ('Sao Paulo', 'BR', 19.649, (-23.547778, -46.635833)),\n",
    "]\n",
    "\n",
    "from operator import itemgetter\n",
    "for city in sorted(metro_areas, key=itemgetter(1)): # 1번 필드인 국가코드를 기준으로 정렬 lambda fields: fields[1]과 동일\n",
    "  print(city)\n",
    "  \n",
    "cc_name = itemgetter(1, 0) # 해당 인덱스의 값들로 구성된 튜플을 반환\n",
    "for city in metro_areas:\n",
    "  print(cc_name(city))"
   ]
  },
  {
   "cell_type": "code",
   "execution_count": 31,
   "metadata": {
    "colab": {
     "base_uri": "https://localhost:8080/",
     "height": 146
    },
    "colab_type": "code",
    "id": "R9SZRpEEiNCB",
    "outputId": "9bd982d3-69f7-4ea2-b2cf-5664f09c0d6f"
   },
   "outputs": [
    {
     "name": "stdout",
     "output_type": "stream",
     "text": [
      "Metro(name='Delhi NCR', cc='IN', pop=21.935, coord=LatLong(lat=28.613889, long=77.208889))\n",
      "28.613889\n",
      "('Sao Paulo', -23.547778)\n",
      "('Mexico City', 19.433333)\n",
      "('Delhi NCR', 28.613889)\n",
      "('Tokyo', 35.689722)\n",
      "('New York-Newark', 40.808611)\n"
     ]
    }
   ],
   "source": [
    "from collections import namedtuple\n",
    "\n",
    "LatLong = namedtuple('LatLong', 'lat long')\n",
    "Metropolis = namedtuple('Metro', 'name cc pop coord')\n",
    "\n",
    "metro_data = [Metropolis(name, cc, pop, LatLong(lat, long)) for name, cc, pop, (lat, long) in metro_areas]\n",
    "print(metro_data[1])\n",
    "\n",
    "print(metro_data[1].coord.lat)\n",
    "\n",
    "from operator import attrgetter\n",
    "name_lat = attrgetter('name', 'coord.lat') # 속성명에 .이 포함되어 있으면 내포된 객체를 찾아서 해당 속성을 가져온다\n",
    "\n",
    "for city in sorted(metro_data, key=attrgetter('coord.lat')):\n",
    "  print(name_lat(city))"
   ]
  },
  {
   "cell_type": "code",
   "execution_count": 33,
   "metadata": {
    "colab": {
     "base_uri": "https://localhost:8080/",
     "height": 1009
    },
    "colab_type": "code",
    "id": "3qJIVBPajgbM",
    "outputId": "423bd143-eaf5-4d9f-cd65-e046ccfa56a9"
   },
   "outputs": [
    {
     "data": {
      "text/plain": [
       "['abs',\n",
       " 'add',\n",
       " 'and_',\n",
       " 'attrgetter',\n",
       " 'concat',\n",
       " 'contains',\n",
       " 'countOf',\n",
       " 'delitem',\n",
       " 'eq',\n",
       " 'floordiv',\n",
       " 'ge',\n",
       " 'getitem',\n",
       " 'gt',\n",
       " 'iadd',\n",
       " 'iand',\n",
       " 'iconcat',\n",
       " 'ifloordiv',\n",
       " 'ilshift',\n",
       " 'imatmul',\n",
       " 'imod',\n",
       " 'imul',\n",
       " 'index',\n",
       " 'indexOf',\n",
       " 'inv',\n",
       " 'invert',\n",
       " 'ior',\n",
       " 'ipow',\n",
       " 'irshift',\n",
       " 'is_',\n",
       " 'is_not',\n",
       " 'isub',\n",
       " 'itemgetter',\n",
       " 'itruediv',\n",
       " 'ixor',\n",
       " 'le',\n",
       " 'length_hint',\n",
       " 'lshift',\n",
       " 'lt',\n",
       " 'matmul',\n",
       " 'methodcaller',\n",
       " 'mod',\n",
       " 'mul',\n",
       " 'ne',\n",
       " 'neg',\n",
       " 'not_',\n",
       " 'or_',\n",
       " 'pos',\n",
       " 'pow',\n",
       " 'rshift',\n",
       " 'setitem',\n",
       " 'sub',\n",
       " 'truediv',\n",
       " 'truth',\n",
       " 'xor']"
      ]
     },
     "execution_count": 33,
     "metadata": {
      "tags": []
     },
     "output_type": "execute_result"
    }
   ],
   "source": [
    "import operator\n",
    "[name for name in dir(operator) if not name.startswith('_')]\n",
    "\n",
    "#iXXX는 복합 할당연산자"
   ]
  },
  {
   "cell_type": "code",
   "execution_count": 34,
   "metadata": {
    "colab": {
     "base_uri": "https://localhost:8080/",
     "height": 54
    },
    "colab_type": "code",
    "id": "Yi3UNGEka1Id",
    "outputId": "4d9e48bf-a890-4add-c232-f53778cab48a"
   },
   "outputs": [
    {
     "name": "stdout",
     "output_type": "stream",
     "text": [
      "THE TIME HAS COME\n",
      "The-time-has-come\n"
     ]
    }
   ],
   "source": [
    "from operator import methodcaller\n",
    "\n",
    "s = 'The time has come'\n",
    "upcase = methodcaller('upper')\n",
    "print(upcase(s))\n",
    "hiphenate = methodcaller('replace', ' ', '-')\n",
    "print(hiphenate(s))\n"
   ]
  },
  {
   "cell_type": "markdown",
   "metadata": {
    "colab_type": "text",
    "id": "8g1s0LOBkVy9"
   },
   "source": [
    "#### 5.10.2. functools.partial()로 인수 고정하기\n",
    "\n",
    "partial()은 함수를 부분적으로 실행할 수 있게 해주는 고위 함수이다. 어떤 함수가 있을 때 partial()을 적용하면 원래 함수의 일부 인수를 고정한  콜러블을 생성한다."
   ]
  },
  {
   "cell_type": "code",
   "execution_count": 36,
   "metadata": {
    "colab": {
     "base_uri": "https://localhost:8080/",
     "height": 54
    },
    "colab_type": "code",
    "id": "yVjoCJh5a6Ot",
    "outputId": "4d1fa38b-79e5-4e51-aee4-636d3a6b168a"
   },
   "outputs": [
    {
     "name": "stdout",
     "output_type": "stream",
     "text": [
      "21\n",
      "[3, 6, 9, 12, 15, 18, 21, 24, 27]\n"
     ]
    }
   ],
   "source": [
    "from operator import mul\n",
    "from functools import partial\n",
    "triple = partial(mul, 3)\n",
    "print(triple(7))\n",
    "print(list(map(triple, range(1,10))))"
   ]
  },
  {
   "cell_type": "code",
   "execution_count": 38,
   "metadata": {
    "colab": {
     "base_uri": "https://localhost:8080/",
     "height": 72
    },
    "colab_type": "code",
    "id": "lGNu-MQyPYDq",
    "outputId": "597cae5f-25e9-42ec-f10d-5469a724fd88"
   },
   "outputs": [
    {
     "name": "stdout",
     "output_type": "stream",
     "text": [
      "café café\n",
      "False\n",
      "True\n"
     ]
    }
   ],
   "source": [
    "import unicodedata, functools\n",
    "nfc = functools.partial(unicodedata.normalize, 'NFC')\n",
    "s1 = 'café'\n",
    "s2 = 'cafe\\u0301'\n",
    "print(s1, s2)\n",
    "print(s1 == s2)\n",
    "print(nfc(s1) == nfc(s2))"
   ]
  },
  {
   "cell_type": "code",
   "execution_count": 42,
   "metadata": {
    "colab": {
     "base_uri": "https://localhost:8080/",
     "height": 109
    },
    "colab_type": "code",
    "id": "W9E8YnUtQu74",
    "outputId": "5c66c141-f0e0-4bf8-b558-25c4a1b14905"
   },
   "outputs": [
    {
     "name": "stdout",
     "output_type": "stream",
     "text": [
      "<img class=pic-frame src=wumpus.jpeg />\n",
      "functools.partial(<function tag at 0x7f04d063c7b8>, 'img', cls='pic-frame')\n",
      "<function tag at 0x7f04d063c7b8>\n",
      "('img',)\n",
      "{'cls': 'pic-frame'}\n"
     ]
    }
   ],
   "source": [
    "picture = functools.partial(tag, 'img', cls='pic-frame') # tag 함수의 첫번째 인수로는 무조건 img, cls에는 pic-frame을 넘겨서 실행한다\n",
    "print(picture(src='wumpus.jpeg'))\n",
    "print(picture)\n",
    "print(picture.func)\n",
    "print(picture.args)\n",
    "print(picture.keywords)"
   ]
  },
  {
   "cell_type": "markdown",
   "metadata": {},
   "source": [
    "## 6. 일급 함수 디자인 패턴\n",
    "\n",
    "언어의 종류에 따라 활용도 높은 디자인 패턴이 다르다. 일급함수를 지원하는 언어에서는 전략, 템플릿 메서드, 비지터 패턴 등을 활용하면 일부 클래스의 객체를 간단한 함수로 교체하여 반복되는 코드의 양을 상당히 줄일 수 있다.\n",
    "\n",
    "### 6.1. 사례 : 전략 패턴의 리팩토링\n",
    "> 일련의 알고리즘을 정의하고 각각을 하나의 클래스 안에 넣어서 교체하기 쉽게 만든다. 전략을 이용하면 사용하는 클라이언트에 따라 알고리즘을 독립적으로 변경할 수 있다. \n",
    "\n",
    "고객의 속성이나 주문한 상품에 따라서 다른 할인율을 적용하는 사례\n"
   ]
  },
  {
   "cell_type": "code",
   "execution_count": 1,
   "metadata": {},
   "outputs": [],
   "source": [
    "from abc import ABC, abstractmethod\n",
    "from collections import namedtuple\n",
    "\n",
    "Customer = namedtuple(\"Customer\", \"name fidelity\")\n",
    "\n",
    "class LineItem:\n",
    "    def __init__(self, product, quantity, price):\n",
    "        self.product = product\n",
    "        self.quantity = quantity\n",
    "        self.price = price\n",
    "        \n",
    "    def total(self):\n",
    "        return self.price * self.quantity\n",
    "    \n",
    "    \n",
    "class Order:\n",
    "    def __init__(self, customer, cart, promotion=None):\n",
    "        self.customer = customer\n",
    "        self.cart = list(cart)\n",
    "        self.promotion = promotion\n",
    "        \n",
    "    def total(self):\n",
    "        if not hasattr(self, '__total'):\n",
    "            self.__total = sum(item.total() for item in self.cart)\n",
    "        return self.__total\n",
    "    \n",
    "    def due(self):\n",
    "        if self.promotion is None:\n",
    "            discount= 0\n",
    "        else :\n",
    "            discount = self.promotion.discount(self)\n",
    "        return self.total() - discount\n",
    "    \n",
    "    def __repr__(self):\n",
    "        fmt = '<Order total: {:.2f} due: {:.2f}>'\n",
    "        return fmt.format(self.total(), self.due())\n",
    "    \n",
    "    \n",
    "class Promotion(ABC): # 전략 : 추상 베이스 클래스\n",
    "    @abstractmethod\n",
    "    def discount(self, order):\n",
    "        \"\"\"할인액을 구체적인 숫자로 반환한다.\"\"\"\n",
    "        \n",
    "        \n",
    "class FidelityPromo(Promotion): # 첫번째 구체적인 전략\n",
    "    \"\"\"충성도 포인트가 1000점 이상인 고객에게 전체 5% 할인 적용\"\"\"\n",
    "    def discount(self, order):\n",
    "        return order.total() * .05 if order.customer.fidelity >= 1000 else 0\n",
    "    \n",
    "    \n",
    "class BulkItemPromo(Promotion): # 두번째 구체적인 전략\n",
    "    \"\"\"20개 이상의 동일 상품을 구입하면 10% 할인 적용\"\"\"\n",
    "    def discount(self, order):\n",
    "        discount = 0\n",
    "        for item in order.cart:\n",
    "            if item.quantity >= 20:\n",
    "                discount += item.total() * 0.1\n",
    "                \n",
    "        return discount\n",
    "    \n",
    "    \n",
    "class LargeOrderPromo(Promotion): # 세번째 구체적인 전략\n",
    "    \"\"\"10종류 이상의 상품을 구입하면 전체 7% 할인 적용\"\"\"\n",
    "    def discount(self, order):\n",
    "        distinct_items = {item.product for item in order.cart}\n",
    "        if len(distinct_items) >= 10:\n",
    "            return order.total() * 0.07\n",
    "        return 0\n",
    "    \n",
    "   "
   ]
  },
  {
   "cell_type": "code",
   "execution_count": 2,
   "metadata": {},
   "outputs": [
    {
     "name": "stdout",
     "output_type": "stream",
     "text": [
      "<Order total: 42.00 due: 42.00>\n",
      "<Order total: 42.00 due: 39.90>\n",
      "\n",
      "<Order total: 30.00 due: 28.50>\n",
      "\n",
      "<Order total: 10.00 due: 9.30>\n",
      "<Order total: 42.00 due: 42.00>\n"
     ]
    }
   ],
   "source": [
    "joe = Customer(\"John Doe\", 0)\n",
    "ann = Customer(\"Ann Smith\", 1100)\n",
    "cart = [LineItem(\"banana\", 4, .5), LineItem(\"apple\", 10, 1.5), LineItem(\"watermelon\", 5, 5.0)]\n",
    "\n",
    "print(Order(joe, cart, FidelityPromo()))\n",
    "print(Order(ann, cart, FidelityPromo()))\n",
    "print()\n",
    "\n",
    "banana_cart = [LineItem(\"banana\", 30, .5), LineItem(\"apple\", 10, 1.5)]\n",
    "print(Order(joe, banana_cart, BulkItemPromo()))\n",
    "print()\n",
    "\n",
    "long_order = [LineItem(str(item_code), 1, 1.0) for item_code in range(10)]\n",
    "print(Order(joe, long_order, LargeOrderPromo()))\n",
    "print(Order(joe, cart, LargeOrderPromo()))"
   ]
  },
  {
   "cell_type": "markdown",
   "metadata": {},
   "source": [
    "### 6.1.2. 함수지향 전략\n",
    "\n",
    "위의 예제에서 구체적인 전략은 discount() 메서드 하나만 가진 클래스이다. 일반 함수와 큰 차이가 없기 때문에 리팩토링 여지가 있다."
   ]
  },
  {
   "cell_type": "code",
   "execution_count": 6,
   "metadata": {},
   "outputs": [],
   "source": [
    "from collections import namedtuple\n",
    "\n",
    "Customer = namedtuple(\"Customer\", \"name fidelity\")\n",
    "\n",
    "class LineItem:\n",
    "    def __init__(self, product, quantity, price):\n",
    "        self.product = product\n",
    "        self.quantity = quantity\n",
    "        self.price = price\n",
    "        \n",
    "    def total(self):\n",
    "        return self.price * self.quantity\n",
    "    \n",
    "    \n",
    "class Order:\n",
    "    def __init__(self, customer, cart, promotion=None):\n",
    "        self.customer = customer\n",
    "        self.cart = list(cart)\n",
    "        self.promotion = promotion\n",
    "        \n",
    "    def total(self):\n",
    "        if not hasattr(self, '__total'):\n",
    "            self.__total = sum(item.total() for item in self.cart)\n",
    "        return self.__total\n",
    "    \n",
    "    def due(self):\n",
    "        if self.promotion is None:\n",
    "            discount= 0\n",
    "        else :\n",
    "            discount = self.promotion(self)\n",
    "        return self.total() - discount\n",
    "    \n",
    "    def __repr__(self):\n",
    "        fmt = '<Order total: {:.2f} due: {:.2f}>'\n",
    "        return fmt.format(self.total(), self.due())\n",
    "    \n",
    "       \n",
    "def fidelity_promo(order): \n",
    "    \"\"\"충성도 포인트가 1000점 이상인 고객에게 전체 5% 할인 적용\"\"\"\n",
    "    return order.total() * .05 if order.customer.fidelity >= 1000 else 0\n",
    "    \n",
    "    \n",
    "def bulk_item_promo(order): \n",
    "    \"\"\"20개 이상의 동일 상품을 구입하면 10% 할인 적용\"\"\"\n",
    "    discount = 0\n",
    "    for item in order.cart:\n",
    "        if item.quantity >= 20:\n",
    "            discount += item.total() * 0.1\n",
    "\n",
    "    return discount\n",
    "    \n",
    "    \n",
    "def large_order_promo(order): \n",
    "    \"\"\"10종류 이상의 상품을 구입하면 전체 7% 할인 적용\"\"\"\n",
    "    distinct_items = {item.product for item in order.cart}\n",
    "    if len(distinct_items) >= 10:\n",
    "        return order.total() * 0.07\n",
    "    return 0\n"
   ]
  },
  {
   "cell_type": "code",
   "execution_count": 7,
   "metadata": {},
   "outputs": [
    {
     "name": "stdout",
     "output_type": "stream",
     "text": [
      "<Order total: 42.00 due: 42.00>\n",
      "<Order total: 42.00 due: 39.90>\n",
      "\n",
      "<Order total: 30.00 due: 28.50>\n",
      "\n",
      "<Order total: 10.00 due: 9.30>\n",
      "<Order total: 42.00 due: 42.00>\n"
     ]
    }
   ],
   "source": [
    "joe = Customer(\"John Doe\", 0)\n",
    "ann = Customer(\"Ann Smith\", 1100)\n",
    "cart = [LineItem(\"banana\", 4, .5), LineItem(\"apple\", 10, 1.5), LineItem(\"watermelon\", 5, 5.0)]\n",
    "\n",
    "print(Order(joe, cart, fidelity_promo))\n",
    "print(Order(ann, cart, fidelity_promo))\n",
    "print()\n",
    "\n",
    "banana_cart = [LineItem(\"banana\", 30, .5), LineItem(\"apple\", 10, 1.5)]\n",
    "print(Order(joe, banana_cart, bulk_item_promo))\n",
    "print()\n",
    "\n",
    "long_order = [LineItem(str(item_code), 1, 1.0) for item_code in range(10)]\n",
    "print(Order(joe, long_order, large_order_promo))\n",
    "print(Order(joe, cart, large_order_promo))"
   ]
  },
  {
   "cell_type": "markdown",
   "metadata": {},
   "source": [
    "### 6.1.3. 최선의 전략 선택하기 : 단순한 접근법"
   ]
  },
  {
   "cell_type": "code",
   "execution_count": 8,
   "metadata": {},
   "outputs": [
    {
     "name": "stdout",
     "output_type": "stream",
     "text": [
      "<Order total: 10.00 due: 9.30>\n",
      "<Order total: 30.00 due: 28.50>\n",
      "<Order total: 42.00 due: 39.90>\n"
     ]
    }
   ],
   "source": [
    "promos = [fidelity_promo, bulk_item_promo, large_order_promo]\n",
    "\n",
    "def best_promo(order):\n",
    "    \"\"\"최대로 할인받을 금액을 반환한다\"\"\"\n",
    "    return max(promo(order) for promo in promos)\n",
    "\n",
    "print(Order(joe, long_order, best_promo))\n",
    "print(Order(joe, banana_cart, best_promo))\n",
    "print(Order(ann, cart, best_promo))"
   ]
  },
  {
   "cell_type": "markdown",
   "metadata": {},
   "source": [
    "위의 예제는 간단하지만, 새로운 프로모션이 추가되는 경우 손이 많이 간다.\n",
    "\n",
    "### 6.1.4. 모듈에서 전략 찾기\n"
   ]
  },
  {
   "cell_type": "code",
   "execution_count": null,
   "metadata": {},
   "outputs": [],
   "source": [
    "# 모듈 전역에서 내부 조사해서 만든 promos 리스트\n",
    "promos = [globals()[name] for name in globals() if name.endswith('_promo') and name != 'best_promo']\n",
    "\n",
    "# promotions 모듈만 조사해서 \n",
    "promos = [func for name, func in inspect.getmembers(promotions, inspect.isfunction)]\n",
    "\n",
    "def best_promo(order):\n",
    "    \"\"\"최대로 할인받을 금액을 반환한다\"\"\"\n",
    "    return max(promo(order) for promo in promos)"
   ]
  },
  {
   "cell_type": "markdown",
   "metadata": {},
   "source": [
    "### 6.2. 명령\n",
    "\n",
    "명령 패턴의 목적은 연산을 실행하는 객체와 연산을 구현하는 객체를 분리하는 것이다. 명령 객체를 수신자와 호출자 사이에 놓고, 명령은 execute() 메서드로 인터페이스를 구현한다. execute()는 원하는 수신자가 가지고 있는 메서드를 호출하도록 되어 있다. "
   ]
  },
  {
   "cell_type": "code",
   "execution_count": null,
   "metadata": {},
   "outputs": [],
   "source": [
    "class MacroCommand:\n",
    "    \"\"\"명령 리스트를 실행하는 명령\"\"\"\n",
    "    def __init__(self, commands):\n",
    "        self.commands = list(commands)\n",
    "        \n",
    "    def __call__(self):\n",
    "        for command in self.command:\n",
    "            command()"
   ]
  }
 ],
 "metadata": {
  "colab": {
   "collapsed_sections": [],
   "include_colab_link": true,
   "name": "5_First_Class_Function.ipynb",
   "provenance": [],
   "version": "0.3.2"
  },
  "kernelspec": {
   "display_name": "Python 3",
   "language": "python",
   "name": "python3"
  },
  "language_info": {
   "codemirror_mode": {
    "name": "ipython",
    "version": 3
   },
   "file_extension": ".py",
   "mimetype": "text/x-python",
   "name": "python",
   "nbconvert_exporter": "python",
   "pygments_lexer": "ipython3",
   "version": "3.5.2"
  },
  "widgets": {
   "state": {},
   "version": "1.1.2"
  }
 },
 "nbformat": 4,
 "nbformat_minor": 1
}
