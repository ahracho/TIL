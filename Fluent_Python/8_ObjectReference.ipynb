{
  "nbformat": 4,
  "nbformat_minor": 0,
  "metadata": {
    "colab": {
      "name": "8_ObjectReference.ipynb",
      "version": "0.3.2",
      "provenance": [],
      "collapsed_sections": []
    },
    "kernelspec": {
      "name": "python3",
      "display_name": "Python 3"
    }
  },
  "cells": [
    {
      "metadata": {
        "id": "TXm3qhRXGY32",
        "colab_type": "text"
      },
      "cell_type": "markdown",
      "source": [
        "## 8. 객체 참조, 가변성, 재활용\n",
        "- 파이썬의 변수\n",
        "- 객체의 정체성, 동질성, 별명\n",
        "- 얕은 복사와 깊은 복사\n",
        "- 참조 및 함수 매개변수\n",
        "- 가비지 컬렉션, del\n",
        "\n",
        "\n",
        "\n",
        "### 8.1. 변수는 상자가 아니다\n",
        "\n",
        "파이썬 변수는 자바에서의 참조 변수와 같으므로 변수는 객체에 붙은 레이블이라고 생각하는 것이 좋다. "
      ]
    },
    {
      "metadata": {
        "id": "GnwbS_V4GV4C",
        "colab_type": "code",
        "colab": {
          "base_uri": "https://localhost:8080/",
          "height": 35
        },
        "outputId": "175424ec-7bdc-4635-ebaa-f93dd747c47b"
      },
      "cell_type": "code",
      "source": [
        "a = [1, 2, 3]\n",
        "b = a # a와 b가 같은 참조를 가지고 있기 때문에 \n",
        "a.append(4) # a를 변경하면 \n",
        "print(b) # b도 같이 변경된다."
      ],
      "execution_count": 1,
      "outputs": [
        {
          "output_type": "stream",
          "text": [
            "[1, 2, 3, 4]\n"
          ],
          "name": "stdout"
        }
      ]
    },
    {
      "metadata": {
        "id": "EKOrU815ynWD",
        "colab_type": "text"
      },
      "cell_type": "markdown",
      "source": [
        "참조 변수의 경우 변수가 객체에 할당되었다는 표현이 객체를 변수에 할당했다는 표현보다 훨씬 타당하다. 결국 객체는 변수가 할당되기 전에 생성된다."
      ]
    },
    {
      "metadata": {
        "id": "2T0r1krkNPzT",
        "colab_type": "code",
        "colab": {
          "base_uri": "https://localhost:8080/",
          "height": 303
        },
        "outputId": "2e632c0e-4026-4f57-e30e-fac2f90efa31"
      },
      "cell_type": "code",
      "source": [
        "class Gizmo:\n",
        "  def __init__(self):\n",
        "    print(\"Gizmo id: %d\" % id(self))\n",
        "    \n",
        "x = Gizmo()\n",
        "print(x)\n",
        "\n",
        "'''\n",
        "Gizmo id: 139991375373144\n",
        "\n",
        "---------------------------------------------------------------------------\n",
        "TypeError                                 Traceback (most recent call last)\n",
        "<ipython-input-4-747feaee16b0> in <module>()\n",
        "      5 x = Gizmo()\n",
        "      6 print(x)\n",
        "----> 7 y = Gizmo()*10 # Gizmo 객체에 숫자를 곱하면 예외가 발생한다.\n",
        "      8 print(y)\n",
        "      9 \n",
        "\n",
        "TypeError: unsupported operand type(s) for *: 'Gizmo' and 'int'\n",
        "'''\n",
        "# 객체가 생성이 먼저 되고 숫자와의 곱을 수행\n",
        "\n",
        "y = Gizmo()*10 # Gizmo 객체에 숫자를 곱하면 예외가 발생한다.\n",
        "print(y)\n",
        "\n",
        "print(dir()) # y 생성하다가 에러났기 때문에 y는 생성되지 않음"
      ],
      "execution_count": 4,
      "outputs": [
        {
          "output_type": "stream",
          "text": [
            "Gizmo id: 139991375372528\n",
            "<__main__.Gizmo object at 0x7f52483360f0>\n",
            "Gizmo id: 139991375373144\n"
          ],
          "name": "stdout"
        },
        {
          "output_type": "error",
          "ename": "TypeError",
          "evalue": "ignored",
          "traceback": [
            "\u001b[0;31m---------------------------------------------------------------------------\u001b[0m",
            "\u001b[0;31mTypeError\u001b[0m                                 Traceback (most recent call last)",
            "\u001b[0;32m<ipython-input-4-747feaee16b0>\u001b[0m in \u001b[0;36m<module>\u001b[0;34m()\u001b[0m\n\u001b[1;32m      5\u001b[0m \u001b[0mx\u001b[0m \u001b[0;34m=\u001b[0m \u001b[0mGizmo\u001b[0m\u001b[0;34m(\u001b[0m\u001b[0;34m)\u001b[0m\u001b[0;34m\u001b[0m\u001b[0m\n\u001b[1;32m      6\u001b[0m \u001b[0mprint\u001b[0m\u001b[0;34m(\u001b[0m\u001b[0mx\u001b[0m\u001b[0;34m)\u001b[0m\u001b[0;34m\u001b[0m\u001b[0m\n\u001b[0;32m----> 7\u001b[0;31m \u001b[0my\u001b[0m \u001b[0;34m=\u001b[0m \u001b[0mGizmo\u001b[0m\u001b[0;34m(\u001b[0m\u001b[0;34m)\u001b[0m\u001b[0;34m*\u001b[0m\u001b[0;36m10\u001b[0m \u001b[0;31m# Gizmo 객체에 숫자를 곱하면 예외가 발생한다.\u001b[0m\u001b[0;34m\u001b[0m\u001b[0m\n\u001b[0m\u001b[1;32m      8\u001b[0m \u001b[0mprint\u001b[0m\u001b[0;34m(\u001b[0m\u001b[0my\u001b[0m\u001b[0;34m)\u001b[0m\u001b[0;34m\u001b[0m\u001b[0m\n\u001b[1;32m      9\u001b[0m \u001b[0;34m\u001b[0m\u001b[0m\n",
            "\u001b[0;31mTypeError\u001b[0m: unsupported operand type(s) for *: 'Gizmo' and 'int'"
          ]
        }
      ]
    },
    {
      "metadata": {
        "id": "VJDxZ2j2IlWg",
        "colab_type": "text"
      },
      "cell_type": "markdown",
      "source": [
        "### 8.2. 정체성, 동질성, 별명\n",
        "\n",
        "변수는 단지 레이블일 뿐이므로 객체에 여러 레이블을 붙일 수 있다. 여러 레이블을 붙이는 것을 별명이라고 한다. "
      ]
    },
    {
      "metadata": {
        "id": "m4SJ8Rx6IU-O",
        "colab_type": "code",
        "colab": {
          "base_uri": "https://localhost:8080/",
          "height": 72
        },
        "outputId": "5928160e-1212-4d70-a659-fe433388d715"
      },
      "cell_type": "code",
      "source": [
        "charles = {'name' : 'Charles L. Dodgson', 'born' : 1832}\n",
        "lewis = charles\n",
        "\n",
        "print(lewis is charles) # is는 ID가 같은지 비교\n",
        "print(id(lewis), id(charles))\n",
        "\n",
        "lewis['balance'] = 950\n",
        "\n",
        "print(charles)"
      ],
      "execution_count": 5,
      "outputs": [
        {
          "output_type": "stream",
          "text": [
            "True\n",
            "139991375448464 139991375448464\n",
            "{'name': 'Charles L. Dodgson', 'born': 1832, 'balance': 950}\n"
          ],
          "name": "stdout"
        }
      ]
    },
    {
      "metadata": {
        "id": "7z8h4ox5DVJm",
        "colab_type": "code",
        "colab": {
          "base_uri": "https://localhost:8080/",
          "height": 72
        },
        "outputId": "a3400f0f-ee28-46e7-e7de-c417a259d2be"
      },
      "cell_type": "code",
      "source": [
        "alex = {'name': 'Charles L. Dodgson', 'born': 1832, 'balance': 950}\n",
        "\n",
        "print(alex == charles) # dict 클래스에서 __eq__() 호출 : 값이 같은지 비교\n",
        "print(alex is not charles)\n",
        "print(id(alex), id(charles)) # id 다름"
      ],
      "execution_count": 7,
      "outputs": [
        {
          "output_type": "stream",
          "text": [
            "True\n",
            "True\n",
            "139991375342400 139991375448464\n"
          ],
          "name": "stdout"
        }
      ]
    },
    {
      "metadata": {
        "id": "KLW7sOfND4t1",
        "colab_type": "text"
      },
      "cell_type": "markdown",
      "source": [
        ">> **모든 객체는 정체성, 자료형, 값을 가지고 있다. 객체의 정체성은 일단 생성한 후에는 결코 변경되지 않는다. 정체성은 메모리 내의 객체 주소라고 생각할 수 있다. is 연산자는 두 객체의 정체성을 비교한다. id() 함수는 정체성을 나타내는 정수를 반환한다.**\n",
        "\n",
        "\n",
        "#### 8.2.1. == 연산자와 is 연산자 간의 선택\n",
        "== 연산자가 객체의 값을 비교하는 반면, is 연산자는 객체의 정체성을 비교한다. 정체성보다 값을 비교하는 경우가 많으므로, == 를 자주 사용한다. 하지만 변수를 싱글턴과 비교할 때는 is 연산자를 사용해야 한다. is 연산자를 사용할 때는 변수를 None과 비교하는 경우가 많다. \n",
        "\n",
        "#### 8.2.2. 튜플의 상대적 불변성\n",
        "튜플은 객체에 대한 참조를 담는다. 참조된 항목이 가변형이면 튜플 자체는 불변형이지만 참조된 항목은 변할 수 있다. 튜플의 불변성은 tuple 데이터 구조체의 물리적인 내용, 참조 자체 만을 말하는 것이지, 참조된 객체까지 불변성을 가지는 것은 아니다. "
      ]
    },
    {
      "metadata": {
        "id": "cOSvQAOIFeLs",
        "colab_type": "code",
        "colab": {
          "base_uri": "https://localhost:8080/",
          "height": 109
        },
        "outputId": "f8b77ed7-305d-4691-e95a-3fa3353714ae"
      },
      "cell_type": "code",
      "source": [
        "t1 = (1, 2, [30, 40])\n",
        "t2 = (1, 2, [30, 40])\n",
        "print(t1 == t2)\n",
        "print(id(t1[-1]))\n",
        "t1[-1].append(99)\n",
        "print(t1)\n",
        "\n",
        "print(id(t1[-1])) # id는 바뀌지 않았지만\n",
        "print(t1 == t2) # 값이 바뀜\n"
      ],
      "execution_count": 8,
      "outputs": [
        {
          "output_type": "stream",
          "text": [
            "True\n",
            "139991375807432\n",
            "(1, 2, [30, 40, 99])\n",
            "139991375807432\n",
            "False\n"
          ],
          "name": "stdout"
        }
      ]
    },
    {
      "metadata": {
        "id": "dEEyIDmYAS42",
        "colab_type": "text"
      },
      "cell_type": "markdown",
      "source": [
        "### 8.3. 기본 복사는 얕은 복사\n",
        "\n",
        "리스트나 대부분의 내장 가변 컬렉션을 복사하는 가장 쉬운 방법은 자료형 자체의 내장 생성자를 사용하는 것이다. "
      ]
    },
    {
      "metadata": {
        "id": "Tx18r5XgOewv",
        "colab_type": "code",
        "colab": {
          "base_uri": "https://localhost:8080/",
          "height": 109
        },
        "outputId": "e56d8a4f-34ba-4bd9-d21c-ac6f0f614262"
      },
      "cell_type": "code",
      "source": [
        "l1 = [3, [55,44], (7,8,9)]\n",
        "l2 = list(l1) # 얕은 사본\n",
        "print(l2)\n",
        "print(l1 == l2)\n",
        "print(l2 is l1)\n",
        "print()\n",
        "\n",
        "print(id(l1[-1]), id(l2[-1])) # 같은 튜플을 참조함"
      ],
      "execution_count": 10,
      "outputs": [
        {
          "output_type": "stream",
          "text": [
            "[3, [55, 44], (7, 8, 9)]\n",
            "True\n",
            "False\n",
            "\n",
            "139991375796840 139991375796840\n"
          ],
          "name": "stdout"
        }
      ]
    },
    {
      "metadata": {
        "id": "PdX9UgrCH0qK",
        "colab_type": "text"
      },
      "cell_type": "markdown",
      "source": [
        "생성자나 \\[:\\]를 사용하면 얕은 사본을 생성한다. 최상위 컨테이너는 복제하지만 사본은 원래 컨테이너에 들어 있던 동일 객체에 대한 참조로 채워진다. 따라서, 가변 컨테이너를 얕은 복사를 할 경우 문제가 생길 수 있다. "
      ]
    },
    {
      "metadata": {
        "id": "x-LHD6vrIQRa",
        "colab_type": "code",
        "colab": {
          "base_uri": "https://localhost:8080/",
          "height": 109
        },
        "outputId": "b4f875e7-02ba-47ce-fb10-d6c136792043"
      },
      "cell_type": "code",
      "source": [
        "l1 = [3, [55,44], (7,8,9)]\n",
        "l2 = list(l1)\n",
        "l1.append(100)\n",
        "l1[1].remove(55)\n",
        "print(\"l1 : \", l1)\n",
        "print(\"l2 : \", l2) # l1, l2에서 모두 55가 사라짐\n",
        "\n",
        "l2[1] += [33, 22]\n",
        "l2[2] += (10, 11) # 새로운 튜플을 만들어서 다시 바인딩\n",
        "print(\"l1 : \", l1)\n",
        "print(\"l2 : \", l2)\n",
        "\n",
        "print(id(l1[-1]), id(l2[-1])) # 튜플 ID가 달라짐"
      ],
      "execution_count": 12,
      "outputs": [
        {
          "output_type": "stream",
          "text": [
            "l1 :  [3, [44], (7, 8, 9), 100]\n",
            "l2 :  [3, [44], (7, 8, 9)]\n",
            "l1 :  [3, [44, 33, 22], (7, 8, 9), 100]\n",
            "l2 :  [3, [44, 33, 22], (7, 8, 9, 10, 11)]\n",
            "10938656 139991376042208\n"
          ],
          "name": "stdout"
        }
      ]
    },
    {
      "metadata": {
        "id": "xOkhjBReJ7mw",
        "colab_type": "text"
      },
      "cell_type": "markdown",
      "source": [
        "#### 8.3.1. 객체의 깊은 복사와 얕은 복사\n",
        "\n",
        "얕은 복사로 늘 문제가 생기는 것은 아니지만, 내포된 객체의 참조를 공유하지 않도록 깊게 복사할 필요가 있는 경우가 있다. copy 모듈이 제공하는 deepcopy() 함수는 깊은 복사를, copy()는 얕은 복사를 지원한다."
      ]
    },
    {
      "metadata": {
        "id": "GiuGxUL4J54I",
        "colab_type": "code",
        "colab": {}
      },
      "cell_type": "code",
      "source": [
        "class Bus:\n",
        "  def __init__(self, passengers=None):\n",
        "    if passengers is None:\n",
        "      self.passengers = []\n",
        "    else :\n",
        "      self.passengers = list(passengers)\n",
        "      \n",
        "    print(id(self.passengers),\" : \", self.passengers)\n",
        "      \n",
        "      \n",
        "  def pick(self, name):\n",
        "    self.passengers.append(name)\n",
        "    print(self.passengers)\n",
        "    \n",
        "    \n",
        "  def drop(self, name) :\n",
        "    self.passengers.remove(name)\n",
        "    print(self.passengers)\n",
        " "
      ],
      "execution_count": 0,
      "outputs": []
    },
    {
      "metadata": {
        "id": "CyPsRx1w-V1N",
        "colab_type": "code",
        "colab": {
          "base_uri": "https://localhost:8080/",
          "height": 109
        },
        "outputId": "55466f5f-f9c4-4cdd-a826-39eccd8b42e0"
      },
      "cell_type": "code",
      "source": [
        "import copy\n",
        "bus1 = Bus([\"Alice\", \"Bill\", \"Claire\", \"David\"])\n",
        "bus2 = copy.copy(bus1)\n",
        "\n",
        "bus3 = copy.deepcopy(bus1)\n",
        "\n",
        "print(id(bus1.passengers), id(bus2.passengers), id(bus3.passengers)) # bus1.passengers is bus2.passengers\n",
        "\n",
        "bus1.drop(\"Bill\")\n",
        "print(bus2.passengers)\n",
        "print(bus3.passengers) # Bus3에는 영향 없음"
      ],
      "execution_count": 17,
      "outputs": [
        {
          "output_type": "stream",
          "text": [
            "139991375456456  :  ['Alice', 'Bill', 'Claire', 'David']\n",
            "139991375456456 139991375456456 139991375454280\n",
            "['Alice', 'Claire', 'David']\n",
            "['Alice', 'Claire', 'David']\n",
            "['Alice', 'Bill', 'Claire', 'David']\n"
          ],
          "name": "stdout"
        }
      ]
    },
    {
      "metadata": {
        "id": "LveWqP1CEjjX",
        "colab_type": "text"
      },
      "cell_type": "markdown",
      "source": [
        "일반적으로 깊은 사본을 만드는 일은 간단치 않다. 객체 안에 순환 참조가 있으면 단순한 알고리즘은 무한 루프에 빠질 수 있다. deepcopy()는 순환 참조를 제대로 처리하기 위해 이미 복사한 객체에 대한 참조를 기억하고 있다. "
      ]
    },
    {
      "metadata": {
        "id": "X1wO3fJ2FCFy",
        "colab_type": "code",
        "colab": {
          "base_uri": "https://localhost:8080/",
          "height": 54
        },
        "outputId": "708a5b22-8a2b-4e01-997a-46de7b17ac39"
      },
      "cell_type": "code",
      "source": [
        "a = [10, 20]\n",
        "b = [a, 30]\n",
        "\n",
        "a.append(b)\n",
        "print(a)\n",
        "\n",
        "from copy import deepcopy\n",
        "c = deepcopy(a)\n",
        "print(c)"
      ],
      "execution_count": 19,
      "outputs": [
        {
          "output_type": "stream",
          "text": [
            "[10, 20, [[...], 30]]\n",
            "[10, 20, [[...], 30]]\n"
          ],
          "name": "stdout"
        }
      ]
    },
    {
      "metadata": {
        "id": "u0k-rNZjLGo4",
        "colab_type": "text"
      },
      "cell_type": "markdown",
      "source": [
        "### 8.4. 참조로서의 함수 매개변수\n",
        "\n",
        "파이썬은 공유로 호출(Call by Sharing) 하는 매개변수 전달 방식만 지원한다. 공유로 호출한다는 말은 함수의 각 매개변수가 인수로 전달받은 각 참조의 사본을 받는다는 것이다. 이런 체계의 결과로, 함수는 인수로 전달받은 모든 가변 객체를 변경할 수 있지만, 객체의 정체성 자체는 변경할 수 없다. "
      ]
    },
    {
      "metadata": {
        "id": "VhKeg3KSKsAK",
        "colab_type": "code",
        "colab": {
          "base_uri": "https://localhost:8080/",
          "height": 127
        },
        "outputId": "92bd7b7c-d65d-435c-f918-ea13164d6046"
      },
      "cell_type": "code",
      "source": [
        "def f(a, b):\n",
        "  a += b\n",
        "  return a\n",
        "\n",
        "\n",
        "x = 1\n",
        "y = 2\n",
        "\n",
        "print(\"f(x, y) : \", f(x, y))\n",
        "print(\"(x, y) : \", x, y)\n",
        "\n",
        "a = [1, 2]\n",
        "b = [3, 4]\n",
        "print(\"f(a, b) : \", f(a, b))\n",
        "print(\"(a, b) : \", a, b)\n",
        "\n",
        "t = (10, 20)\n",
        "u = (30, 40)\n",
        "print(\"f(t, u) : \", f(t, u))\n",
        "print(\"(t, u) : \", t, u)\n"
      ],
      "execution_count": 21,
      "outputs": [
        {
          "output_type": "stream",
          "text": [
            "f(x, y) :  3\n",
            "(x, y) :  1 2\n",
            "f(a, b) :  [1, 2, 3, 4]\n",
            "(a, b) :  [1, 2, 3, 4] [3, 4]\n",
            "f(t, u) :  (10, 20, 30, 40)\n",
            "(t, u) :  (10, 20) (30, 40)\n"
          ],
          "name": "stdout"
        }
      ]
    },
    {
      "metadata": {
        "id": "66jG71PtNs4E",
        "colab_type": "text"
      },
      "cell_type": "markdown",
      "source": [
        "#### 8.4.1. 가변형을 매개변수 기본값으로 사용하기 : 좋지 않은 생각\n",
        "\n",
        "기본값을 가진 선택적 인수는 파이썬 함수 정의에서 아주 좋은 기능이지만, 매개변수 기본값으로 가변 객체를 사용하는 것은 피해야 한다. "
      ]
    },
    {
      "metadata": {
        "id": "jVgKDkxMHVfx",
        "colab_type": "code",
        "colab": {}
      },
      "cell_type": "code",
      "source": [
        "class HauntedBus:\n",
        "  def __init__(self, passengers=[]): # 빈리스트가 class 정의될 때 만들어지나?\n",
        "    self.passengers = passengers\n",
        "    print(id(self.passengers),\" : \", self.passengers)\n",
        "      \n",
        "      \n",
        "  def pick(self, name):\n",
        "    self.passengers.append(name)\n",
        "    print(self.passengers)\n",
        "    \n",
        "    \n",
        "  def drop(self, name) :\n",
        "    self.passengers.remove(name)\n",
        "    print(self.passengers)\n",
        " "
      ],
      "execution_count": 0,
      "outputs": []
    },
    {
      "metadata": {
        "id": "aKzKpkIvKdE-",
        "colab_type": "code",
        "colab": {
          "base_uri": "https://localhost:8080/",
          "height": 311
        },
        "outputId": "08d16577-ce5e-43ef-b449-f8602ed8c3ee"
      },
      "cell_type": "code",
      "source": [
        "bus1 = HauntedBus([\"Alice\", \"Bill\"])\n",
        "print(bus1.passengers)\n",
        "bus1.pick(\"Charles\")\n",
        "bus1.drop(\"Alice\")\n",
        "print(bus1.passengers)\n",
        "print()\n",
        "\n",
        "bus2 = HauntedBus()\n",
        "bus2.pick(\"Carrie\")\n",
        "print(bus2.passengers)\n",
        "print()\n",
        "\n",
        "bus3 = HauntedBus()\n",
        "print(bus3.passengers) # 기본값이 비어있지 않다!\n",
        "bus3.pick(\"Dave\")\n",
        "print(bus2.passengers)\n",
        "\n",
        "print(bus2.passengers is bus3.passengers) # bus2와 bus3이 동일한 리스트를 참조\n",
        "print(bus1.passengers)\n"
      ],
      "execution_count": 25,
      "outputs": [
        {
          "output_type": "stream",
          "text": [
            "139991375357192  :  ['Alice', 'Bill']\n",
            "['Alice', 'Bill']\n",
            "['Alice', 'Bill', 'Charles']\n",
            "['Bill', 'Charles']\n",
            "['Bill', 'Charles']\n",
            "\n",
            "139991375807496  :  []\n",
            "['Carrie']\n",
            "['Carrie']\n",
            "\n",
            "139991375807496  :  ['Carrie']\n",
            "['Carrie']\n",
            "['Carrie', 'Dave']\n",
            "['Carrie', 'Dave']\n",
            "True\n",
            "['Bill', 'Charles']\n"
          ],
          "name": "stdout"
        }
      ]
    },
    {
      "metadata": {
        "id": "dqWOdAmNQVEC",
        "colab_type": "code",
        "colab": {
          "base_uri": "https://localhost:8080/",
          "height": 54
        },
        "outputId": "2f8f9043-de6d-497a-90e8-700144b475d2"
      },
      "cell_type": "code",
      "source": [
        "dir(HauntedBus.__init__)\n",
        "print(HauntedBus.__init__.__defaults__)\n",
        "print(HauntedBus.__init__.__defaults__[0] is bus2.passengers) # 기본값이 bus2.passengers에 바인딩"
      ],
      "execution_count": 29,
      "outputs": [
        {
          "output_type": "stream",
          "text": [
            "(['Carrie', 'Dave'],)\n",
            "True\n"
          ],
          "name": "stdout"
        }
      ]
    },
    {
      "metadata": {
        "id": "YK0Oc-peNvbE",
        "colab_type": "text"
      },
      "cell_type": "markdown",
      "source": [
        "#### 8.4.2. 가변 매개변수에 대한 방어적 프로그래밍\n",
        "\n",
        "가변 매개변수를 받는 함수를 구현할 때는 전달된 인수가 변경될 것이라는 것을 호출자가 예상할 수 있는지 없는지 신중하게 고려해야 한다. "
      ]
    },
    {
      "metadata": {
        "id": "EjxlKlN4Mx3F",
        "colab_type": "code",
        "colab": {}
      },
      "cell_type": "code",
      "source": [
        "class TwilightBus:\n",
        "  def __init__(self, passengers=None):\n",
        "    if passengers is None:\n",
        "      self.passengers = []\n",
        "    else :\n",
        "      self.passengers = passengers # 리스트를 새로 만들지 않고 원래의 리스트 참조를 그대로 사용 -> list(passengerse)\n",
        "      \n",
        "      \n",
        "  def pick(self, name):\n",
        "    self.passengers.append(name)\n",
        "    print(self.passengers)\n",
        "    \n",
        "    \n",
        "  def drop(self, name) :\n",
        "    self.passengers.remove(name)\n",
        "    print(self.passengers)\n",
        " "
      ],
      "execution_count": 0,
      "outputs": []
    },
    {
      "metadata": {
        "id": "0zJ5NlMFRWGD",
        "colab_type": "code",
        "colab": {
          "base_uri": "https://localhost:8080/",
          "height": 72
        },
        "outputId": "914a75d6-6108-41a3-f172-3fcb432bfb4d"
      },
      "cell_type": "code",
      "source": [
        "basketball_team = ['Sue', 'Tina', 'Maya', 'Diana', 'Pat']\n",
        "bus = TwilightBus(basketball_team)\n",
        "bus.drop(\"Tina\")\n",
        "bus.drop(\"Pat\")\n",
        "basketball_team # 원래 리스트가 변경되었음"
      ],
      "execution_count": 33,
      "outputs": [
        {
          "output_type": "stream",
          "text": [
            "['Sue', 'Maya', 'Diana', 'Pat']\n",
            "['Sue', 'Maya', 'Diana']\n"
          ],
          "name": "stdout"
        },
        {
          "output_type": "execute_result",
          "data": {
            "text/plain": [
              "['Sue', 'Maya', 'Diana']"
            ]
          },
          "metadata": {
            "tags": []
          },
          "execution_count": 33
        }
      ]
    },
    {
      "metadata": {
        "id": "IDScOKoJNIGZ",
        "colab_type": "text"
      },
      "cell_type": "markdown",
      "source": [
        "### 8.5. del과 가비지 컬렉션\n",
        "\n",
        "**del 명령은 이름을 제거하는 것이지, 객체를 제거하는 것이 아니다.** del 명령의 결과로 객체가 가비지 컬렉트될 수 있지만, 제거된 변수가 객체를 참조하는 최후의 변수거나 객체에 도달할 수 없을 때에만 가비지 컬렉트된다.  \n",
        "\n",
        "본질적으로 각 객체는 얼마나 많은 참조가 자신을 가리키는지 개수(refcount)를 세고 있다. refcount가 0이 되자마자 CPython이 객체의 \\_\\_del\\_\\_() 메서드를 호출하고 객체에 할당되어 있는 메모리를 해제함으로써 객체가 제거된다."
      ]
    },
    {
      "metadata": {
        "id": "mN0uVl-XNxix",
        "colab_type": "code",
        "colab": {
          "base_uri": "https://localhost:8080/",
          "height": 90
        },
        "outputId": "071dfaa7-68a9-4fd2-be92-fc97d3af905e"
      },
      "cell_type": "code",
      "source": [
        "import weakref\n",
        "\n",
        "s1 = {1, 2, 3}\n",
        "s2 = s1\n",
        "def bye():\n",
        "  print(\"Gone with the wind...\")\n",
        "  \n",
        "ender = weakref.finalize(s1, bye)\n",
        "print(ender.alive)\n",
        "\n",
        "del s1 # 객체를 없앤 것이 아니라 refcount -1 하는 것\n",
        "print(ender.alive)\n",
        "s2 = 'spam' # {1, 2, 3} 리스트 참조를 없애자마자 사라짐\n",
        "print(ender.alive)\n"
      ],
      "execution_count": 34,
      "outputs": [
        {
          "output_type": "stream",
          "text": [
            "True\n",
            "True\n",
            "Gone with the wind...\n",
            "False\n"
          ],
          "name": "stdout"
        }
      ]
    },
    {
      "metadata": {
        "id": "uJKNN4CsPHgL",
        "colab_type": "text"
      },
      "cell_type": "markdown",
      "source": [
        "### 8.6. 약한 참조\n",
        "\n",
        "객체가 메모리에 유지되거나 유지되지 않도록 만드는 것은 참조의 존재 여부다. 객체 참조 카운트가 0이 되면 가비지 컬렉터는 해당 객체를 제거한다. 그러나 불필요하게 객체를 유지시키지 않으면서 객체를 참조할 수 있으면 도움이 되는 경우가 종종있는데, 캐시가 대표적인 경우이다. \n",
        "\n",
        "약한 참조는 참조 카운트를 증가시키지 않고 객체를 참조한다. \n"
      ]
    },
    {
      "metadata": {
        "id": "1pSdW_icOaOr",
        "colab_type": "code",
        "colab": {
          "base_uri": "https://localhost:8080/",
          "height": 109
        },
        "outputId": "77012207-c294-42e7-8f36-22eaba82c7e5"
      },
      "cell_type": "code",
      "source": [
        "import weakref\n",
        "\n",
        "a_set = {0, 1}\n",
        "wref = weakref.ref(a_set) # 참조된 객체를 반환\n",
        "print(wref)\n",
        "print(wref())\n",
        "a_set = {2, 3, 4}\n",
        "print(wref())\n",
        "\n",
        "print(wref() is None)"
      ],
      "execution_count": 35,
      "outputs": [
        {
          "output_type": "stream",
          "text": [
            "<weakref at 0x7f52482e0598; to 'set' at 0x7f5248410f28>\n",
            "{0, 1}\n",
            "None\n",
            "True\n",
            "True\n"
          ],
          "name": "stdout"
        }
      ]
    },
    {
      "metadata": {
        "id": "NoFxBDLtVG-s",
        "colab_type": "text"
      },
      "cell_type": "markdown",
      "source": [
        "#### 8.6.1. WeakValueDictionary 촌극\n",
        "\n",
        "WeakValueDictionary 클래스는 객체에 대한 약한 참조를 값으로 가지는 가변 매핑을 구현한다. 참조된 객체가 프로그램 다른 곳에서 가비지 컬렉트되면 해당 키도 WeakValueDictionary에서 자동으로 제거된다."
      ]
    },
    {
      "metadata": {
        "id": "Zu5DqOErRPYT",
        "colab_type": "code",
        "colab": {}
      },
      "cell_type": "code",
      "source": [
        "class Cheese:\n",
        "  def __init__(self, kind):\n",
        "    self.kind = kind\n",
        "    \n",
        "  def __repr__(self):\n",
        "    return \"Cheese(%r)\" % self.kind"
      ],
      "execution_count": 0,
      "outputs": []
    },
    {
      "metadata": {
        "id": "TbvCwgztSRuG",
        "colab_type": "code",
        "colab": {
          "base_uri": "https://localhost:8080/",
          "height": 72
        },
        "outputId": "726214fb-120e-49b5-cebf-54514fd74023"
      },
      "cell_type": "code",
      "source": [
        "import weakref\n",
        "\n",
        "stock = weakref.WeakValueDictionary()\n",
        "catalog = [Cheese('Red Leicester'), Cheese('Tilsit'), Cheese('Brie'), Cheese('Parmesan')]\n",
        "\n",
        "for cheese in catalog:\n",
        "  stock[cheese.kind] = cheese\n",
        "  \n",
        "  \n",
        "print(sorted(stock.keys()))\n",
        "del catalog\n",
        "\n",
        "print(sorted(stock.keys())) # Parmesan이 남아있다? -> for loop cheese 변수에 남아있어서\n",
        "del cheese\n",
        "\n",
        "print(sorted(stock.keys()))"
      ],
      "execution_count": 37,
      "outputs": [
        {
          "output_type": "stream",
          "text": [
            "['Brie', 'Parmesan', 'Red Leicester', 'Tilsit']\n",
            "['Parmesan']\n",
            "[]\n"
          ],
          "name": "stdout"
        }
      ]
    },
    {
      "metadata": {
        "id": "e1JzSHCVTjm-",
        "colab_type": "text"
      },
      "cell_type": "markdown",
      "source": [
        "#### 8.6.2. 약한 참조의 한계\n",
        "\n",
        "모든 파이썬 객체가 약한 참조의 대상이 될 수 있는 것은 아니다. 기본적인 list와 dict 객체는 참조 대상이 될 수 없지만, 이 클래스들의 서브 클래스는 이 문제를 다음처럼 쉽게 고칠 수 있다."
      ]
    },
    {
      "metadata": {
        "id": "s-rlpC0vE3HZ",
        "colab_type": "code",
        "colab": {
          "base_uri": "https://localhost:8080/",
          "height": 54
        },
        "outputId": "641ac119-248c-4e61-c067-f97186337126"
      },
      "cell_type": "code",
      "source": [
        "t1 = (1, 2, 3)\n",
        "t2 = tuple(t1)\n",
        "\n",
        "print(t1 is t2)\n",
        "t3 = t1[:]\n",
        "print(t1 is t3) # 참조가 반환됨"
      ],
      "execution_count": 38,
      "outputs": [
        {
          "output_type": "stream",
          "text": [
            "True\n",
            "True\n"
          ],
          "name": "stdout"
        }
      ]
    },
    {
      "metadata": {
        "id": "oSlrSYNBUUh5",
        "colab_type": "code",
        "colab": {
          "base_uri": "https://localhost:8080/",
          "height": 54
        },
        "outputId": "a7737464-5a1d-4d0b-a786-5f04a784aac8"
      },
      "cell_type": "code",
      "source": [
        "t1 = (1, 2, 3)\n",
        "t3 = (1, 2, 3) # 튜플은 새로 만든다\n",
        "print(t1 is t3)\n",
        "\n",
        "s1 = \"ABC\"\n",
        "s2 = \"ABC\"\n",
        "print(s1 is s2) # 동일한 문자열을 참조"
      ],
      "execution_count": 39,
      "outputs": [
        {
          "output_type": "stream",
          "text": [
            "False\n",
            "True\n"
          ],
          "name": "stdout"
        }
      ]
    }
  ]
}