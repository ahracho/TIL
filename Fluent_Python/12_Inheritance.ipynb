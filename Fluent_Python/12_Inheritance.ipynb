{
  "nbformat": 4,
  "nbformat_minor": 0,
  "metadata": {
    "colab": {
      "name": "12_Inheritance.ipynb",
      "version": "0.3.2",
      "provenance": [],
      "collapsed_sections": []
    },
    "kernelspec": {
      "name": "python3",
      "display_name": "Python 3"
    }
  },
  "cells": [
    {
      "metadata": {
        "id": "TXm3qhRXGY32",
        "colab_type": "text"
      },
      "cell_type": "markdown",
      "source": [
        "## 12. 내장 자료형 상속과 다중 상속\n",
        "- 내장 자료형 상속의 위험성\n",
        "- 다중 상속과 메서드 결정 순서\n",
        "\n",
        "### 12.1. 내장 자료형의 상속은 까다롭다\n",
        "\n",
        "> 공식적으로 CPython은 내장 자료형의 서브클래스에서 오버라이드한 메서드가 언제 호출되는지, 혹은 호출되지 않는지에 대해 명확한 규칙을 정의하지 않는다. 일반적으로 서브클래스에서 오버라이드한 메서드는 같은 객체의 다른 내장 메서드에 의해 결코 호출되지 않는다. 예를 들어 dict의 서브 클래스에서 오버라이드한 \\_\\_getitem()\\_\\_ 메서드는 내장된 get()과 같은 메서드에 의해 호출되지 않는다.\n",
        "\n",
        "\n",
        "이 절에서 설명한 문제는 C 언어로 구현된 내장 자료형의 메서드에 위임할 때만 발생하므로, 이러한 내장 자료형을 상속한 사용자 정의 클래스에만 영향을 미친다. UserDict나 MutableMapping 등 파이썬으로 구현된 클래스를 상속할 때는 이런 문제가 발생하지 않는다. "
      ]
    },
    {
      "metadata": {
        "id": "GnwbS_V4GV4C",
        "colab_type": "code",
        "colab": {
          "base_uri": "https://localhost:8080/",
          "height": 72
        },
        "outputId": "a65edc70-aea2-4ac3-ce0d-a2b61a9c73f5"
      },
      "cell_type": "code",
      "source": [
        "class DoppelDict(dict):\n",
        "  def __setitem__(self, key, value):\n",
        "    super().__setitem__(key, [value]*2)\n",
        "\n",
        "dd = DoppelDict(one=1) # __setitem__으로 생성 안됨 init에서 무시?\n",
        "print(dd)\n",
        "dd['two'] = 2\n",
        "print(dd)\n",
        "dd.update(three=3) # update 메서드에서 무시\n",
        "print(dd)"
      ],
      "execution_count": 2,
      "outputs": [
        {
          "output_type": "stream",
          "text": [
            "{'one': 1}\n",
            "{'one': 1, 'two': [2, 2]}\n",
            "{'one': 1, 'two': [2, 2], 'three': 3}\n"
          ],
          "name": "stdout"
        }
      ]
    },
    {
      "metadata": {
        "id": "EKOrU815ynWD",
        "colab_type": "text"
      },
      "cell_type": "markdown",
      "source": [
        "내장 자료형은 '슈퍼클래스에서 구현된 메서드 안에서 호출하더라도 메서드 검색은 대상 객체의 클래스에서 시작해야 한다'는 OOP의 기본 규칙을 어기고 있다."
      ]
    },
    {
      "metadata": {
        "id": "2T0r1krkNPzT",
        "colab_type": "code",
        "colab": {
          "base_uri": "https://localhost:8080/",
          "height": 72
        },
        "outputId": "e4634d73-2a80-42eb-f27c-d06cd99698ec"
      },
      "cell_type": "code",
      "source": [
        "class AnswerDict(dict):\n",
        "  def __getitem__(self, key):\n",
        "    return 42\n",
        "  \n",
        "ad = AnswerDict(a='foo')\n",
        "print(ad['a']) # __getitem__ 에서 키와 무관하게 42 return\n",
        "\n",
        "d = {}\n",
        "d.update(ad) # d는 기본 딕셔너리 - __getitem__ 무시?\n",
        "print(d['a'])\n",
        "\n",
        "print(d) # update 메서드는 오버라이드된 getitem 메서드 무시\n",
        "\n",
        "# dict나 list, str 등의 내장 자료형은 사용자가 정의한 오버라이드된 메서드를 무시하므로 이 클래스들을 직접 상속하면 에러가 발생하기 쉽다."
      ],
      "execution_count": 3,
      "outputs": [
        {
          "output_type": "stream",
          "text": [
            "42\n",
            "foo\n",
            "{'a': 'foo'}\n"
          ],
          "name": "stdout"
        }
      ]
    },
    {
      "metadata": {
        "id": "VJDxZ2j2IlWg",
        "colab_type": "text"
      },
      "cell_type": "markdown",
      "source": [
        "dict 대신 collections.UserDict을 상속하면 문제 해결!"
      ]
    },
    {
      "metadata": {
        "id": "m4SJ8Rx6IU-O",
        "colab_type": "code",
        "colab": {
          "base_uri": "https://localhost:8080/",
          "height": 127
        },
        "outputId": "9607f164-d2c5-45f5-d26a-cf309c31922c"
      },
      "cell_type": "code",
      "source": [
        "import collections\n",
        "\n",
        "class DoppelDict2(collections.UserDict):\n",
        "  def __setitem__(self, key, value):\n",
        "    super().__setitem__(key, [value]*2)\n",
        "    \n",
        "dd = DoppelDict2(one=1)\n",
        "print(dd)\n",
        "dd['two'] = 2\n",
        "print(dd)\n",
        "dd.update(three=3) \n",
        "print(dd)\n",
        "\n",
        "\n",
        "\n",
        "class AnswerDict2(collections.UserDict):\n",
        "  def __getitem__(self, key):\n",
        "    return 42\n",
        "\n",
        "  \n",
        "ad = AnswerDict(a='foo')\n",
        "print(ad['a']) \n",
        "\n",
        "d = {}\n",
        "d.update(ad) \n",
        "print(d['a'])\n",
        "\n",
        "print(d) "
      ],
      "execution_count": 4,
      "outputs": [
        {
          "output_type": "stream",
          "text": [
            "{'one': [1, 1]}\n",
            "{'one': [1, 1], 'two': [2, 2]}\n",
            "{'one': [1, 1], 'two': [2, 2], 'three': [3, 3]}\n",
            "42\n",
            "foo\n",
            "{'a': 'foo'}\n"
          ],
          "name": "stdout"
        }
      ]
    },
    {
      "metadata": {
        "id": "KLW7sOfND4t1",
        "colab_type": "text"
      },
      "cell_type": "markdown",
      "source": [
        "### 12.2. 다중 상속과 메서드 결정 순서\n",
        "\n",
        "다중 상속을 지원하는 언어에서는 별개의 상위클래스가 동일한 이름으로 메서드를 구현할 때 발생하는 이름 충돌 문제를 해결해야 한다. --> **다이아몬드 문제**"
      ]
    },
    {
      "metadata": {
        "id": "cOSvQAOIFeLs",
        "colab_type": "code",
        "colab": {
          "base_uri": "https://localhost:8080/",
          "height": 90
        },
        "outputId": "0dcdbf5a-d302-4fe2-e207-85417a45d7d7"
      },
      "cell_type": "code",
      "source": [
        "class A:\n",
        "  def ping(self):\n",
        "    print('ping : ', self)\n",
        "    \n",
        "    \n",
        "class B(A):\n",
        "  def pong(self):\n",
        "    print('pong : ', self)\n",
        "    \n",
        "\n",
        "class C(A):\n",
        "  def pong(self):\n",
        "    print('PONG : ', self)\n",
        "    \n",
        "    \n",
        "class D(B, C):\n",
        "  def ping(self):\n",
        "    super().ping()\n",
        "    print('post-ping : ', self)\n",
        "    \n",
        "  def pingpong(self):\n",
        "    self.ping()\n",
        "    super().ping()\n",
        "    self.pong()\n",
        "    super().pong()\n",
        "    C.pong(self)\n",
        "    \n",
        "    \n",
        "    \n",
        "d = D()\n",
        "print(d.pong()) # B 메서드 출력\n",
        "print(C.pong(d)) "
      ],
      "execution_count": 8,
      "outputs": [
        {
          "output_type": "stream",
          "text": [
            "pong :  <__main__.D object at 0x7f0c5d7d6f28>\n",
            "None\n",
            "PONG :  <class '__main__.D'>\n",
            "None\n"
          ],
          "name": "stdout"
        }
      ]
    },
    {
      "metadata": {
        "id": "dEEyIDmYAS42",
        "colab_type": "text"
      },
      "cell_type": "markdown",
      "source": [
        "상속 그래프를 조회할 때 특정한 순서를 따르는데, 이 순서를  메서드 결정 순서(MRO)라고 한다. \\_\\_mro\\_\\_ 속성은 현재 클래스부터 object 클래스까지 슈퍼클래스들의 MRO를 튜플로 저장한다."
      ]
    },
    {
      "metadata": {
        "id": "Tx18r5XgOewv",
        "colab_type": "code",
        "colab": {
          "base_uri": "https://localhost:8080/",
          "height": 35
        },
        "outputId": "6838d795-4711-421e-bbca-ad4e9a0e8e58"
      },
      "cell_type": "code",
      "source": [
        "D.__mro__"
      ],
      "execution_count": 9,
      "outputs": [
        {
          "output_type": "execute_result",
          "data": {
            "text/plain": [
              "(__main__.D, __main__.B, __main__.C, __main__.A, object)"
            ]
          },
          "metadata": {
            "tags": []
          },
          "execution_count": 9
        }
      ]
    },
    {
      "metadata": {
        "id": "PdX9UgrCH0qK",
        "colab_type": "text"
      },
      "cell_type": "markdown",
      "source": [
        "슈퍼클래스 메서드에 위임할 때는 내장 함수인 super()를 사용하는 것이 좋다. 하지만 MRO를 우회해서 슈퍼클래스 메서드를 직접 호출할 수 있으며, 때로는 이 방법이 더 편리하다.\n",
        "\n",
        "프레임워크 혹은 직접 제어할 수 없는 클래스 계층 구조에 들어 있는 메서드를 호출할 때는 super()를 사용하는 것이 안전하며, 향후 프레임워크가 변경되어도 문제없이 작동한다. "
      ]
    },
    {
      "metadata": {
        "id": "x-LHD6vrIQRa",
        "colab_type": "code",
        "colab": {
          "base_uri": "https://localhost:8080/",
          "height": 54
        },
        "outputId": "76f38d16-d3ea-4f84-b8d9-6a9236452e32"
      },
      "cell_type": "code",
      "source": [
        "d = D()\n",
        "d.ping()"
      ],
      "execution_count": 10,
      "outputs": [
        {
          "output_type": "stream",
          "text": [
            "ping :  <__main__.D object at 0x7f0c5d7d6940>\n",
            "post-ping :  <__main__.D object at 0x7f0c5d7d6940>\n"
          ],
          "name": "stdout"
        }
      ]
    },
    {
      "metadata": {
        "id": "gkHN4EbANPfZ",
        "colab_type": "code",
        "colab": {
          "base_uri": "https://localhost:8080/",
          "height": 127
        },
        "outputId": "3c8c31cb-9df7-4e1e-8dde-5c002b07d961"
      },
      "cell_type": "code",
      "source": [
        "d.pingpong()"
      ],
      "execution_count": 11,
      "outputs": [
        {
          "output_type": "stream",
          "text": [
            "ping :  <__main__.D object at 0x7f0c5d7d6940>\n",
            "post-ping :  <__main__.D object at 0x7f0c5d7d6940>\n",
            "ping :  <__main__.D object at 0x7f0c5d7d6940>\n",
            "pong :  <__main__.D object at 0x7f0c5d7d6940>\n",
            "pong :  <__main__.D object at 0x7f0c5d7d6940>\n",
            "PONG :  <__main__.D object at 0x7f0c5d7d6940>\n"
          ],
          "name": "stdout"
        }
      ]
    },
    {
      "metadata": {
        "id": "7AI1SkdqOBRa",
        "colab_type": "text"
      },
      "cell_type": "markdown",
      "source": [
        "MRO는 상속 그래프를 고려할 뿐만 아니라 서브클래스 정의에 나열된 슈퍼클래스들의 순서도 고려한다."
      ]
    },
    {
      "metadata": {
        "id": "GiuGxUL4J54I",
        "colab_type": "code",
        "colab": {
          "base_uri": "https://localhost:8080/",
          "height": 109
        },
        "outputId": "36e525cb-c85d-4095-bf6e-f13d4666e117"
      },
      "cell_type": "code",
      "source": [
        "print(bool.__mro__)\n",
        "\n",
        "def print_mro(cls):\n",
        "  print(', '.join(c.__name__ for c in cls.__mro__))\n",
        "  \n",
        "print_mro(bool)\n",
        "\n",
        "# from frenchdeck2 import FrenchDeck2\n",
        "# print_mro(FranchDeck2)\n",
        "import numbers\n",
        "print_mro(numbers.Integral)\n",
        "import io\n",
        "print_mro(io.BytesIO)\n",
        "print_mro(io.TextIOWrapper)"
      ],
      "execution_count": 13,
      "outputs": [
        {
          "output_type": "stream",
          "text": [
            "(<class 'bool'>, <class 'int'>, <class 'object'>)\n",
            "bool, int, object\n",
            "Integral, Rational, Real, Complex, Number, object\n",
            "BytesIO, _BufferedIOBase, _IOBase, object\n",
            "TextIOWrapper, _TextIOBase, _IOBase, object\n"
          ],
          "name": "stdout"
        }
      ]
    },
    {
      "metadata": {
        "id": "LveWqP1CEjjX",
        "colab_type": "text"
      },
      "cell_type": "markdown",
      "source": [
        "### 12.3. 실세계에서의 다중 상속\n",
        "\n",
        "### 12.4. 다중 상속 다루기\n",
        "\n",
        "1. 인터페이스 상속과 구현 상속을 구분한다.\n",
        "상속하는 이유를 명확히 하는 것이 좋다.\n",
        "\n",
        "  - 인터페이스 상속은 is-a 관계를 의미하는 서브타입을 생성한다.\n",
        "  - 구현 상속은 재사용을 통해 코드 중복을 피한다.\n",
        "\n",
        "2. ABC를 이용해서 인터페이스를 명확히 한다.\n",
        "3. 코드를 재사용하기 위해 믹스인을 사용한다.\n",
        "  - 'is-a' 관계를 나타내지 않고 서로 관련 없는 여러 서브클래스에서 코드를 재사용하기 위해 설계된 클래스는 명시적으로 믹스인 클래스로 만들어야 한다. 믹스인 클래스는 새로운 자료형을 정의하지 않고 단지 재사용할 메서드들을 묶어놓을 뿐이다. 믹스인 클래스로 객체를 생성해서는 안되며, 믹스인 클래스를 상속하는 구상 클래스는 다른 클래스도 상속해야 한다.\n",
        "  \n",
        "4. 이름을 통해 믹스인임을 명확히 한다.\n",
        "  파이썬에서는 믹스인 클래스를 명시하는 공식적인 방법이 없으므로, 클래스명 뒤에 Mixin을 붙일 것을 권장한다.\n",
        "  \n",
        "5. ABC가 믹스인이 될 수는 있지만, 믹스인이라고 해서 ABC인 것은 아니다.\n",
        "  - ABC는 자료형을 정의하지만, 믹스인은 자료형을 정의하지 않는다.\n",
        "  - ABC는 다른 클래스의 유일한 기저 클래스가 될 수 있지만, 믹스인은 그렇지 않다.\n",
        "  - ABC에서 구현된 구상 메서드는 해당 ABC나 슈퍼클래스의 메서드만 사용할 수 있다. ABC에 정의된 구상메서드는 일종의 편의를 위한 것일 뿐이다. \n",
        "\n",
        "6. 두 개 이상의 구상 클래스에서 상속받지 않는다.\n",
        "  구상 클래스는 0개 또는 많아야 하나의 구상 슈퍼클래스를 가져야 한다. \n",
        "  \n",
        "7. 사용자에게 집합 클래스를 제공한다. \n",
        "  ABC 또는 믹스인을 조합해서 호출 코드에 유용한 기능을 제공할 수 있을 때는, 이들을 적절히 통합하는 클래스를 제공하는 것이 좋다. \n",
        "  \n",
        "8. 클래스 상속보다 객체 구성을 사용하라\n"
      ]
    }
  ]
}