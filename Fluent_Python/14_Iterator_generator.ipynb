{
  "nbformat": 4,
  "nbformat_minor": 0,
  "metadata": {
    "colab": {
      "name": "14_Iterator_generator.ipynb",
      "version": "0.3.2",
      "provenance": [],
      "collapsed_sections": [],
      "include_colab_link": true
    },
    "kernelspec": {
      "name": "python3",
      "display_name": "Python 3"
    }
  },
  "cells": [
    {
      "cell_type": "markdown",
      "metadata": {
        "id": "view-in-github",
        "colab_type": "text"
      },
      "source": [
        "[View in Colaboratory](https://colab.research.google.com/github/ahracho/TIL/blob/master/Fluent_Python/14_Iterator_generator.ipynb)"
      ]
    },
    {
      "metadata": {
        "id": "TXm3qhRXGY32",
        "colab_type": "text"
      },
      "cell_type": "markdown",
      "source": [
        "## 14. 반복형, 반복자, 제너레이터\n",
        "\n",
        "데이터를 처리할 때 반복은 기본이다. 메모리에 다 들어가지 않는 데이터셋을 검색할 때는 항목들을 `한번에 하나씩, 필요할 때` 가져와야 한다. \n",
        "\n",
        "파이썬 3은 제너레이터를 여러 곳에서 사용한다. 예전에는 리스트 전체를 반환했던 내장 함수 range()도 지금은 제너레이터와 비슷한 객체를 반환하기 때문에 range를 사용해서 리스트를 생성해야 한다면, list(range()) 처럼 명시적으로 생성해야 한다.\n",
        "\n",
        "파이썬의 컬렉션은 모두 반복형이며, 내부적으로 반복자를 사용한다. \n",
        "\n",
        "- for loop\n",
        "- 컬렉션형 생성과 확장\n",
        "- 텍스트 파일을 한 줄씩 반복\n",
        "- 지능형 리스트/딕셔너리/집합\n",
        "- 튜플 언패킹\n",
        "- 함수 호출 시 \\*를 이용해서 실제 매개변수를 언패킹\n",
        "\n",
        "이번 장에서 다루게 될 내용:\n",
        "- 반복형 객체를 처리하기 위해 내부적으로 iter() 내장 함수를 사용하는 방법\n",
        "- 파이썬에서 고전적인 반복자 패턴을 구현하는 방법\n",
        "- 제너레이터가 작동하는 방식\n",
        "- 고전적인 반복자를 제너레이터 함수나 제너레이터 표현식으로 바꾸는 방법\n",
        "- 표준 라이브러리에서의 범용 제너레이터 함수의 활용\n",
        "- yield from 사용법\n",
        "\n",
        "\n",
        "### 14.1. Sentence 버전 #1 : 단어 시퀀스\n"
      ]
    },
    {
      "metadata": {
        "id": "GnwbS_V4GV4C",
        "colab_type": "code",
        "colab": {}
      },
      "cell_type": "code",
      "source": [
        "import re\n",
        "import reprlib\n",
        "\n",
        "RE_WORD = re.compile(\"\\w+\")\n",
        "\n",
        "class Sentence:\n",
        "  def __init__(self, text):\n",
        "    self.text = text\n",
        "    self.words = RE_WORD.findall(text)\n",
        "    \n",
        "  def __getitem__(self, index):\n",
        "    return self.words[index]\n",
        "  \n",
        "  \n",
        "  def __len__(self):\n",
        "    return len(self.words)\n",
        "  \n",
        "  \n",
        "  def __repr__(self):\n",
        "    return \"Sentence(%s)\" % reprlib.repr(self.text)"
      ],
      "execution_count": 0,
      "outputs": []
    },
    {
      "metadata": {
        "id": "QdERjyc9CKjA",
        "colab_type": "code",
        "colab": {
          "base_uri": "https://localhost:8080/",
          "height": 219
        },
        "outputId": "5740893a-95f7-4112-cd2b-b6376bf1440c"
      },
      "cell_type": "code",
      "source": [
        "s = Sentence('\"The time has come,\" the Walrus said,')\n",
        "print(s)\n",
        "\n",
        "for word in s:\n",
        "  print(word)\n",
        "  \n",
        "  \n",
        "  \n",
        "print(s[0])\n",
        "print(s[5])\n",
        "print(s[-1]) # 시퀀시가 가능한 이유"
      ],
      "execution_count": 3,
      "outputs": [
        {
          "output_type": "stream",
          "text": [
            "Sentence('\"The time ha... Walrus said,')\n",
            "The\n",
            "time\n",
            "has\n",
            "come\n",
            "the\n",
            "Walrus\n",
            "said\n",
            "The\n",
            "Walrus\n",
            "said\n"
          ],
          "name": "stdout"
        }
      ]
    },
    {
      "metadata": {
        "id": "EKOrU815ynWD",
        "colab_type": "text"
      },
      "cell_type": "markdown",
      "source": [
        "#### 14.1.1. Sequence가 반복 가능한 이유 : iter()\n",
        "\n",
        "파이썬 인터프리터가 x 객체를 반복해야 할 때는 언제나 iter(x)를 자동으로 호출한다. \n",
        "\n",
        "1. 객체가 __iter__() 메서드를 구현하는지 확인하고, 이를 호출해서 반복자를 가져온다.\n",
        "2. __iter__() 메서드가 구현되어 있지 않지만 __getitem__()이 구현되어 있다면, 인덱스 0에서 시작해서 항목을 순서대로 가져오는 반복자를 생성한다.\n",
        "3. 모두 실패하면 TypeError 메시지를 출력하며 에러를 발생시킨다.  \n",
        "\n",
        "\n",
        "모든 파이썬 시퀀스는 __getitem__()이 구현되어 있기 때문에 반복할 수 있다. 표준 시퀀스는 __iter__() 메서드도 구현하고 있지만, 하위 호환성을 위해 __getitem__()도 같이 구현하는 것이 좋다.  -> 덕타이핑의 극단적인 예\n",
        "\n",
        "구스 타이핑 기법을 사용하면 __iter__() 특별 메서드를 구현하는 객체만 반복형이라고 간주한다. "
      ]
    },
    {
      "metadata": {
        "id": "2T0r1krkNPzT",
        "colab_type": "code",
        "colab": {
          "base_uri": "https://localhost:8080/",
          "height": 72
        },
        "outputId": "fbc650d7-0f11-40b9-c7a2-69fe664be7d8"
      },
      "cell_type": "code",
      "source": [
        "class Foo:\n",
        "  def __iter__(self):\n",
        "    pass\n",
        "  \n",
        "from collections import abc\n",
        "print(issubclass(Foo, abc.Iterable))\n",
        "f = Foo()\n",
        "\n",
        "print(isinstance(f, abc.Iterable))\n",
        "\n",
        "print(issubclass(Sentence, abc.Iterable)) # False"
      ],
      "execution_count": 4,
      "outputs": [
        {
          "output_type": "stream",
          "text": [
            "True\n",
            "True\n",
            "False\n"
          ],
          "name": "stdout"
        }
      ]
    },
    {
      "metadata": {
        "id": "VJDxZ2j2IlWg",
        "colab_type": "text"
      },
      "cell_type": "markdown",
      "source": [
        "## 14.2. 반복형과 반복자\n",
        "  \n",
        "**반복형**\n",
        "> iter() 내장 함수가 반복자를 가져올 수 있는 모든 객체와 반복자를 반환하는 __iter__() 메서드를 구현하는 객체는 반복형이다. 0에서 시작하는 인덱스를 받는 __getitem__() 메서드를 구현하는 객체인 시퀀스도 마찬가지이다. \n",
        "\n",
        "반복형 객체에서 반복자를 가져온다. "
      ]
    },
    {
      "metadata": {
        "id": "m4SJ8Rx6IU-O",
        "colab_type": "code",
        "colab": {
          "base_uri": "https://localhost:8080/",
          "height": 127
        },
        "outputId": "da01ce91-970a-4e75-f0a6-dad2061cf446"
      },
      "cell_type": "code",
      "source": [
        "s = 'ABC'\n",
        "for char in s:\n",
        "  print(char)\n",
        "  \n",
        "  \n",
        "it = iter(s)\n",
        "while True:\n",
        "  try:\n",
        "    print(next(it))\n",
        "  except StopIteration: # 반복자가 모두 소진되었음을 알려준다\n",
        "    del it\n",
        "    break"
      ],
      "execution_count": 5,
      "outputs": [
        {
          "output_type": "stream",
          "text": [
            "A\n",
            "B\n",
            "C\n",
            "A\n",
            "B\n",
            "C\n"
          ],
          "name": "stdout"
        }
      ]
    },
    {
      "metadata": {
        "id": "KLW7sOfND4t1",
        "colab_type": "text"
      },
      "cell_type": "markdown",
      "source": [
        "- __next__() : 다음에 사용할 항목을 반환하고, 더이상 항목이 남아 있지 않으면 StopIteration을 발생시킨다. \n",
        "- __iter__() : self를 반환하고, for 루프 등 반복형이 필요한 곳에 반복자를 사용할 수 있게 해준다. \n",
        "\n",
        "\n",
        "Iterator ABC 추상 메서드가 it.__next__()이며 이를 직접 호출하면 안되고, next(it) 형태로 호출해야 한다."
      ]
    },
    {
      "metadata": {
        "id": "cOSvQAOIFeLs",
        "colab_type": "code",
        "colab": {
          "base_uri": "https://localhost:8080/",
          "height": 127
        },
        "outputId": "c3d7160c-0b7a-4a7b-d0a5-51cb1795e012"
      },
      "cell_type": "code",
      "source": [
        "s3 = Sentence(\"Pig and Pepper\")\n",
        "it = iter(s3)\n",
        "print(it)\n",
        "\n",
        "print(next(it))\n",
        "print(next(it))\n",
        "print(next(it))\n",
        "# print(next(it)) # error\n",
        "\n",
        "print(list(it))\n",
        "print(list(iter(s3))) # 반복자는 재설정 할 수 없고 다시 반복하려면 다시 시작해야한다."
      ],
      "execution_count": 6,
      "outputs": [
        {
          "output_type": "stream",
          "text": [
            "<iterator object at 0x7f224b11a748>\n",
            "Pig\n",
            "and\n",
            "Pepper\n",
            "[]\n",
            "['Pig', 'and', 'Pepper']\n"
          ],
          "name": "stdout"
        }
      ]
    },
    {
      "metadata": {
        "id": "dEEyIDmYAS42",
        "colab_type": "text"
      },
      "cell_type": "markdown",
      "source": [
        "**반복자** \n",
        "> 다음 항목을 반환하거나, 다음 항목이 없을 때 StopIteration 예외를 발생시키는, 인수를 받지 않는 __next__() 메서드를 구현하는 객체. 파이썬 반복자는 __iter__() 메서드도 구현하므로 반복형이기도 하다.\n",
        "\n",
        "\n",
        "### 14.3. Sentence 버전 #2 : 고전적인 반복자\n",
        "\n"
      ]
    },
    {
      "metadata": {
        "id": "Tx18r5XgOewv",
        "colab_type": "code",
        "colab": {}
      },
      "cell_type": "code",
      "source": [
        "import re\n",
        "import reprlib\n",
        "\n",
        "class Sentence:\n",
        "  def __init__(self,  text):\n",
        "    self.text = text\n",
        "    self.words = RE_WORD.findall(text)\n",
        "    \n",
        "  def __repr__(self):\n",
        "    return 'Sentence(%s)' % reprlib.repr(self.text)\n",
        "  \n",
        "  def __iter__(self):\n",
        "    return SentenceIterator(self.words)\n",
        "  \n",
        "  \n",
        "class SentenceIterator:\n",
        "  def __init__(self, words):\n",
        "    self.words = words\n",
        "    self.index = 0\n",
        "    \n",
        "  def __next__(self):\n",
        "    try:\n",
        "      word = self.words[self.index]\n",
        "    except IndexError:\n",
        "      raise StopIteration()\n",
        "      \n",
        "    self.index += 1\n",
        "    return word\n",
        "  \n",
        "  def __iter__(self): # 사실 없어도 돼 하지만 반복자는 next / iter 둘다 있어야 하니까 정직한 방식 -> issubclass 통과\n",
        "    return self"
      ],
      "execution_count": 0,
      "outputs": []
    },
    {
      "metadata": {
        "id": "PdX9UgrCH0qK",
        "colab_type": "text"
      },
      "cell_type": "markdown",
      "source": [
        "### 14.3.1. Sentence를 반복자로 만들기 : 좋지 않은 생각\n",
        "\n",
        "반복형과 반복자를 만드는 데 있어서 흔히 발생하는 오류는 둘을 혼동하기 때문에 발생한다. 반복형은 호출될 때마다 반복자를 새로 생성하는 __iter__()를 가지고 있다. 반복자는 개별 항목을 반환하는 __next__()와 self를 반환하는 __iter__()를 가지고 있다.  \n",
        "\n",
        "반복자는 반복형이지만, 반복형은 반복자가 아니다.\n",
        "\n",
        "Sentence 클래스 안에 __iter__()와 __next__()를 구현해서 Sentence 객체를 반복형이자 반복자로 만들고 싶을 수 있지만, 이는 전형적인 안티 패턴이다.  \n",
        "\n",
        "\n",
        "**반복자 패턴은 다음과 같은 용도로 사용하라.**\n",
        "- 집합 객체의 내부 표현을 노출시키지 않고 내용에 접근하는 경우\n",
        "- 집합 객체의 다중 반복을 지원하는 경우\n",
        "- 다양한 집합 구조체를 반복하기 위한 통일된 인터페이스를 제공하는 경우\n",
        "\n",
        "다중 반복을 지원하기 위해서는 동일한 반복형 객체로부터 여러 독립적인 반복자를 가질 수 있어야 한다. 그래서 이 패턴을 구현하기 위해서 SentenceIterator 클래스가 필요하다."
      ]
    },
    {
      "metadata": {
        "id": "aIQOTlz6PLVy",
        "colab_type": "text"
      },
      "cell_type": "markdown",
      "source": [
        "### 14.4. Sentence 버전 #3 :제너레이터 함수\n",
        "\n",
        "동일한 기능을 파이썬스럽게 구현하려면 SequenceIterator 클래스 대신 제너레이터 함수를 사용한다.  "
      ]
    },
    {
      "metadata": {
        "id": "x-LHD6vrIQRa",
        "colab_type": "code",
        "colab": {}
      },
      "cell_type": "code",
      "source": [
        "import re\n",
        "import reprlib\n",
        "\n",
        "class Sentence:\n",
        "  def __init__(self, text):\n",
        "    self.text = text\n",
        "    self.words = RE_WORD.findall(text)\n",
        "    \n",
        "    \n",
        "  def __repr__(self):\n",
        "    return \"Sentence(%s)\" % reprlib.repr(self.text)\n",
        "  \n",
        "  def __iter__(self):\n",
        "    for word in words:\n",
        "      yield word\n",
        "    return\n",
        "  "
      ],
      "execution_count": 0,
      "outputs": []
    },
    {
      "metadata": {
        "id": "7AI1SkdqOBRa",
        "colab_type": "text"
      },
      "cell_type": "markdown",
      "source": [
        "#### 14.4.1. 제너레이터 함수의 작동 방식\n",
        "\n",
        "본체 안에 yield 키워드를 가진 함수는 모두 제너레이터 함수이다.  제너레이터 함수는 호출되면 제너레이터 객체를 반환한다. 제너레이터 함수는 제너레이터 팩토리라고 할 수 있다. "
      ]
    },
    {
      "metadata": {
        "id": "GiuGxUL4J54I",
        "colab_type": "code",
        "colab": {
          "base_uri": "https://localhost:8080/",
          "height": 358
        },
        "outputId": "06b560c7-c769-4d60-f93e-133c81e4c5ad"
      },
      "cell_type": "code",
      "source": [
        "def gen_123():\n",
        "  yield 1\n",
        "  yield 2\n",
        "  yield 3\n",
        "  \n",
        "  \n",
        "print(gen_123) # <function gen_123 at 0x7f224b11e0d0>\n",
        "print(gen_123()) # 리턴값이 제너레이터 <generator object gen_123 at 0x7f224b100a40>\n",
        "\n",
        "for i in gen_123():\n",
        "  print(i)\n",
        "  \n",
        "  \n",
        "g = gen_123()\n",
        "print(next(g))\n",
        "print(next(g))\n",
        "print(next(g))\n",
        "print(next(g)) # StopIteration"
      ],
      "execution_count": 9,
      "outputs": [
        {
          "output_type": "stream",
          "text": [
            "<function gen_123 at 0x7f224b11e0d0>\n",
            "<generator object gen_123 at 0x7f224b100a40>\n",
            "1\n",
            "2\n",
            "3\n",
            "1\n",
            "2\n",
            "3\n"
          ],
          "name": "stdout"
        },
        {
          "output_type": "error",
          "ename": "StopIteration",
          "evalue": "ignored",
          "traceback": [
            "\u001b[0;31m---------------------------------------------------------------------------\u001b[0m",
            "\u001b[0;31mStopIteration\u001b[0m                             Traceback (most recent call last)",
            "\u001b[0;32m<ipython-input-9-64e67355a089>\u001b[0m in \u001b[0;36m<module>\u001b[0;34m()\u001b[0m\n\u001b[1;32m     16\u001b[0m \u001b[0mprint\u001b[0m\u001b[0;34m(\u001b[0m\u001b[0mnext\u001b[0m\u001b[0;34m(\u001b[0m\u001b[0mg\u001b[0m\u001b[0;34m)\u001b[0m\u001b[0;34m)\u001b[0m\u001b[0;34m\u001b[0m\u001b[0m\n\u001b[1;32m     17\u001b[0m \u001b[0mprint\u001b[0m\u001b[0;34m(\u001b[0m\u001b[0mnext\u001b[0m\u001b[0;34m(\u001b[0m\u001b[0mg\u001b[0m\u001b[0;34m)\u001b[0m\u001b[0;34m)\u001b[0m\u001b[0;34m\u001b[0m\u001b[0m\n\u001b[0;32m---> 18\u001b[0;31m \u001b[0mprint\u001b[0m\u001b[0;34m(\u001b[0m\u001b[0mnext\u001b[0m\u001b[0;34m(\u001b[0m\u001b[0mg\u001b[0m\u001b[0;34m)\u001b[0m\u001b[0;34m)\u001b[0m\u001b[0;34m\u001b[0m\u001b[0m\n\u001b[0m",
            "\u001b[0;31mStopIteration\u001b[0m: "
          ]
        }
      ]
    },
    {
      "metadata": {
        "id": "LveWqP1CEjjX",
        "colab_type": "text"
      },
      "cell_type": "markdown",
      "source": [
        "제너레이터 함수는 함수 본체를 포함하는 제너레이터 객체를 생성한다. next()를 제너레이터 객체에 호출하면 함수 본체에 있는 다음 yield로 진행하며, next()는 함수 본체가 중단된 곳에서 생성된 값을 평가한다. 함수 본체가 반환될 때 이 함수를 포함하고 있는 제너레이터 객체는 iterator 프로토콜에 따라 StopIteration 예외를 발생시킨다. \n",
        "\n",
        "> **제너레이터는 값을 생성한다.** 함수는 값을 반환하지만, 제너레이터 함수를 호출하면 제너레이터 객체가 반환된다. 제너레이터 객체는 값을 생성한다. 제너레이터 객체는 일반적인 방식으로 값을 반환하지 않는다. 제너레이터 함수 안에 있는 return 문은 제너레이터 객체가 StopIteration 예외를 발생하게 만든다. "
      ]
    },
    {
      "metadata": {
        "id": "wSlIi-PFYekZ",
        "colab_type": "code",
        "colab": {
          "base_uri": "https://localhost:8080/",
          "height": 109
        },
        "outputId": "73efa1f5-52f9-499a-e0b5-62e125ba7242"
      },
      "cell_type": "code",
      "source": [
        "def gen_AB():\n",
        "  print(\"Start\")\n",
        "  yield 'A' # gen_AB()에서 처음 next()를 암묵적으로 호출하면 start 출력하고 'A' yield\n",
        "  print(\"Continue\")\n",
        "  yield 'B'\n",
        "  print(\"end.\") # 제너레이터 함수의 끝까지 실행되면 제너레이터 객체는 StopIteration 에러를 발생시키고 for 루프에서 에러를 잡아서 루프를 종료한다.\n",
        "  \n",
        "for c in gen_AB(): # for 루프는 g = iter(gen_AB())와 같은 문장을 실행해서 제너레이터 객체를 가져오고, 매번 next(g)를 호출한다.\n",
        "  print(\"-->\", c)\n",
        " "
      ],
      "execution_count": 11,
      "outputs": [
        {
          "output_type": "stream",
          "text": [
            "Start\n",
            "--> A\n",
            "Continue\n",
            "--> B\n",
            "end.\n"
          ],
          "name": "stdout"
        }
      ]
    },
    {
      "metadata": {
        "id": "cJ6hmTGdbZm2",
        "colab_type": "text"
      },
      "cell_type": "markdown",
      "source": [
        "### 14.5. Sentence 버전 #4 : 느긋한 구현\n",
        "\n",
        "지금까지 구현한 Sentence 클래스는 느긋한 버전이 아니었다. __init__에서 텍스트 안에 있는 단어들의 리스트를 모두 생성하여 words에 바인딩하기 때문이다.  그렇기 때문에 전체 텍스트를 처리해야 하며, 메모리를 많이 차지한다. \n",
        "\n",
        "re.finditer() 함수는 re.findall()의 느긋한 버전으로, 리스트 대신 필요에 따라 re.MatchObject 객체를 생성하는 제너레이터를 반환한다. "
      ]
    },
    {
      "metadata": {
        "id": "vbEBAFjFc16f",
        "colab_type": "code",
        "colab": {}
      },
      "cell_type": "code",
      "source": [
        "import re\n",
        "import reprlib\n",
        "\n",
        "class Sentence :\n",
        "  def __init__(self, text):\n",
        "    self.text = text\n",
        "    \n",
        "  def __repr__(self):\n",
        "    return \"Sentence(%s)\" % reprlib.repr(self.text)\n",
        "  \n",
        "  def __iter__(self):\n",
        "    for match in RE_WORD.finditer(self.text): # MatchObject 객체를 생성한다.\n",
        "      yield match.group()"
      ],
      "execution_count": 0,
      "outputs": []
    },
    {
      "metadata": {
        "id": "MFvmwq04dO6t",
        "colab_type": "text"
      },
      "cell_type": "markdown",
      "source": [
        "### 14.6. Sentence 버전 #5 : 제너레이터 표현식\n",
        "\n",
        "간단한 제너레이터 함수는 제너레이터 표현식으로 바꿀 수 있다. 제너레이터 표현식은 지능형 리스트의 느긋한 버전이라고 할 수 있다. \n",
        "\n",
        "제너레이터 표현식은 제너레이터를 생성하고, 제너레이터 표현식을 사용하면 Sentence 클래스의 코드를 더 짧게 만들 수 있다. "
      ]
    },
    {
      "metadata": {
        "id": "AyNp_NL3djJ6",
        "colab_type": "code",
        "colab": {
          "base_uri": "https://localhost:8080/",
          "height": 237
        },
        "outputId": "bbcce357-0c38-422a-d62e-f10f5356606a"
      },
      "cell_type": "code",
      "source": [
        "def gen_AB():\n",
        "  print(\"start\")\n",
        "  yield \"A\"\n",
        "  print(\"continue\")\n",
        "  yield \"B\"\n",
        "  print(\"end.\")\n",
        "  \n",
        "  \n",
        "res1 = [x*3 for x in gen_AB()] # res1은 리스트\n",
        "print(res1)\n",
        "for i in res1:\n",
        "  print(\"->\", i)\n",
        "  \n",
        "res2 = (x*3 for x in gen_AB()) # res2는 제너레이터 gen_AB()를 호출하지만, 제너레이터를 여기에서 소비하지 않는다.\n",
        "print(res2)\n",
        "\n",
        "for i in res2:\n",
        "  print(\"->\", i)"
      ],
      "execution_count": 15,
      "outputs": [
        {
          "output_type": "stream",
          "text": [
            "start\n",
            "continue\n",
            "end.\n",
            "['AAA', 'BBB']\n",
            "-> AAA\n",
            "-> BBB\n",
            "<generator object <genexpr> at 0x7f224b2a4d00>\n",
            "start\n",
            "-> AAA\n",
            "continue\n",
            "-> BBB\n",
            "end.\n"
          ],
          "name": "stdout"
        }
      ]
    },
    {
      "metadata": {
        "id": "ZA8IcC5NdzEO",
        "colab_type": "code",
        "colab": {}
      },
      "cell_type": "code",
      "source": [
        "import re\n",
        "import reprlib\n",
        "\n",
        "class Sentence:\n",
        "  def __init__(self, text):\n",
        "    self.text = text\n",
        "    \n",
        "  def __repr__(self):\n",
        "    return \"Sentence(%s)\" % reprlib.repr(self.text)\n",
        "  \n",
        "  def __iter__(self):\n",
        "    return (match.group() for match in RE_WORD.finditer(self.text)) # 제너레이터 표현식으로 부를 때마다 계산해서 생성"
      ],
      "execution_count": 0,
      "outputs": []
    },
    {
      "metadata": {
        "id": "ujJcACJTgyrf",
        "colab_type": "text"
      },
      "cell_type": "markdown",
      "source": [
        "### 14.7. 제너레이터 표현식 : 언제 사용하나?\n",
        "\n",
        "제너레이터 표현식은 함수로 정의하고 호출할 필요 없이 제너레이터를 생성하는 편리 구문이다. 반면 제너레이터 함수는 융통성이 훨씬 더 높아 여러 문장으로 구성된 복잡한 논리를 구현할 수 있고, 심지어 코루틴으로 사용할 수 있다. 제너레이터 표현식이 여러 줄에 걸쳐 있을 때는 가독성을 위해 제너레이터 함수를 사용한다. 게다가 제너레이터 함수는 이름을 가지고 있으므로 재사용할 수도 있다.  \n",
        "\n",
        "> 제너레이터 표현식을 함수나 생성자에 단일 인수로 전달할 때는 함수를 호출하는 괄호 안에서 제너레이터 표현식을 괄호로 에워쌀 필요가 없다. \n",
        "\n",
        "\n",
        "### 14.8. 또 다른 예제 : 등차수열 제너레이터\n",
        "\n"
      ]
    },
    {
      "metadata": {
        "id": "ySTyd2wfi4yk",
        "colab_type": "code",
        "colab": {}
      },
      "cell_type": "code",
      "source": [
        "class ArithmeticProgression:\n",
        "  def __init__(self, begin, step, end=None):\n",
        "    self.begin = begin\n",
        "    self.step = step\n",
        "    self.end = end\n",
        "    \n",
        "  def __iter__(self):\n",
        "    result = type(self.begin + self.step)(self.begin)\n",
        "    forever = self.end is None\n",
        "    index = 0\n",
        "    while forever or result < self.end:\n",
        "      yield result\n",
        "      index += 1\n",
        "      result = self.begin + self.step*index\n",
        "    "
      ],
      "execution_count": 0,
      "outputs": []
    },
    {
      "metadata": {
        "id": "WsUCQhgpjZBB",
        "colab_type": "code",
        "colab": {
          "base_uri": "https://localhost:8080/",
          "height": 109
        },
        "outputId": "e219935b-488b-4b55-8d4c-ee7c6b612626"
      },
      "cell_type": "code",
      "source": [
        "ap = ArithmeticProgression(0, 1, 3)\n",
        "print(list(ap))\n",
        "\n",
        "ap = ArithmeticProgression(1, .5, 3)\n",
        "print(list(ap))\n",
        "\n",
        "ap = ArithmeticProgression(1, 1/3, 3)\n",
        "print(list(ap))\n",
        "\n",
        "from fractions import Fraction\n",
        "\n",
        "ap = ArithmeticProgression(0, Fraction(1, 3), 1)\n",
        "print(list(ap))\n",
        "\n",
        "from decimal import Decimal\n",
        "ap = ArithmeticProgression(0, Decimal('.1'), 1)\n",
        "print(list(ap))"
      ],
      "execution_count": 18,
      "outputs": [
        {
          "output_type": "stream",
          "text": [
            "[0, 1, 2]\n",
            "[1.0, 1.5, 2.0, 2.5]\n",
            "[1.0, 1.3333333333333333, 1.6666666666666665, 2.0, 2.333333333333333, 2.6666666666666665]\n",
            "[Fraction(0, 1), Fraction(1, 3), Fraction(2, 3)]\n",
            "[Decimal('0'), Decimal('0.1'), Decimal('0.2'), Decimal('0.3'), Decimal('0.4'), Decimal('0.5'), Decimal('0.6'), Decimal('0.7'), Decimal('0.8'), Decimal('0.9')]\n"
          ],
          "name": "stdout"
        }
      ]
    },
    {
      "metadata": {
        "id": "4zr9zMeDkgtd",
        "colab_type": "code",
        "colab": {}
      },
      "cell_type": "code",
      "source": [
        "# 위의 클래스가 제너레이를 생성하기 위한 목적이었다면 제너레이터 함수로도 구현가능하다.\n",
        "# 하지만 표준 라이브러리에는 바로 사용할 수 있는 제너레이터가 아주 많기 때문에 굳이?\n",
        "def aritprog_gen(begin, step, end=None):\n",
        "  result = type(begin+step)(begin)\n",
        "  forever = end is None\n",
        "  index = 0\n",
        "  while forever or result < end:\n",
        "    yield result\n",
        "    index += 1\n",
        "    result = begin + step*index"
      ],
      "execution_count": 0,
      "outputs": []
    },
    {
      "metadata": {
        "id": "-LjqZ_tKkgGT",
        "colab_type": "text"
      },
      "cell_type": "markdown",
      "source": [
        "#### 14.8.1. itertools 를 사용한 등차수열\n",
        "\n",
        "itertools에는 다양하게 조합할 수 있는 제너레이터 함수 19개가 있다. "
      ]
    },
    {
      "metadata": {
        "id": "N4BDK36AlQR6",
        "colab_type": "code",
        "colab": {
          "base_uri": "https://localhost:8080/",
          "height": 54
        },
        "outputId": "c3839f36-2e08-4ea5-fb2d-637076309ed3"
      },
      "cell_type": "code",
      "source": [
        "import itertools\n",
        "\n",
        "gen = itertools.count(1, .5) # 무한 등차수열 생성 -> list(count()) 실행하면 메모리 폭파\n",
        "print(next(gen))\n",
        "print(next(gen))\n",
        "print(next(gen))\n"
      ],
      "execution_count": 19,
      "outputs": [
        {
          "output_type": "stream",
          "text": [
            "1\n",
            "1.5\n"
          ],
          "name": "stdout"
        }
      ]
    },
    {
      "metadata": {
        "id": "H3aK-V3mlip9",
        "colab_type": "code",
        "colab": {
          "base_uri": "https://localhost:8080/",
          "height": 35
        },
        "outputId": "bcaff05c-6533-45f8-cd82-6742fbb333bd"
      },
      "cell_type": "code",
      "source": [
        "gen = itertools.takewhile(lambda n : n < 3, itertools.count(1, .5)) # 조건이 False가 되면 중단\n",
        "print(list(gen))"
      ],
      "execution_count": 20,
      "outputs": [
        {
          "output_type": "stream",
          "text": [
            "[1, 1.5, 2.0, 2.5]\n"
          ],
          "name": "stdout"
        }
      ]
    },
    {
      "metadata": {
        "id": "Uq_5p84JkTRh",
        "colab_type": "text"
      },
      "cell_type": "markdown",
      "source": [
        "### 14.9. 표준 라이브러리의 제너레이터 함수\n",
        "\n",
        "**필터링 제너레이터 함수**"
      ]
    },
    {
      "metadata": {
        "id": "fFz8ITy3mPm0",
        "colab_type": "code",
        "colab": {
          "base_uri": "https://localhost:8080/",
          "height": 164
        },
        "outputId": "581857ab-104e-4ff3-d337-e6b1e550c0e7"
      },
      "cell_type": "code",
      "source": [
        "def vowel(c):\n",
        "  return c.lower() in 'aeiou'\n",
        "\n",
        "print(list(filter(vowel, \"Aardvark\")))\n",
        "\n",
        "import itertools\n",
        "\n",
        "print(list(itertools.filterfalse(vowel, \"Aardvark\")))\n",
        "print(list(itertools.dropwhile(vowel, \"Aardvark\")))\n",
        "print(list(itertools.takewhile(vowel, \"Aardvark\")))\n",
        "print(list(itertools.compress(\"Aardvark\", (1, 0, 1, 1, 0, 1))))\n",
        "print(list(itertools.islice(\"Aardvark\", 4)))\n",
        "print(list(itertools.islice(\"Aardvark\", 4, 7)))\n",
        "print(list(itertools.islice(\"Aardvark\", 1, 7, 2)))"
      ],
      "execution_count": 24,
      "outputs": [
        {
          "output_type": "stream",
          "text": [
            "['A', 'a', 'a']\n",
            "['r', 'd', 'v', 'r', 'k']\n",
            "['r', 'd', 'v', 'a', 'r', 'k']\n",
            "['A', 'a']\n",
            "['A', 'r', 'd', 'a']\n",
            "['A', 'a', 'r', 'd']\n",
            "['v', 'a', 'r']\n",
            "['a', 'd', 'a']\n"
          ],
          "name": "stdout"
        }
      ]
    },
    {
      "metadata": {
        "id": "73XhB8aCq-Zq",
        "colab_type": "text"
      },
      "cell_type": "markdown",
      "source": [
        "**매핑 제너레이터 함수**"
      ]
    },
    {
      "metadata": {
        "id": "TBC2EuZ2nLc_",
        "colab_type": "code",
        "colab": {
          "base_uri": "https://localhost:8080/",
          "height": 109
        },
        "outputId": "4ba3c6a2-ba68-4559-cf28-67c63773f476"
      },
      "cell_type": "code",
      "source": [
        "sample = [5, 4, 2, 8, 7, 6, 3, 0, 9, 1]\n",
        "import itertools\n",
        "\n",
        "print(list(itertools.accumulate(sample)))\n",
        "print(list(itertools.accumulate(sample, min)))\n",
        "print(list(itertools.accumulate(sample, max)))\n",
        "\n",
        "import operator\n",
        "print(list(itertools.accumulate(sample, operator.mul)))\n",
        "print(list(itertools.accumulate(range(1, 11), operator.mul)))"
      ],
      "execution_count": 26,
      "outputs": [
        {
          "output_type": "stream",
          "text": [
            "[5, 9, 11, 19, 26, 32, 35, 35, 44, 45]\n",
            "[5, 4, 2, 2, 2, 2, 2, 0, 0, 0]\n",
            "[5, 5, 5, 8, 8, 8, 8, 8, 9, 9]\n",
            "[5, 20, 40, 320, 2240, 13440, 40320, 0, 0, 0]\n",
            "[1, 2, 6, 24, 120, 720, 5040, 40320, 362880, 3628800]\n"
          ],
          "name": "stdout"
        }
      ]
    },
    {
      "metadata": {
        "id": "FY5TdT0RoGAq",
        "colab_type": "code",
        "colab": {
          "base_uri": "https://localhost:8080/",
          "height": 109
        },
        "outputId": "ac4a3066-1db5-4b72-84bc-991817bf94de"
      },
      "cell_type": "code",
      "source": [
        "print(list(enumerate(\"albatroz\", 1)))\n",
        "\n",
        "import operator\n",
        "print(list(map(operator.mul, range(11), range(11))))\n",
        "\n",
        "print(list(map(operator.mul, range(11), [2, 4, 8])))\n",
        "\n",
        "import itertools\n",
        "print(list(itertools.starmap(operator.mul, enumerate(\"albatroz\", 1))))\n",
        "\n",
        "print(list(itertools.starmap(lambda a, b : b/a, enumerate(itertools.accumulate(sample), 1))))"
      ],
      "execution_count": 27,
      "outputs": [
        {
          "output_type": "stream",
          "text": [
            "[(1, 'a'), (2, 'l'), (3, 'b'), (4, 'a'), (5, 't'), (6, 'r'), (7, 'o'), (8, 'z')]\n",
            "[0, 1, 4, 9, 16, 25, 36, 49, 64, 81, 100]\n",
            "[0, 4, 16]\n",
            "['a', 'll', 'bbb', 'aaaa', 'ttttt', 'rrrrrr', 'ooooooo', 'zzzzzzzz']\n",
            "[5.0, 4.5, 3.6666666666666665, 4.75, 5.2, 5.333333333333333, 5.0, 4.375, 4.888888888888889, 4.5]\n"
          ],
          "name": "stdout"
        }
      ]
    },
    {
      "metadata": {
        "id": "2aN0k4nVrPtO",
        "colab_type": "text"
      },
      "cell_type": "markdown",
      "source": [
        "**병합 생성자 함수**"
      ]
    },
    {
      "metadata": {
        "id": "6mZVeY_SqTRn",
        "colab_type": "code",
        "colab": {
          "base_uri": "https://localhost:8080/",
          "height": 146
        },
        "outputId": "150923af-6c7d-4ed0-af0c-f0deb2455155"
      },
      "cell_type": "code",
      "source": [
        "print(list(itertools.chain(\"ABC\", range(2))))\n",
        "print(list(itertools.chain(enumerate(\"ABC\"))))\n",
        "print(list(itertools.chain.from_iterable(enumerate(\"ABC\"))))\n",
        "\n",
        "print(list(zip(\"ABC\", range(5))))\n",
        "print(list(zip(\"ABC\", range(5), [10, 20, 30, 40])))\n",
        "\n",
        "print(list(itertools.zip_longest(\"ABC\", range(5))))\n",
        "print(list(itertools.zip_longest(\"ABC\", range(5), fillvalue=\"?\")))"
      ],
      "execution_count": 29,
      "outputs": [
        {
          "output_type": "stream",
          "text": [
            "['A', 'B', 'C', 0, 1]\n",
            "[(0, 'A'), (1, 'B'), (2, 'C')]\n",
            "[0, 'A', 1, 'B', 2, 'C']\n",
            "[('A', 0), ('B', 1), ('C', 2)]\n",
            "[('A', 0, 10), ('B', 1, 20), ('C', 2, 30)]\n",
            "[('A', 0), ('B', 1), ('C', 2), (None, 3), (None, 4)]\n",
            "[('A', 0), ('B', 1), ('C', 2), ('?', 3), ('?', 4)]\n"
          ],
          "name": "stdout"
        }
      ]
    },
    {
      "metadata": {
        "id": "vfizOc6prw4U",
        "colab_type": "code",
        "colab": {
          "base_uri": "https://localhost:8080/",
          "height": 109
        },
        "outputId": "6e7fb7ce-55e0-41d1-df69-9edab5dda036"
      },
      "cell_type": "code",
      "source": [
        "print(list(itertools.product(\"ABC\", range(2))))\n",
        "\n",
        "suits = \"spades hearts diamonds clubs\".split()\n",
        "print(list(itertools.product(\"AK\", suits)))\n",
        "print(list(itertools.product(\"ABC\")))\n",
        "print(list(itertools.product(\"ABC\", repeat=2)))\n",
        "print(list(itertools.product(range(2), repeat=3)))"
      ],
      "execution_count": 30,
      "outputs": [
        {
          "output_type": "stream",
          "text": [
            "[('A', 0), ('A', 1), ('B', 0), ('B', 1), ('C', 0), ('C', 1)]\n",
            "[('A', 'spades'), ('A', 'hearts'), ('A', 'diamonds'), ('A', 'clubs'), ('K', 'spades'), ('K', 'hearts'), ('K', 'diamonds'), ('K', 'clubs')]\n",
            "[('A',), ('B',), ('C',)]\n",
            "[('A', 'A'), ('A', 'B'), ('A', 'C'), ('B', 'A'), ('B', 'B'), ('B', 'C'), ('C', 'A'), ('C', 'B'), ('C', 'C')]\n",
            "[(0, 0, 0), (0, 0, 1), (0, 1, 0), (0, 1, 1), (1, 0, 0), (1, 0, 1), (1, 1, 0), (1, 1, 1)]\n"
          ],
          "name": "stdout"
        }
      ]
    },
    {
      "metadata": {
        "id": "i07lrg6dtuSZ",
        "colab_type": "code",
        "colab": {
          "base_uri": "https://localhost:8080/",
          "height": 164
        },
        "outputId": "a6e36646-f583-4881-cfbf-0998266a757f"
      },
      "cell_type": "code",
      "source": [
        "ct = itertools.count()\n",
        "\n",
        "print(next(ct))\n",
        "print(next(ct), next(ct), next(ct))\n",
        "print(list(itertools.islice(itertools.count(1, .3), 3)))\n",
        "\n",
        "cy = itertools.cycle(\"ABC\")\n",
        "print(next(cy))\n",
        "print(list(itertools.islice(cy, 7)))\n",
        "\n",
        "rp = itertools.repeat(7)\n",
        "print(next(rp), next(rp))\n",
        "\n",
        "print(list(itertools.repeat(8, 4)))\n",
        "print(list(map(operator.mul, range(11), itertools.repeat(5))))"
      ],
      "execution_count": 31,
      "outputs": [
        {
          "output_type": "stream",
          "text": [
            "0\n",
            "1 2 3\n",
            "[1, 1.3, 1.6]\n",
            "A\n",
            "['B', 'C', 'A', 'B', 'C', 'A', 'B']\n",
            "7 7\n",
            "[8, 8, 8, 8]\n",
            "[0, 5, 10, 15, 20, 25, 30, 35, 40, 45, 50]\n"
          ],
          "name": "stdout"
        }
      ]
    },
    {
      "metadata": {
        "id": "tZwE4-KRvKRY",
        "colab_type": "code",
        "colab": {
          "base_uri": "https://localhost:8080/",
          "height": 90
        },
        "outputId": "d81c6620-5aac-44d3-a210-59e0ec438323"
      },
      "cell_type": "code",
      "source": [
        "print(list(itertools.combinations(\"ABC\", 2)))\n",
        "print(list(itertools.combinations_with_replacement(\"ABC\", 2)))\n",
        "print(list(itertools.permutations(\"ABC\", 2)))\n",
        "print(list(itertools.product(\"ABC\", repeat=2)))"
      ],
      "execution_count": 33,
      "outputs": [
        {
          "output_type": "stream",
          "text": [
            "[('A', 'B'), ('A', 'C'), ('B', 'C')]\n",
            "[('A', 'A'), ('A', 'B'), ('A', 'C'), ('B', 'B'), ('B', 'C'), ('C', 'C')]\n",
            "[('A', 'B'), ('A', 'C'), ('B', 'A'), ('B', 'C'), ('C', 'A'), ('C', 'B')]\n",
            "[('A', 'A'), ('A', 'B'), ('A', 'C'), ('B', 'A'), ('B', 'B'), ('B', 'C'), ('C', 'A'), ('C', 'B'), ('C', 'C')]\n"
          ],
          "name": "stdout"
        }
      ]
    },
    {
      "metadata": {
        "id": "XI4tEo47xNo0",
        "colab_type": "code",
        "colab": {
          "base_uri": "https://localhost:8080/",
          "height": 256
        },
        "outputId": "97f94f87-c657-4614-9430-e62cf74bdbbc"
      },
      "cell_type": "code",
      "source": [
        "print(list(itertools.groupby(\"LLLLAAGGG\")))\n",
        "for char, group in itertools.groupby(\"LLLLAAGG\"):\n",
        "  print(char, '->', list(group))\n",
        "  \n",
        "  \n",
        "animals = ['duck', 'eagle', 'rat', 'giraffe', 'bear', 'bat', 'dolphin', 'shark', 'lion']\n",
        "animals.sort(key=len)\n",
        "print(animals)\n",
        "\n",
        "for length, group in itertools.groupby(animals, len):\n",
        "  print(length, '->', list(group))\n",
        "  \n",
        "for length, group in itertools.groupby(reversed(animals), len):\n",
        "  print(length, '->', list(group))"
      ],
      "execution_count": 34,
      "outputs": [
        {
          "output_type": "stream",
          "text": [
            "[('L', <itertools._grouper object at 0x7f224b0e4160>), ('A', <itertools._grouper object at 0x7f224b0e4128>), ('G', <itertools._grouper object at 0x7f224b0e4198>)]\n",
            "L -> ['L', 'L', 'L', 'L']\n",
            "A -> ['A', 'A']\n",
            "G -> ['G', 'G']\n",
            "['rat', 'bat', 'duck', 'bear', 'lion', 'eagle', 'shark', 'giraffe', 'dolphin']\n",
            "3 -> ['rat', 'bat']\n",
            "4 -> ['duck', 'bear', 'lion']\n",
            "5 -> ['eagle', 'shark']\n",
            "7 -> ['giraffe', 'dolphin']\n",
            "7 -> ['dolphin', 'giraffe']\n",
            "5 -> ['shark', 'eagle']\n",
            "4 -> ['lion', 'bear', 'duck']\n",
            "3 -> ['bat', 'rat']\n"
          ],
          "name": "stdout"
        }
      ]
    },
    {
      "metadata": {
        "id": "ATo2b4Y2yiIR",
        "colab_type": "code",
        "colab": {
          "base_uri": "https://localhost:8080/",
          "height": 90
        },
        "outputId": "8cca63ed-b736-413c-8f43-4fc9a8c8f796"
      },
      "cell_type": "code",
      "source": [
        "print(list(itertools.tee(\"ABC\"))) # 입력된 하나의 반복형에 대한 여러 제너레이터를 생성하고, 각 제너레이터는 독립적으로 항목들을 반복한다.\n",
        "\n",
        "g1, g2 = itertools.tee(\"ABC\")\n",
        "next(g1)\n",
        "next(g2)\n",
        "next(g2)\n",
        "\n",
        "print(list(g1))\n",
        "print(list(g2))\n",
        "\n",
        "print(list(zip(*itertools.tee(\"ABC\"))))\n"
      ],
      "execution_count": 35,
      "outputs": [
        {
          "output_type": "stream",
          "text": [
            "[<itertools._tee object at 0x7f224b0de6c8>, <itertools._tee object at 0x7f224b0ff8c8>]\n",
            "['B', 'C']\n",
            "['C']\n",
            "[('A', 'A'), ('B', 'B'), ('C', 'C')]\n"
          ],
          "name": "stdout"
        }
      ]
    },
    {
      "metadata": {
        "id": "n8LvbetIz9An",
        "colab_type": "text"
      },
      "cell_type": "markdown",
      "source": [
        "### 14.10. 파이썬 3.3의 새로운 구문 : yield from\n",
        "\n"
      ]
    },
    {
      "metadata": {
        "id": "2Vq6z6wv0f7N",
        "colab_type": "code",
        "colab": {
          "base_uri": "https://localhost:8080/",
          "height": 35
        },
        "outputId": "4e64484d-0370-4c79-845f-e2eaddf9247d"
      },
      "cell_type": "code",
      "source": [
        "def chain(*iterables):\n",
        "  for it in iterables:\n",
        "    for i in it:\n",
        "      yield i\n",
        "      \n",
        "      \n",
        "s = \"ABC\"\n",
        "t = tuple(range(3))\n",
        "list(chain(s, t))"
      ],
      "execution_count": 36,
      "outputs": [
        {
          "output_type": "execute_result",
          "data": {
            "text/plain": [
              "['A', 'B', 'C', 0, 1, 2]"
            ]
          },
          "metadata": {
            "tags": []
          },
          "execution_count": 36
        }
      ]
    },
    {
      "metadata": {
        "id": "xkR7W3aT0s9l",
        "colab_type": "code",
        "colab": {
          "base_uri": "https://localhost:8080/",
          "height": 35
        },
        "outputId": "19533ead-8cfe-4f33-9ed1-271471d3098b"
      },
      "cell_type": "code",
      "source": [
        "'''\n",
        "yield from 문은 내부 for 루프를 완전히 대체한다. \n",
        "'''\n",
        "\n",
        "def chain(*iterables):\n",
        "  for i in iterables:\n",
        "    yield from i\n",
        "    \n",
        "    \n",
        "list(chain(s, t))"
      ],
      "execution_count": 37,
      "outputs": [
        {
          "output_type": "execute_result",
          "data": {
            "text/plain": [
              "['A', 'B', 'C', 0, 1, 2]"
            ]
          },
          "metadata": {
            "tags": []
          },
          "execution_count": 37
        }
      ]
    },
    {
      "metadata": {
        "id": "qdyQXKvu18gE",
        "colab_type": "text"
      },
      "cell_type": "markdown",
      "source": [
        "### 14.11. 반복형을 리듀스하는 함수\n",
        "\n",
        "반복형을 입력받아 하나의 값을 반환하는 함수들을 흔히 '리듀스', '폴딩', '누적'함수라고 한다. "
      ]
    },
    {
      "metadata": {
        "id": "316YzgBA2SLl",
        "colab_type": "code",
        "colab": {
          "base_uri": "https://localhost:8080/",
          "height": 182
        },
        "outputId": "a10066a1-7760-46b3-8ce1-3851f5a9e484"
      },
      "cell_type": "code",
      "source": [
        "print(all([1, 2, 3]))\n",
        "print(all([1, 0, 3]))\n",
        "print(all([]))\n",
        "print(any([1, 2, 3]))\n",
        "print(any([1, 0, 3]))\n",
        "print(any([0, 0.0]))\n",
        "print(any([]))\n",
        "\n",
        "g = (n for n in [0, 0.0, 7, 8])\n",
        "print(any(g))\n",
        "print(next(g))"
      ],
      "execution_count": 38,
      "outputs": [
        {
          "output_type": "stream",
          "text": [
            "True\n",
            "False\n",
            "True\n",
            "True\n",
            "True\n",
            "False\n",
            "False\n",
            "True\n",
            "8\n"
          ],
          "name": "stdout"
        }
      ]
    },
    {
      "metadata": {
        "id": "as3mK4v43npy",
        "colab_type": "text"
      },
      "cell_type": "markdown",
      "source": [
        "### 14.12. iter() 함수 들여다보기\n",
        "\n"
      ]
    },
    {
      "metadata": {
        "id": "OpkhLc5C2xOi",
        "colab_type": "code",
        "colab": {}
      },
      "cell_type": "code",
      "source": [
        "def d6():\n",
        "  return randint(1, 6)\n",
        "\n",
        "d6_iter = iter(d6, 1) # 두번째 인수는 구분 표시로, 콜러블에서 이 값이 반환되면 StopIteration 예외가 발생한다.\n",
        "print(d6_iter)\n",
        "\n",
        "for roll in d6_iter:\n",
        "  print(roll)"
      ],
      "execution_count": 0,
      "outputs": []
    }
  ]
}