{
  "nbformat": 4,
  "nbformat_minor": 0,
  "metadata": {
    "colab": {
      "name": "09_Pythonic Object.ipynb",
      "version": "0.3.2",
      "provenance": [],
      "collapsed_sections": [],
      "include_colab_link": true
    },
    "kernelspec": {
      "name": "python3",
      "display_name": "Python 3"
    }
  },
  "cells": [
    {
      "cell_type": "markdown",
      "metadata": {
        "id": "view-in-github",
        "colab_type": "text"
      },
      "source": [
        "[View in Colaboratory](https://colab.research.google.com/github/ahracho/TIL/blob/master/Fluect_Python/09_Pythonic_Object.ipynb)"
      ]
    },
    {
      "metadata": {
        "id": "TXm3qhRXGY32",
        "colab_type": "text"
      },
      "cell_type": "markdown",
      "source": [
        "## 9. 파이썬스러운 객체\n",
        "\n",
        "파이썬 데이터 모델 덕분에 사용자가 정의한 자료형도 내장 자료형과 마찬가지고 자연스럽게 동작할 수 있다. 상속하지 않고도 덕타이핑 메커니즘을 통해 이 모든 것이 가능하다. 단지 객체에 필요한 메서드를 구현하면 기대한 대로 동작한다. \n",
        "\n",
        "이번 장에서는 파이썬 객체에서 흔히 볼 수 있는 여러가지 특별 메서드를 구현하는 방법을 보여준다.\n",
        "- repr(), bytes() 등 객체를 다른 방식으로 표현하는 내장 함수의 지원\n",
        "- 클래스 메서드로 대안 생성사 구현\n",
        "- format() 내장 함수와 str.format() 메서드에서 사용하는 포맷 언어 확장\n",
        "- 읽기 전용 접근만 허용하는 속성 제공\n",
        "- 집합 및 딕셔너리 키로 사용할 수 있도록 객체를 해시 가능하게 만들기\n",
        "- slots를 이용해서 메모리 절약하기\n",
        "\n",
        "\n",
        "### 9.1. 객체 표현\n",
        "\n",
        "- repr() : 객체를 개발자가 보고자 하는 형태로 표현한 문자열로 반환\n",
        "- str() : 객체를 사용자가 보고자 하는 형태로 표현한 문자열로 반환\n",
        "\n",
        "### 9.2. 벡터 클래스의 부활\n",
        "\n"
      ]
    },
    {
      "metadata": {
        "id": "GnwbS_V4GV4C",
        "colab_type": "code",
        "colab": {}
      },
      "cell_type": "code",
      "source": [
        "from array import array\n",
        "import math\n",
        "\n",
        "class Vector2d:\n",
        "  typecode = 'd'\n",
        "  \n",
        "  def __init__(self, x, y):\n",
        "    self.x = float(x)\n",
        "    self.y = float(y)\n",
        "    \n",
        "  def __iter__(self):\n",
        "    return (i for i in (self.x, self.y))\n",
        "  \n",
        "  def __repr__(self):\n",
        "    class_name = type(self).__name__\n",
        "    return \"{}({!r}, {!r})\".format(class_name, *self)\n",
        "  \n",
        "  def __str__(self):\n",
        "    return str(tuple(self))\n",
        "  \n",
        "  def __bytes__(self):\n",
        "    return (bytes([ord(self.typecode)])+bytes(array(self.typecode, self)))\n",
        "  \n",
        "  def __eq__(self, other):\n",
        "    return tuple(self) == tuple(other)\n",
        "  \n",
        "  def __abs__(self):\n",
        "    return math.hypot(self.x, self.y)\n",
        "  \n",
        "  def __bool__(self):\n",
        "    return bool(abs(self))\n",
        "   "
      ],
      "execution_count": 0,
      "outputs": []
    },
    {
      "metadata": {
        "id": "EKOrU815ynWD",
        "colab_type": "text"
      },
      "cell_type": "markdown",
      "source": [
        "### 9.3. 대안 생성자\n",
        "\n",
        "Vector2d를 bytes로 변환하는 메서드가 있으니, bytes를 Vector2d로 변환하는 메서드도 있어야 한다.  "
      ]
    },
    {
      "metadata": {
        "id": "2T0r1krkNPzT",
        "colab_type": "code",
        "colab": {
          "base_uri": "https://localhost:8080/",
          "height": 72
        },
        "outputId": "fbc650d7-0f11-40b9-c7a2-69fe664be7d8"
      },
      "cell_type": "code",
      "source": [
        "@classmethod\n",
        "def frombytes(cls, octets):\n",
        "  typecode = chr(octets[0])\n",
        "  memv = memoryview(octets[1:].cast(typecode))\n",
        "  return cls(*memv)"
      ],
      "execution_count": 0,
      "outputs": [
        {
          "output_type": "stream",
          "text": [
            "True\n",
            "True\n",
            "False\n"
          ],
          "name": "stdout"
        }
      ]
    },
    {
      "metadata": {
        "id": "VJDxZ2j2IlWg",
        "colab_type": "text"
      },
      "cell_type": "markdown",
      "source": [
        "### 9.4. @classmethod와 @staticmethod\n",
        "\n",
        "@classmethod 데커레이터가 붙으면 객체가 아닌 클래스에 연산을 수행하는 메서드를 정의한다. @classmethod는 메서드가 호출되는 방식을 변경해서 클래스 자체를 첫번째 인수로 받게 만들고 대안 생성자를 구현하기 위해 주로 사용된다. \n",
        "\n",
        "@staticmethod 데커레이터는 메서드가 특별한 첫번째 인수를 받지 않도록 메서드를 변경한다. 본질적으로 정적 메서드는 모듈 대신 클래스 본체 안에 정의된 평범한 함수일 뿐이다. \n",
        "\n",
        "\n",
        "@classmethod는 쓰임새가 많지만, @staticmethod는 잘 모르겠다. 클래스와 함께 작동하지 않는 함수를 정의하려면, 함수를 모듈에 정의하면 된다."
      ]
    },
    {
      "metadata": {
        "id": "m4SJ8Rx6IU-O",
        "colab_type": "code",
        "colab": {
          "base_uri": "https://localhost:8080/",
          "height": 90
        },
        "outputId": "17944f50-c8c5-4e54-9d2c-03fe6b213ae3"
      },
      "cell_type": "code",
      "source": [
        "class Demo:\n",
        "  @classmethod\n",
        "  def klassmeth(*args):\n",
        "    return args\n",
        "  @staticmethod\n",
        "  def statmeth(*args):\n",
        "    return args\n",
        "  \n",
        "  \n",
        "print(Demo.klassmeth()) # (<class '__main__.Demo'>,) 를 첫번째 인수로 받는다\n",
        "print(Demo.klassmeth('spam'))\n",
        "print(Demo.statmeth())\n",
        "print(Demo.statmeth('spam'))"
      ],
      "execution_count": 1,
      "outputs": [
        {
          "output_type": "stream",
          "text": [
            "(<class '__main__.Demo'>,)\n",
            "(<class '__main__.Demo'>, 'spam')\n",
            "()\n",
            "('spam',)\n"
          ],
          "name": "stdout"
        }
      ]
    },
    {
      "metadata": {
        "id": "KLW7sOfND4t1",
        "colab_type": "text"
      },
      "cell_type": "markdown",
      "source": [
        "### 9.5. 포맷된 출력\n"
      ]
    },
    {
      "metadata": {
        "id": "cOSvQAOIFeLs",
        "colab_type": "code",
        "colab": {
          "base_uri": "https://localhost:8080/",
          "height": 72
        },
        "outputId": "02ad9a73-1e78-47bd-c175-82ba2377f44d"
      },
      "cell_type": "code",
      "source": [
        "br1 = 1/2.43\n",
        "print(br1)\n",
        "\n",
        "print(format(br1, '0.4f'))\n",
        "print('1 BRL = {rate:0.2f} USD'.format(rate=br1))"
      ],
      "execution_count": 2,
      "outputs": [
        {
          "output_type": "stream",
          "text": [
            "0.4115226337448559\n",
            "0.4115\n",
            "1 BRL = 0.41 USD\n"
          ],
          "name": "stdout"
        }
      ]
    },
    {
      "metadata": {
        "id": "sHTID4xnmqBs",
        "colab_type": "code",
        "colab": {
          "base_uri": "https://localhost:8080/",
          "height": 54
        },
        "outputId": "5d033c9b-c166-49b6-f4df-dfd222c8e107"
      },
      "cell_type": "code",
      "source": [
        "# 몇몇 내장 자료형은 포맷 명시 간이 언어에 자신만의 고유한 표현 코드를 가지고 있다. \n",
        "\n",
        "print(format(42, 'b')) # int는 b와 x 지원\n",
        "print(format(2/3, '.1%')) # float은 f와 % 지원\n"
      ],
      "execution_count": 3,
      "outputs": [
        {
          "output_type": "stream",
          "text": [
            "101010\n",
            "66.7%\n"
          ],
          "name": "stdout"
        }
      ]
    },
    {
      "metadata": {
        "id": "jZ2ECP3InFio",
        "colab_type": "code",
        "colab": {
          "base_uri": "https://localhost:8080/",
          "height": 54
        },
        "outputId": "357ff4cd-80e1-4233-89c3-7726a41bd6cf"
      },
      "cell_type": "code",
      "source": [
        "# 각 클래스가 format_spec 인수를 자신이 원하는 대로 해석에서 확장할 수 있다.\n",
        "from datetime import datetime\n",
        "\n",
        "now = datetime.now()\n",
        "print(format(now, \"%H:%M:%S\")) # 24시간 표현\n",
        "\n",
        "\"It's now {:%I:%M %p}\".format(now) # 12시간 표현"
      ],
      "execution_count": 4,
      "outputs": [
        {
          "output_type": "stream",
          "text": [
            "04:21:08\n"
          ],
          "name": "stdout"
        },
        {
          "output_type": "execute_result",
          "data": {
            "text/plain": [
              "\"It's now 04:21 AM\""
            ]
          },
          "metadata": {
            "tags": []
          },
          "execution_count": 4
        }
      ]
    },
    {
      "metadata": {
        "id": "dEEyIDmYAS42",
        "colab_type": "text"
      },
      "cell_type": "markdown",
      "source": [
        "클래스에서 __format__() 메서드를 정의하지 않으면, object에서 상속받은 메서드가 str()를 반환한다. 하지만 __format__()을 직접 호출하면 에러가 발생한다. "
      ]
    },
    {
      "metadata": {
        "id": "Tx18r5XgOewv",
        "colab_type": "code",
        "colab": {}
      },
      "cell_type": "code",
      "source": [
        "def __format__(self, fmt_spec=''):\n",
        "  if fmt_spce.endswith('p'):\n",
        "    fmt_spec = fmt_spec[:-1]\n",
        "    coords = (abs(self), self.angle())\n",
        "    outer_fmt = '<{}, {}>'\n",
        "  else:\n",
        "    coords = self\n",
        "    outer_fmt = '({}, {})'\n",
        "    \n",
        "  components = (format(c, fmt_spec) for c in coords)\n",
        "  return outer_fmt.format(*components)"
      ],
      "execution_count": 0,
      "outputs": []
    },
    {
      "metadata": {
        "id": "PdX9UgrCH0qK",
        "colab_type": "text"
      },
      "cell_type": "markdown",
      "source": [
        "### 9.6. 해시 가능한 Vector2d\n",
        "\n",
        "Vector2d를 해시 가능하게 만들려면 __hash__() 메서드를 구현해야 한다. 또한, 해시 가능한 불변형의 속성을 가져야 한다. 따라서 x와 y를 읽기 전용 속성으로 만들어보자."
      ]
    },
    {
      "metadata": {
        "id": "oAXaYK_yqsVr",
        "colab_type": "code",
        "colab": {}
      },
      "cell_type": "code",
      "source": [
        "class Vector2d:\n",
        "  typecode = 'd'\n",
        "  \n",
        "  def __init__(self, x, y):\n",
        "    self.__x = float(x)\n",
        "    self.__y = float(y)\n",
        "    \n",
        "  @property\n",
        "  def x(self):\n",
        "    return self.__x\n",
        "  \n",
        "  @property\n",
        "  def y(self):\n",
        "    return self.__y\n",
        "    \n",
        "  def __iter__(self):\n",
        "    return (i for i in (self.x, self.y))\n",
        "  \n",
        "  \n",
        "  def __hash__(self):\n",
        "    return hash(self.x)^hash(self.y)\n",
        "  "
      ],
      "execution_count": 0,
      "outputs": []
    },
    {
      "metadata": {
        "id": "aIQOTlz6PLVy",
        "colab_type": "text"
      },
      "cell_type": "markdown",
      "source": [
        "### 9.7. 파이썬에서의 비공개 속성과 보호된 속성\n",
        "\n",
        "private 수정자가 없어 비공개 변수를 생성할 수 있는 방법은 없지만, 서브클래스에서 '비공개' 성격의 속성을 실수로 변경하지 못하게 하는 간단한 메커니즘이 있다. \n",
        "\n",
        "속성명을 \\_\\_mood처럼 두개의 언더바로 시작하고 언더바 없이 또는 하나의 언더바로 끝나도록 정의하면, 파이썬은 언더바와 클래스명을 변수명 앞에 붙여서 객체의 dict에 저장한다. \\_\\_modd는 \\_Dog\\_\\_mood가 된다. 이러한 파이썬 언어 기능을 이름장식(Name Mangling)이라고 한다.\n",
        "\n",
        "이름 장식은 안전을 제공하지만, 보안 기능은 아니다. "
      ]
    },
    {
      "metadata": {
        "id": "7AI1SkdqOBRa",
        "colab_type": "text"
      },
      "cell_type": "markdown",
      "source": [
        "### 9.8. __slots__ 클래스 속성으로 공간 절약하기\n",
        "\n",
        "속성이 몇개 없는 수백만 개의 객체를 다룬다면, __slots__ 클래스 속성을 이용해서 메모리 사용량을 엄청나게 줄일 수 있다. __slots__ 속성은 파이썬 인터프리터가 객체 속성을 딕셔너리 대신 튜플에 저장하게 만든다. \n",
        "> 슈퍼클래스에서 상속받은 __slots__속성은 서브클래스에 영향을 미치지 않고 각 클래스에서 개별적으로 정의된 속성만 고려한다.  \n",
        "\n"
      ]
    },
    {
      "metadata": {
        "id": "GiuGxUL4J54I",
        "colab_type": "code",
        "colab": {}
      },
      "cell_type": "code",
      "source": [
        "class Vector2d:\n",
        "  __slots__ = ('__x', '__y')\n",
        "  typecode = 'd'"
      ],
      "execution_count": 0,
      "outputs": []
    },
    {
      "metadata": {
        "id": "_DoVouuVx6qF",
        "colab_type": "text"
      },
      "cell_type": "markdown",
      "source": [
        "#### 9.8.1. __slots__ 사용시 주의할 점\n",
        "- 인터프리터는 상속된 __slots__을 무시하므로 각 클래스마다 정의해야 한다.\n",
        "- __dict__를 __slots__에 추가하지 않는 한, 객체는 __slots__에 나열된 속성만 가질 수 있다. \n",
        "- __weakref__를 __slots__에 추가하지 않으면 객체가 약한 참조의 대상이 될 수 없다."
      ]
    },
    {
      "metadata": {
        "id": "1VHJ9AXWzviC",
        "colab_type": "code",
        "colab": {}
      },
      "cell_type": "code",
      "source": [
        ""
      ],
      "execution_count": 0,
      "outputs": []
    }
  ]
}